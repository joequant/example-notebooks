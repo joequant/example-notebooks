{
 "cells": [
  {
   "cell_type": "code",
   "execution_count": 1,
   "metadata": {},
   "outputs": [],
   "source": [
    "from vega import VegaLite"
   ]
  },
  {
   "cell_type": "code",
   "execution_count": 2,
   "metadata": {},
   "outputs": [
    {
     "data": {
      "text/html": [
       "<div>\n",
       "<style scoped>\n",
       "    .dataframe tbody tr th:only-of-type {\n",
       "        vertical-align: middle;\n",
       "    }\n",
       "\n",
       "    .dataframe tbody tr th {\n",
       "        vertical-align: top;\n",
       "    }\n",
       "\n",
       "    .dataframe thead th {\n",
       "        text-align: right;\n",
       "    }\n",
       "</style>\n",
       "<table border=\"1\" class=\"dataframe\">\n",
       "  <thead>\n",
       "    <tr style=\"text-align: right;\">\n",
       "      <th></th>\n",
       "      <th>category</th>\n",
       "      <th>detail</th>\n",
       "      <th>amount</th>\n",
       "    </tr>\n",
       "  </thead>\n",
       "  <tbody>\n",
       "    <tr>\n",
       "      <th>0</th>\n",
       "      <td>UNIVERSITY OF MINNESOTA</td>\n",
       "      <td>Higher Education Asset Preservation (HEAPR) 1</td>\n",
       "      <td>42500000</td>\n",
       "    </tr>\n",
       "    <tr>\n",
       "      <th>1</th>\n",
       "      <td>UNIVERSITY OF MINNESOTA</td>\n",
       "      <td>Minneapolis; Tate Laboratory Renovation</td>\n",
       "      <td>56700000</td>\n",
       "    </tr>\n",
       "    <tr>\n",
       "      <th>2</th>\n",
       "      <td>UNIVERSITY OF MINNESOTA</td>\n",
       "      <td>Crookston; Wellness Center</td>\n",
       "      <td>10000000</td>\n",
       "    </tr>\n",
       "    <tr>\n",
       "      <th>3</th>\n",
       "      <td>UNIVERSITY OF MINNESOTA</td>\n",
       "      <td>Research Laboratories</td>\n",
       "      <td>8667000</td>\n",
       "    </tr>\n",
       "    <tr>\n",
       "      <th>4</th>\n",
       "      <td>UNIVERSITY OF MINNESOTA</td>\n",
       "      <td>Duluth; Chemical Sciences and Advanced Materia...</td>\n",
       "      <td>1500000</td>\n",
       "    </tr>\n",
       "  </tbody>\n",
       "</table>\n",
       "</div>"
      ],
      "text/plain": [
       "                  category                                             detail  \\\n",
       "0  UNIVERSITY OF MINNESOTA      Higher Education Asset Preservation (HEAPR) 1   \n",
       "1  UNIVERSITY OF MINNESOTA            Minneapolis; Tate Laboratory Renovation   \n",
       "2  UNIVERSITY OF MINNESOTA                         Crookston; Wellness Center   \n",
       "3  UNIVERSITY OF MINNESOTA                              Research Laboratories   \n",
       "4  UNIVERSITY OF MINNESOTA  Duluth; Chemical Sciences and Advanced Materia...   \n",
       "\n",
       "     amount  \n",
       "0  42500000  \n",
       "1  56700000  \n",
       "2  10000000  \n",
       "3   8667000  \n",
       "4   1500000  "
      ]
     },
     "execution_count": 2,
     "metadata": {},
     "output_type": "execute_result"
    }
   ],
   "source": [
    "import pandas as pd\n",
    "from altair import Chart, X, Y, Axis, EncodingSortField, datum\n",
    "\n",
    "budget = pd.read_csv(\"https://github.com/chris1610/pbpython/raw/master/data/mn-budget-detail-2014.csv\")\n",
    "budget.head()\n"
   ]
  },
  {
   "cell_type": "code",
   "execution_count": 3,
   "metadata": {},
   "outputs": [],
   "source": [
    "budget_top_10 = budget.sort_values(by='amount',ascending=False)[:10]\n"
   ]
  },
  {
   "cell_type": "code",
   "execution_count": 4,
   "metadata": {},
   "outputs": [
    {
     "data": {
      "application/vnd.vegalite.v2+json": {
       "$schema": "https://vega.github.io/schema/vega-lite/v2.6.0.json",
       "config": {
        "view": {
         "height": 300,
         "width": 400
        }
       },
       "data": {
        "name": "data-91719760953d89b39d4d79f0cc1ae021"
       },
       "datasets": {
        "data-91719760953d89b39d4d79f0cc1ae021": [
         {
          "amount": 126300000,
          "category": "ADMINISTRATION",
          "detail": "Capitol Renovation and Restoration Continued"
         },
         {
          "amount": 56700000,
          "category": "UNIVERSITY OF MINNESOTA",
          "detail": "Minneapolis; Tate Laboratory Renovation"
         },
         {
          "amount": 56317000,
          "category": "HUMAN SERVICES",
          "detail": "Minnesota Security Hospital - St. Peter"
         },
         {
          "amount": 42500000,
          "category": "UNIVERSITY OF MINNESOTA",
          "detail": "Higher Education Asset Preservation (HEAPR) 1"
         },
         {
          "amount": 42500000,
          "category": "MINNESOTA STATE COLLEGES AND UNIVERSITIES",
          "detail": "Higher Education Asset Preservation (HEAPR) 2"
         },
         {
          "amount": 35865000,
          "category": "MINNESOTA STATE COLLEGES AND UNIVERSITIES",
          "detail": "Metropolitan State University"
         },
         {
          "amount": 25818000,
          "category": "MINNESOTA STATE COLLEGES AND UNIVERSITIES",
          "detail": "Minnesota State University - Mankato"
         },
         {
          "amount": 24356000,
          "category": "TRANSPORTATION",
          "detail": "Local Road Improvement Fund Grants"
         },
         {
          "amount": 21500000,
          "category": "EMPLOYMENT AND ECONOMIC DEVELOPMENT",
          "detail": "Minneapolis - Nicollet Mall"
         },
         {
          "amount": 20000000,
          "category": "MINNESOTA HOUSING FINANCE AGENCY",
          "detail": "MN Housing Finance Agency"
         }
        ]
       },
       "encoding": {
        "x": {
         "field": "detail",
         "type": "nominal"
        },
        "y": {
         "field": "amount",
         "type": "quantitative"
        }
       },
       "mark": "bar"
      },
      "image/png": "[encoded data removed]",
      "text/plain": [
       "<VegaLite 2 object>\n",
       "\n",
       "If you see this message, it means the renderer has not been properly enabled\n",
       "for the frontend that you are using. For more information, see\n",
       "https://altair-viz.github.io/user_guide/troubleshooting.html\n"
      ]
     },
     "execution_count": 4,
     "metadata": {},
     "output_type": "execute_result"
    }
   ],
   "source": [
    "Chart(budget_top_10).mark_bar().encode(x='detail', y='amount')"
   ]
  },
  {
   "cell_type": "code",
   "execution_count": 5,
   "metadata": {},
   "outputs": [
    {
     "data": {
      "application/vnd.vegalite.v2+json": {
       "$schema": "https://vega.github.io/schema/vega-lite/v2.6.0.json",
       "config": {
        "view": {
         "height": 300,
         "width": 400
        }
       },
       "data": {
        "name": "data-91719760953d89b39d4d79f0cc1ae021"
       },
       "datasets": {
        "data-91719760953d89b39d4d79f0cc1ae021": [
         {
          "amount": 126300000,
          "category": "ADMINISTRATION",
          "detail": "Capitol Renovation and Restoration Continued"
         },
         {
          "amount": 56700000,
          "category": "UNIVERSITY OF MINNESOTA",
          "detail": "Minneapolis; Tate Laboratory Renovation"
         },
         {
          "amount": 56317000,
          "category": "HUMAN SERVICES",
          "detail": "Minnesota Security Hospital - St. Peter"
         },
         {
          "amount": 42500000,
          "category": "UNIVERSITY OF MINNESOTA",
          "detail": "Higher Education Asset Preservation (HEAPR) 1"
         },
         {
          "amount": 42500000,
          "category": "MINNESOTA STATE COLLEGES AND UNIVERSITIES",
          "detail": "Higher Education Asset Preservation (HEAPR) 2"
         },
         {
          "amount": 35865000,
          "category": "MINNESOTA STATE COLLEGES AND UNIVERSITIES",
          "detail": "Metropolitan State University"
         },
         {
          "amount": 25818000,
          "category": "MINNESOTA STATE COLLEGES AND UNIVERSITIES",
          "detail": "Minnesota State University - Mankato"
         },
         {
          "amount": 24356000,
          "category": "TRANSPORTATION",
          "detail": "Local Road Improvement Fund Grants"
         },
         {
          "amount": 21500000,
          "category": "EMPLOYMENT AND ECONOMIC DEVELOPMENT",
          "detail": "Minneapolis - Nicollet Mall"
         },
         {
          "amount": 20000000,
          "category": "MINNESOTA HOUSING FINANCE AGENCY",
          "detail": "MN Housing Finance Agency"
         }
        ]
       },
       "encoding": {
        "x": {
         "field": "amount",
         "type": "quantitative"
        },
        "y": {
         "field": "detail",
         "type": "nominal"
        }
       },
       "mark": "bar"
      },
      "image/png": "[encoded data removed]",
      "text/plain": [
       "<VegaLite 2 object>\n",
       "\n",
       "If you see this message, it means the renderer has not been properly enabled\n",
       "for the frontend that you are using. For more information, see\n",
       "https://altair-viz.github.io/user_guide/troubleshooting.html\n"
      ]
     },
     "execution_count": 5,
     "metadata": {},
     "output_type": "execute_result"
    }
   ],
   "source": [
    "Chart(budget_top_10).mark_bar().encode(y='detail', x='amount')"
   ]
  },
  {
   "cell_type": "code",
   "execution_count": 6,
   "metadata": {},
   "outputs": [
    {
     "data": {
      "application/vnd.vegalite.v2+json": {
       "$schema": "https://vega.github.io/schema/vega-lite/v2.6.0.json",
       "config": {
        "view": {
         "height": 300,
         "width": 400
        }
       },
       "data": {
        "name": "data-91719760953d89b39d4d79f0cc1ae021"
       },
       "datasets": {
        "data-91719760953d89b39d4d79f0cc1ae021": [
         {
          "amount": 126300000,
          "category": "ADMINISTRATION",
          "detail": "Capitol Renovation and Restoration Continued"
         },
         {
          "amount": 56700000,
          "category": "UNIVERSITY OF MINNESOTA",
          "detail": "Minneapolis; Tate Laboratory Renovation"
         },
         {
          "amount": 56317000,
          "category": "HUMAN SERVICES",
          "detail": "Minnesota Security Hospital - St. Peter"
         },
         {
          "amount": 42500000,
          "category": "UNIVERSITY OF MINNESOTA",
          "detail": "Higher Education Asset Preservation (HEAPR) 1"
         },
         {
          "amount": 42500000,
          "category": "MINNESOTA STATE COLLEGES AND UNIVERSITIES",
          "detail": "Higher Education Asset Preservation (HEAPR) 2"
         },
         {
          "amount": 35865000,
          "category": "MINNESOTA STATE COLLEGES AND UNIVERSITIES",
          "detail": "Metropolitan State University"
         },
         {
          "amount": 25818000,
          "category": "MINNESOTA STATE COLLEGES AND UNIVERSITIES",
          "detail": "Minnesota State University - Mankato"
         },
         {
          "amount": 24356000,
          "category": "TRANSPORTATION",
          "detail": "Local Road Improvement Fund Grants"
         },
         {
          "amount": 21500000,
          "category": "EMPLOYMENT AND ECONOMIC DEVELOPMENT",
          "detail": "Minneapolis - Nicollet Mall"
         },
         {
          "amount": 20000000,
          "category": "MINNESOTA HOUSING FINANCE AGENCY",
          "detail": "MN Housing Finance Agency"
         }
        ]
       },
       "encoding": {
        "color": {
         "field": "category",
         "type": "nominal"
        },
        "x": {
         "field": "detail",
         "type": "nominal"
        },
        "y": {
         "field": "amount",
         "type": "quantitative"
        }
       },
       "mark": "bar"
      },
      "image/png": "[encoded data removed]",
      "text/plain": [
       "<VegaLite 2 object>\n",
       "\n",
       "If you see this message, it means the renderer has not been properly enabled\n",
       "for the frontend that you are using. For more information, see\n",
       "https://altair-viz.github.io/user_guide/troubleshooting.html\n"
      ]
     },
     "execution_count": 6,
     "metadata": {},
     "output_type": "execute_result"
    }
   ],
   "source": [
    "Chart(budget_top_10).mark_bar().encode(\n",
    "    x=X('detail'),\n",
    "    y=Y('amount'),\n",
    "    color='category')"
   ]
  },
  {
   "cell_type": "code",
   "execution_count": 7,
   "metadata": {},
   "outputs": [
    {
     "data": {
      "application/vnd.vegalite.v2+json": {
       "$schema": "https://vega.github.io/schema/vega-lite/v2.6.0.json",
       "config": {
        "view": {
         "height": 300,
         "width": 400
        }
       },
       "data": {
        "name": "data-35db384a9ffbfff9422a9389d1c7d7f2"
       },
       "datasets": {
        "data-35db384a9ffbfff9422a9389d1c7d7f2": [
         {
          "amount": 42500000,
          "category": "UNIVERSITY OF MINNESOTA",
          "detail": "Higher Education Asset Preservation (HEAPR) 1"
         },
         {
          "amount": 56700000,
          "category": "UNIVERSITY OF MINNESOTA",
          "detail": "Minneapolis; Tate Laboratory Renovation"
         },
         {
          "amount": 10000000,
          "category": "UNIVERSITY OF MINNESOTA",
          "detail": "Crookston; Wellness Center"
         },
         {
          "amount": 8667000,
          "category": "UNIVERSITY OF MINNESOTA",
          "detail": "Research Laboratories"
         },
         {
          "amount": 1500000,
          "category": "UNIVERSITY OF MINNESOTA",
          "detail": "Duluth; Chemical Sciences and Advanced Materials Building"
         },
         {
          "amount": 42500000,
          "category": "MINNESOTA STATE COLLEGES AND UNIVERSITIES",
          "detail": "Higher Education Asset Preservation (HEAPR) 2"
         },
         {
          "amount": 35865000,
          "category": "MINNESOTA STATE COLLEGES AND UNIVERSITIES",
          "detail": "Metropolitan State University"
         },
         {
          "amount": 13790000,
          "category": "MINNESOTA STATE COLLEGES AND UNIVERSITIES",
          "detail": "Bemidji State University"
         },
         {
          "amount": 5266000,
          "category": "MINNESOTA STATE COLLEGES AND UNIVERSITIES",
          "detail": "Lake Superior College"
         },
         {
          "amount": 3600000,
          "category": "MINNESOTA STATE COLLEGES AND UNIVERSITIES",
          "detail": "Minneapolis Community and Technical College"
         },
         {
          "amount": 1500000,
          "category": "MINNESOTA STATE COLLEGES AND UNIVERSITIES",
          "detail": "St. Paul College"
         },
         {
          "amount": 1700000,
          "category": "MINNESOTA STATE COLLEGES AND UNIVERSITIES",
          "detail": "Minnesota State College - Southeast Technical"
         },
         {
          "amount": 4234000,
          "category": "MINNESOTA STATE COLLEGES AND UNIVERSITIES",
          "detail": "Central Lakes College - Staples"
         },
         {
          "amount": 25818000,
          "category": "MINNESOTA STATE COLLEGES AND UNIVERSITIES",
          "detail": "Minnesota State University - Mankato"
         },
         {
          "amount": 6544000,
          "category": "MINNESOTA STATE COLLEGES AND UNIVERSITIES",
          "detail": "Minnesota State Community and Technical College - Moorhead"
         },
         {
          "amount": 1000000,
          "category": "MINNESOTA STATE COLLEGES AND UNIVERSITIES",
          "detail": "Rochester Community and Technical College"
         },
         {
          "amount": 2020000,
          "category": "MINNESOTA STATE COLLEGES AND UNIVERSITIES",
          "detail": "Century College"
         },
         {
          "amount": 5864000,
          "category": "MINNESOTA STATE COLLEGES AND UNIVERSITIES",
          "detail": "Northland Community and Technical College"
         },
         {
          "amount": 3344000,
          "category": "MINNESOTA STATE COLLEGES AND UNIVERSITIES",
          "detail": "Northeast Higher Education District"
         },
         {
          "amount": 5902000,
          "category": "MINNESOTA STATE COLLEGES AND UNIVERSITIES",
          "detail": "Winona State University"
         },
         {
          "amount": 865000,
          "category": "MINNESOTA STATE COLLEGES AND UNIVERSITIES",
          "detail": "St. Cloud State University"
         },
         {
          "amount": 5491000,
          "category": "EDUCATION",
          "detail": "Independent School District No. 38, Red Lake"
         },
         {
          "amount": 2000000,
          "category": "EDUCATION",
          "detail": "Library Construction Grants"
         },
         {
          "amount": 700000,
          "category": "MINNESOTA STATE ACADEMIES",
          "detail": "Asset Preservation"
         },
         {
          "amount": 10654000,
          "category": "MINNESOTA STATE ACADEMIES",
          "detail": "New Residence Hall"
         },
         {
          "amount": 2000000,
          "category": "PERPICH CENTER FOR ARTS EDUCATION",
          "detail": "PERPICH CENTER FOR ARTS EDUCATION"
         },
         {
          "amount": 10000000,
          "category": "NATURAL RESOURCES",
          "detail": "Natural Resources Asset Preservation"
         },
         {
          "amount": 4500000,
          "category": "NATURAL RESOURCES",
          "detail": "Flood Hazard Mitigation"
         },
         {
          "amount": 2000000,
          "category": "NATURAL RESOURCES",
          "detail": "Buildings and Facilities Development"
         },
         {
          "amount": 6500000,
          "category": "NATURAL RESOURCES",
          "detail": "Dam Renovation, Repair, Removal"
         },
         {
          "amount": 14000000,
          "category": "NATURAL RESOURCES",
          "detail": "Lake Vermilion State Park Development"
         },
         {
          "amount": 2000000,
          "category": "NATURAL RESOURCES",
          "detail": "RIM Critical Habitat"
         },
         {
          "amount": 2000000,
          "category": "NATURAL RESOURCES",
          "detail": "Fish Hatchery Improvements"
         },
         {
          "amount": 2963000,
          "category": "NATURAL RESOURCES",
          "detail": "Forest Land for the Future"
         },
         {
          "amount": 17667000,
          "category": "NATURAL RESOURCES",
          "detail": "State Trails Acquisition and Development"
         },
         {
          "amount": 500000,
          "category": "NATURAL RESOURCES",
          "detail": "Central Minnesota Regional Parks"
         },
         {
          "amount": 500000,
          "category": "NATURAL RESOURCES",
          "detail": "Fort Snelling Upper Post, Paths"
         },
         {
          "amount": 250000,
          "category": "NATURAL RESOURCES",
          "detail": "Red River Recreation Area"
         },
         {
          "amount": 500000,
          "category": "NATURAL RESOURCES",
          "detail": "Lake Zumbro Restoration"
         },
         {
          "amount": 100000,
          "category": "NATURAL RESOURCES",
          "detail": "Grant County Trail Grant"
         },
         {
          "amount": 2625000,
          "category": "POLLUTION CONTROL AGENCY",
          "detail": "POLLUTION CONTROL AGENCY"
         },
         {
          "amount": 203000,
          "category": "AGRICULTURE",
          "detail": "AGRICULTURE"
         },
         {
          "amount": 6000000,
          "category": "BOARD OF WATER AND SOIL RESOURCES",
          "detail": "Reinvest in Minnesota (RIM) Reserve Program"
         },
         {
          "amount": 2000000,
          "category": "BOARD OF WATER AND SOIL RESOURCES",
          "detail": "Local Government Roads Wetland Replacement Program"
         },
         {
          "amount": 7000000,
          "category": "MINNESOTA ZOOLOGICAL GARDEN",
          "detail": "Asset Preservation and Exhibit Renewal"
         },
         {
          "amount": 5000000,
          "category": "MINNESOTA ZOOLOGICAL GARDEN",
          "detail": "Heart of the Zoo"
         },
         {
          "amount": 126300000,
          "category": "ADMINISTRATION",
          "detail": "Capitol Renovation and Restoration Continued"
         },
         {
          "amount": 450000,
          "category": "ADMINISTRATION",
          "detail": "Minnesota Hmong-Lao Veterans Memorial"
         },
         {
          "amount": 250000,
          "category": "ADMINISTRATION",
          "detail": "Minnesota Workers Memorial"
         },
         {
          "amount": 4298000,
          "category": "MINNESOTA AMATEUR SPORTS COMMISSION",
          "detail": "Southwest Regional Amateur Sports Center"
         },
         {
          "amount": 3200000,
          "category": "MINNESOTA AMATEUR SPORTS COMMISSION",
          "detail": "National Sports Center Expansion"
         },
         {
          "amount": 475000,
          "category": "MINNESOTA AMATEUR SPORTS COMMISSION",
          "detail": "Asset Preservation"
         },
         {
          "amount": 2000000,
          "category": "MILITARY AFFAIRS",
          "detail": "Asset Preservation"
         },
         {
          "amount": 1244000,
          "category": "MILITARY AFFAIRS",
          "detail": "Brooklyn Park Armory"
         },
         {
          "amount": 1460000,
          "category": "PUBLIC SAFETY",
          "detail": "Cottage Grove - HERO Center"
         },
         {
          "amount": 1650000,
          "category": "PUBLIC SAFETY",
          "detail": "Maplewood - East Metro Public Safety Training Center"
         },
         {
          "amount": 220000,
          "category": "PUBLIC SAFETY",
          "detail": "Montgomery - Public Safety Facility"
         },
         {
          "amount": 700000,
          "category": "PUBLIC SAFETY",
          "detail": "St. Louis County - Sheriff's Rescue Squad facility"
         },
         {
          "amount": 12257000,
          "category": "TRANSPORTATION",
          "detail": "Local Bridge Replacement and Rehabilitation"
         },
         {
          "amount": 24356000,
          "category": "TRANSPORTATION",
          "detail": "Local Road Improvement Fund Grants"
         },
         {
          "amount": 1500000,
          "category": "TRANSPORTATION",
          "detail": "Greater Minnesota Transit"
         },
         {
          "amount": 2000000,
          "category": "TRANSPORTATION",
          "detail": "Railroad Warning Devices"
         },
         {
          "amount": 4370000,
          "category": "TRANSPORTATION",
          "detail": "Willmar District Headquarters"
         },
         {
          "amount": 3580000,
          "category": "TRANSPORTATION",
          "detail": "Little Falls Truck Station"
         },
         {
          "amount": 5000000,
          "category": "TRANSPORTATION",
          "detail": "Range Regional Airport"
         },
         {
          "amount": 2200000,
          "category": "TRANSPORTATION",
          "detail": "International Falls - Airport"
         },
         {
          "amount": 2000000,
          "category": "TRANSPORTATION",
          "detail": "Port Development Assistance"
         },
         {
          "amount": 15000000,
          "category": "METROPOLITAN COUNCIL",
          "detail": "Transit Capital Improvement Program"
         },
         {
          "amount": 4000000,
          "category": "METROPOLITAN COUNCIL",
          "detail": "Metropolitan Regional Parks and Trails Capital Improvements"
         },
         {
          "amount": 2000000,
          "category": "METROPOLITAN COUNCIL",
          "detail": "Metropolitan Cities Inflow and Infiltration Grants"
         },
         {
          "amount": 5000000,
          "category": "METROPOLITAN COUNCIL",
          "detail": "Fridley - Springbrook Nature Center"
         },
         {
          "amount": 2000000,
          "category": "METROPOLITAN COUNCIL",
          "detail": "Inver Grove Heights - Heritage Village Park"
         },
         {
          "amount": 318000,
          "category": "METROPOLITAN COUNCIL",
          "detail": "Maplewood - Fish Creek Trail"
         },
         {
          "amount": 8500000,
          "category": "METROPOLITAN COUNCIL",
          "detail": "Minneapolis - Sculpture Garden Drainage Control"
         },
         {
          "amount": 150000,
          "category": "METROPOLITAN COUNCIL",
          "detail": "Oakdale - Nature Preserve"
         },
         {
          "amount": 5400000,
          "category": "METROPOLITAN COUNCIL",
          "detail": "St. Paul - Como Regional Park Access"
         },
         {
          "amount": 1600000,
          "category": "METROPOLITAN COUNCIL",
          "detail": "Washington County - Hastings Bridge Trail Connection"
         },
         {
          "amount": 2000000,
          "category": "METROPOLITAN COUNCIL",
          "detail": "West St. Paul - North Urban Regional Trail Bridge"
         },
         {
          "amount": 56317000,
          "category": "HUMAN SERVICES",
          "detail": "Minnesota Security Hospital - St. Peter"
         },
         {
          "amount": 7405000,
          "category": "HUMAN SERVICES",
          "detail": "Minnesota Sex Offender Program - St. Peter"
         },
         {
          "amount": 6000000,
          "category": "HUMAN SERVICES",
          "detail": "Early Childhood Learning and Child Protection Facilities"
         },
         {
          "amount": 3000000,
          "category": "HUMAN SERVICES",
          "detail": "Asset Preservation"
         },
         {
          "amount": 720000,
          "category": "HUMAN SERVICES",
          "detail": "Maplewood - Harriet Tubman Center East"
         },
         {
          "amount": 3750000,
          "category": "HUMAN SERVICES",
          "detail": "Hennepin County - St. David's Center for Child and Family Development"
         },
         {
          "amount": 3000000,
          "category": "HUMAN SERVICES",
          "detail": "St. Louis County - Arrowhead Economic Opportunity Agency and Range Mental Health Office"
         },
         {
          "amount": 6000000,
          "category": "HUMAN SERVICES",
          "detail": "St. Paul - Dorothy Day Center"
         },
         {
          "amount": 195000,
          "category": "HUMAN SERVICES",
          "detail": "Advocating for Change Together"
         },
         {
          "amount": 2000000,
          "category": "VETERANS AFFAIRS",
          "detail": "Asset Preservation"
         },
         {
          "amount": 700000,
          "category": "VETERANS AFFAIRS",
          "detail": "Minneapolis - Deep Tunnel"
         },
         {
          "amount": 100000,
          "category": "VETERANS AFFAIRS",
          "detail": "North St. Paul - Veterans Memorial"
         },
         {
          "amount": 5500000,
          "category": "CORRECTIONS",
          "detail": "Asset Preservation"
         },
         {
          "amount": 5381000,
          "category": "CORRECTIONS",
          "detail": "Minnesota Correctional Facility - Shakopee"
         },
         {
          "amount": 1000000,
          "category": "CORRECTIONS",
          "detail": "Northeast Regional Corrections Center"
         },
         {
          "amount": 4000000,
          "category": "EMPLOYMENT AND ECONOMIC DEVELOPMENT",
          "detail": "Greater Minnesota Business Development Public Infrastructure Grants"
         },
         {
          "amount": 1400000,
          "category": "EMPLOYMENT AND ECONOMIC DEVELOPMENT",
          "detail": "Alexandria - Redevelopment"
         },
         {
          "amount": 5352000,
          "category": "EMPLOYMENT AND ECONOMIC DEVELOPMENT",
          "detail": "Chatfield - Center for the Arts"
         },
         {
          "amount": 748000,
          "category": "EMPLOYMENT AND ECONOMIC DEVELOPMENT",
          "detail": "Clara City - Business Park"
         },
         {
          "amount": 600000,
          "category": "EMPLOYMENT AND ECONOMIC DEVELOPMENT",
          "detail": "Cosmos - Municipal Building"
         },
         {
          "amount": 400000,
          "category": "EMPLOYMENT AND ECONOMIC DEVELOPMENT",
          "detail": "Fosston - Second Street Road Improvement"
         },
         {
          "amount": 3897000,
          "category": "EMPLOYMENT AND ECONOMIC DEVELOPMENT",
          "detail": "Grand Rapids - Independent School District No. 318"
         },
         {
          "amount": 78000,
          "category": "EMPLOYMENT AND ECONOMIC DEVELOPMENT",
          "detail": "Hanover - Bridge"
         },
         {
          "amount": 3500000,
          "category": "EMPLOYMENT AND ECONOMIC DEVELOPMENT",
          "detail": "Lake Elmo - Water Supply"
         },
         {
          "amount": 250000,
          "category": "EMPLOYMENT AND ECONOMIC DEVELOPMENT",
          "detail": "Litchfield - Electrical"
         },
         {
          "amount": 330000,
          "category": "EMPLOYMENT AND ECONOMIC DEVELOPMENT",
          "detail": "Minneapolis - Brian Coyle Community Center"
         },
         {
          "amount": 550000,
          "category": "EMPLOYMENT AND ECONOMIC DEVELOPMENT",
          "detail": "Minneapolis - Hennepin Center for the Arts"
         },
         {
          "amount": 21500000,
          "category": "EMPLOYMENT AND ECONOMIC DEVELOPMENT",
          "detail": "Minneapolis - Nicollet Mall"
         },
         {
          "amount": 2500000,
          "category": "EMPLOYMENT AND ECONOMIC DEVELOPMENT",
          "detail": "Park Rapids - Upper Mississippi Arts Center"
         },
         {
          "amount": 1560000,
          "category": "EMPLOYMENT AND ECONOMIC DEVELOPMENT",
          "detail": "Red Wing - River Renaissance"
         },
         {
          "amount": 6515000,
          "category": "EMPLOYMENT AND ECONOMIC DEVELOPMENT",
          "detail": "St. Paul - Minnesota Children's Museum"
         },
         {
          "amount": 5000000,
          "category": "EMPLOYMENT AND ECONOMIC DEVELOPMENT",
          "detail": "St. Paul - Historic Palace Theater Renovation"
         },
         {
          "amount": 4000000,
          "category": "EMPLOYMENT AND ECONOMIC DEVELOPMENT",
          "detail": "St. Paul - Ordway Center for the Performing Arts"
         },
         {
          "amount": 9000000,
          "category": "EMPLOYMENT AND ECONOMIC DEVELOPMENT",
          "detail": "St. Paul - Minnesota Public Media Commons"
         },
         {
          "amount": 650000,
          "category": "EMPLOYMENT AND ECONOMIC DEVELOPMENT",
          "detail": "Thief River Falls Airport - Public Infrastructure"
         },
         {
          "amount": 800000,
          "category": "EMPLOYMENT AND ECONOMIC DEVELOPMENT",
          "detail": "Thief River Falls - Public Infrastructure"
         },
         {
          "amount": 19500000,
          "category": "EMPLOYMENT AND ECONOMIC DEVELOPMENT",
          "detail": "Virginia - Highway 53 Utilities Relocation"
         },
         {
          "amount": 12000000,
          "category": "PUBLIC FACILITIES AUTHORITY",
          "detail": "State Match for Federal Grants"
         },
         {
          "amount": 18333000,
          "category": "PUBLIC FACILITIES AUTHORITY",
          "detail": "Wastewater Infrastructure Funding Program"
         },
         {
          "amount": 4500000,
          "category": "PUBLIC FACILITIES AUTHORITY",
          "detail": "Big Lake Area Sanitary District"
         },
         {
          "amount": 1168000,
          "category": "PUBLIC FACILITIES AUTHORITY",
          "detail": "Rice Lake Township - Water Main Replacement"
         },
         {
          "amount": 1425000,
          "category": "PUBLIC FACILITIES AUTHORITY",
          "detail": "Truman - Storm Water Project"
         },
         {
          "amount": 8567000,
          "category": "PUBLIC FACILITIES AUTHORITY",
          "detail": "Voyageurs National Park Clean Water Joint Powers Board"
         },
         {
          "amount": 20000000,
          "category": "MINNESOTA HOUSING FINANCE AGENCY",
          "detail": "MN Housing Finance Agency"
         },
         {
          "amount": 10562000,
          "category": "MINNESOTA HISTORICAL SOCIETY",
          "detail": "Oliver H. Kelley Farm Historic Site"
         },
         {
          "amount": 1440000,
          "category": "MINNESOTA HISTORICAL SOCIETY",
          "detail": "Historic Sites Asset Preservation"
         },
         {
          "amount": 900000,
          "category": "BOND SALE EXPENSES",
          "detail": "BOND SALE EXPENSES"
         }
        ]
       },
       "encoding": {
        "color": {
         "field": "category",
         "type": "nominal"
        },
        "x": {
         "axis": {
          "title": "Project"
         },
         "field": "detail",
         "sort": {
          "field": "amount",
          "op": "sum",
          "order": "descending"
         },
         "type": "ordinal"
        },
        "y": {
         "axis": {
          "title": "2014 Budget"
         },
         "field": "amount",
         "type": "quantitative"
        }
       },
       "mark": "bar",
       "transform": [
        {
         "filter": "(datum.amount >= 10000000)"
        }
       ]
      },
      "image/png": "[encoded data removed]",
      "text/plain": [
       "<VegaLite 2 object>\n",
       "\n",
       "If you see this message, it means the renderer has not been properly enabled\n",
       "for the frontend that you are using. For more information, see\n",
       "https://altair-viz.github.io/user_guide/troubleshooting.html\n"
      ]
     },
     "execution_count": 7,
     "metadata": {},
     "output_type": "execute_result"
    }
   ],
   "source": [
    "Chart(budget).mark_bar().encode(\n",
    "    x=X('detail:O', sort=EncodingSortField(field='amount', order='descending', op='sum'),\n",
    "        axis=Axis(title='Project')),\n",
    "    y=Y('amount:Q',\n",
    "        axis=Axis(title='2014 Budget')),\n",
    "    color='category').transform_filter(\n",
    "      (datum.amount >= 10000000)\n",
    "        )"
   ]
  },
  {
   "cell_type": "code",
   "execution_count": 8,
   "metadata": {},
   "outputs": [
    {
     "data": {
      "application/vnd.vegalite.v2+json": {
       "$schema": "https://vega.github.io/schema/vega-lite/v2.6.0.json",
       "config": {
        "view": {
         "height": 300,
         "width": 400
        }
       },
       "data": {
        "name": "data-35db384a9ffbfff9422a9389d1c7d7f2"
       },
       "datasets": {
        "data-35db384a9ffbfff9422a9389d1c7d7f2": [
         {
          "amount": 42500000,
          "category": "UNIVERSITY OF MINNESOTA",
          "detail": "Higher Education Asset Preservation (HEAPR) 1"
         },
         {
          "amount": 56700000,
          "category": "UNIVERSITY OF MINNESOTA",
          "detail": "Minneapolis; Tate Laboratory Renovation"
         },
         {
          "amount": 10000000,
          "category": "UNIVERSITY OF MINNESOTA",
          "detail": "Crookston; Wellness Center"
         },
         {
          "amount": 8667000,
          "category": "UNIVERSITY OF MINNESOTA",
          "detail": "Research Laboratories"
         },
         {
          "amount": 1500000,
          "category": "UNIVERSITY OF MINNESOTA",
          "detail": "Duluth; Chemical Sciences and Advanced Materials Building"
         },
         {
          "amount": 42500000,
          "category": "MINNESOTA STATE COLLEGES AND UNIVERSITIES",
          "detail": "Higher Education Asset Preservation (HEAPR) 2"
         },
         {
          "amount": 35865000,
          "category": "MINNESOTA STATE COLLEGES AND UNIVERSITIES",
          "detail": "Metropolitan State University"
         },
         {
          "amount": 13790000,
          "category": "MINNESOTA STATE COLLEGES AND UNIVERSITIES",
          "detail": "Bemidji State University"
         },
         {
          "amount": 5266000,
          "category": "MINNESOTA STATE COLLEGES AND UNIVERSITIES",
          "detail": "Lake Superior College"
         },
         {
          "amount": 3600000,
          "category": "MINNESOTA STATE COLLEGES AND UNIVERSITIES",
          "detail": "Minneapolis Community and Technical College"
         },
         {
          "amount": 1500000,
          "category": "MINNESOTA STATE COLLEGES AND UNIVERSITIES",
          "detail": "St. Paul College"
         },
         {
          "amount": 1700000,
          "category": "MINNESOTA STATE COLLEGES AND UNIVERSITIES",
          "detail": "Minnesota State College - Southeast Technical"
         },
         {
          "amount": 4234000,
          "category": "MINNESOTA STATE COLLEGES AND UNIVERSITIES",
          "detail": "Central Lakes College - Staples"
         },
         {
          "amount": 25818000,
          "category": "MINNESOTA STATE COLLEGES AND UNIVERSITIES",
          "detail": "Minnesota State University - Mankato"
         },
         {
          "amount": 6544000,
          "category": "MINNESOTA STATE COLLEGES AND UNIVERSITIES",
          "detail": "Minnesota State Community and Technical College - Moorhead"
         },
         {
          "amount": 1000000,
          "category": "MINNESOTA STATE COLLEGES AND UNIVERSITIES",
          "detail": "Rochester Community and Technical College"
         },
         {
          "amount": 2020000,
          "category": "MINNESOTA STATE COLLEGES AND UNIVERSITIES",
          "detail": "Century College"
         },
         {
          "amount": 5864000,
          "category": "MINNESOTA STATE COLLEGES AND UNIVERSITIES",
          "detail": "Northland Community and Technical College"
         },
         {
          "amount": 3344000,
          "category": "MINNESOTA STATE COLLEGES AND UNIVERSITIES",
          "detail": "Northeast Higher Education District"
         },
         {
          "amount": 5902000,
          "category": "MINNESOTA STATE COLLEGES AND UNIVERSITIES",
          "detail": "Winona State University"
         },
         {
          "amount": 865000,
          "category": "MINNESOTA STATE COLLEGES AND UNIVERSITIES",
          "detail": "St. Cloud State University"
         },
         {
          "amount": 5491000,
          "category": "EDUCATION",
          "detail": "Independent School District No. 38, Red Lake"
         },
         {
          "amount": 2000000,
          "category": "EDUCATION",
          "detail": "Library Construction Grants"
         },
         {
          "amount": 700000,
          "category": "MINNESOTA STATE ACADEMIES",
          "detail": "Asset Preservation"
         },
         {
          "amount": 10654000,
          "category": "MINNESOTA STATE ACADEMIES",
          "detail": "New Residence Hall"
         },
         {
          "amount": 2000000,
          "category": "PERPICH CENTER FOR ARTS EDUCATION",
          "detail": "PERPICH CENTER FOR ARTS EDUCATION"
         },
         {
          "amount": 10000000,
          "category": "NATURAL RESOURCES",
          "detail": "Natural Resources Asset Preservation"
         },
         {
          "amount": 4500000,
          "category": "NATURAL RESOURCES",
          "detail": "Flood Hazard Mitigation"
         },
         {
          "amount": 2000000,
          "category": "NATURAL RESOURCES",
          "detail": "Buildings and Facilities Development"
         },
         {
          "amount": 6500000,
          "category": "NATURAL RESOURCES",
          "detail": "Dam Renovation, Repair, Removal"
         },
         {
          "amount": 14000000,
          "category": "NATURAL RESOURCES",
          "detail": "Lake Vermilion State Park Development"
         },
         {
          "amount": 2000000,
          "category": "NATURAL RESOURCES",
          "detail": "RIM Critical Habitat"
         },
         {
          "amount": 2000000,
          "category": "NATURAL RESOURCES",
          "detail": "Fish Hatchery Improvements"
         },
         {
          "amount": 2963000,
          "category": "NATURAL RESOURCES",
          "detail": "Forest Land for the Future"
         },
         {
          "amount": 17667000,
          "category": "NATURAL RESOURCES",
          "detail": "State Trails Acquisition and Development"
         },
         {
          "amount": 500000,
          "category": "NATURAL RESOURCES",
          "detail": "Central Minnesota Regional Parks"
         },
         {
          "amount": 500000,
          "category": "NATURAL RESOURCES",
          "detail": "Fort Snelling Upper Post, Paths"
         },
         {
          "amount": 250000,
          "category": "NATURAL RESOURCES",
          "detail": "Red River Recreation Area"
         },
         {
          "amount": 500000,
          "category": "NATURAL RESOURCES",
          "detail": "Lake Zumbro Restoration"
         },
         {
          "amount": 100000,
          "category": "NATURAL RESOURCES",
          "detail": "Grant County Trail Grant"
         },
         {
          "amount": 2625000,
          "category": "POLLUTION CONTROL AGENCY",
          "detail": "POLLUTION CONTROL AGENCY"
         },
         {
          "amount": 203000,
          "category": "AGRICULTURE",
          "detail": "AGRICULTURE"
         },
         {
          "amount": 6000000,
          "category": "BOARD OF WATER AND SOIL RESOURCES",
          "detail": "Reinvest in Minnesota (RIM) Reserve Program"
         },
         {
          "amount": 2000000,
          "category": "BOARD OF WATER AND SOIL RESOURCES",
          "detail": "Local Government Roads Wetland Replacement Program"
         },
         {
          "amount": 7000000,
          "category": "MINNESOTA ZOOLOGICAL GARDEN",
          "detail": "Asset Preservation and Exhibit Renewal"
         },
         {
          "amount": 5000000,
          "category": "MINNESOTA ZOOLOGICAL GARDEN",
          "detail": "Heart of the Zoo"
         },
         {
          "amount": 126300000,
          "category": "ADMINISTRATION",
          "detail": "Capitol Renovation and Restoration Continued"
         },
         {
          "amount": 450000,
          "category": "ADMINISTRATION",
          "detail": "Minnesota Hmong-Lao Veterans Memorial"
         },
         {
          "amount": 250000,
          "category": "ADMINISTRATION",
          "detail": "Minnesota Workers Memorial"
         },
         {
          "amount": 4298000,
          "category": "MINNESOTA AMATEUR SPORTS COMMISSION",
          "detail": "Southwest Regional Amateur Sports Center"
         },
         {
          "amount": 3200000,
          "category": "MINNESOTA AMATEUR SPORTS COMMISSION",
          "detail": "National Sports Center Expansion"
         },
         {
          "amount": 475000,
          "category": "MINNESOTA AMATEUR SPORTS COMMISSION",
          "detail": "Asset Preservation"
         },
         {
          "amount": 2000000,
          "category": "MILITARY AFFAIRS",
          "detail": "Asset Preservation"
         },
         {
          "amount": 1244000,
          "category": "MILITARY AFFAIRS",
          "detail": "Brooklyn Park Armory"
         },
         {
          "amount": 1460000,
          "category": "PUBLIC SAFETY",
          "detail": "Cottage Grove - HERO Center"
         },
         {
          "amount": 1650000,
          "category": "PUBLIC SAFETY",
          "detail": "Maplewood - East Metro Public Safety Training Center"
         },
         {
          "amount": 220000,
          "category": "PUBLIC SAFETY",
          "detail": "Montgomery - Public Safety Facility"
         },
         {
          "amount": 700000,
          "category": "PUBLIC SAFETY",
          "detail": "St. Louis County - Sheriff's Rescue Squad facility"
         },
         {
          "amount": 12257000,
          "category": "TRANSPORTATION",
          "detail": "Local Bridge Replacement and Rehabilitation"
         },
         {
          "amount": 24356000,
          "category": "TRANSPORTATION",
          "detail": "Local Road Improvement Fund Grants"
         },
         {
          "amount": 1500000,
          "category": "TRANSPORTATION",
          "detail": "Greater Minnesota Transit"
         },
         {
          "amount": 2000000,
          "category": "TRANSPORTATION",
          "detail": "Railroad Warning Devices"
         },
         {
          "amount": 4370000,
          "category": "TRANSPORTATION",
          "detail": "Willmar District Headquarters"
         },
         {
          "amount": 3580000,
          "category": "TRANSPORTATION",
          "detail": "Little Falls Truck Station"
         },
         {
          "amount": 5000000,
          "category": "TRANSPORTATION",
          "detail": "Range Regional Airport"
         },
         {
          "amount": 2200000,
          "category": "TRANSPORTATION",
          "detail": "International Falls - Airport"
         },
         {
          "amount": 2000000,
          "category": "TRANSPORTATION",
          "detail": "Port Development Assistance"
         },
         {
          "amount": 15000000,
          "category": "METROPOLITAN COUNCIL",
          "detail": "Transit Capital Improvement Program"
         },
         {
          "amount": 4000000,
          "category": "METROPOLITAN COUNCIL",
          "detail": "Metropolitan Regional Parks and Trails Capital Improvements"
         },
         {
          "amount": 2000000,
          "category": "METROPOLITAN COUNCIL",
          "detail": "Metropolitan Cities Inflow and Infiltration Grants"
         },
         {
          "amount": 5000000,
          "category": "METROPOLITAN COUNCIL",
          "detail": "Fridley - Springbrook Nature Center"
         },
         {
          "amount": 2000000,
          "category": "METROPOLITAN COUNCIL",
          "detail": "Inver Grove Heights - Heritage Village Park"
         },
         {
          "amount": 318000,
          "category": "METROPOLITAN COUNCIL",
          "detail": "Maplewood - Fish Creek Trail"
         },
         {
          "amount": 8500000,
          "category": "METROPOLITAN COUNCIL",
          "detail": "Minneapolis - Sculpture Garden Drainage Control"
         },
         {
          "amount": 150000,
          "category": "METROPOLITAN COUNCIL",
          "detail": "Oakdale - Nature Preserve"
         },
         {
          "amount": 5400000,
          "category": "METROPOLITAN COUNCIL",
          "detail": "St. Paul - Como Regional Park Access"
         },
         {
          "amount": 1600000,
          "category": "METROPOLITAN COUNCIL",
          "detail": "Washington County - Hastings Bridge Trail Connection"
         },
         {
          "amount": 2000000,
          "category": "METROPOLITAN COUNCIL",
          "detail": "West St. Paul - North Urban Regional Trail Bridge"
         },
         {
          "amount": 56317000,
          "category": "HUMAN SERVICES",
          "detail": "Minnesota Security Hospital - St. Peter"
         },
         {
          "amount": 7405000,
          "category": "HUMAN SERVICES",
          "detail": "Minnesota Sex Offender Program - St. Peter"
         },
         {
          "amount": 6000000,
          "category": "HUMAN SERVICES",
          "detail": "Early Childhood Learning and Child Protection Facilities"
         },
         {
          "amount": 3000000,
          "category": "HUMAN SERVICES",
          "detail": "Asset Preservation"
         },
         {
          "amount": 720000,
          "category": "HUMAN SERVICES",
          "detail": "Maplewood - Harriet Tubman Center East"
         },
         {
          "amount": 3750000,
          "category": "HUMAN SERVICES",
          "detail": "Hennepin County - St. David's Center for Child and Family Development"
         },
         {
          "amount": 3000000,
          "category": "HUMAN SERVICES",
          "detail": "St. Louis County - Arrowhead Economic Opportunity Agency and Range Mental Health Office"
         },
         {
          "amount": 6000000,
          "category": "HUMAN SERVICES",
          "detail": "St. Paul - Dorothy Day Center"
         },
         {
          "amount": 195000,
          "category": "HUMAN SERVICES",
          "detail": "Advocating for Change Together"
         },
         {
          "amount": 2000000,
          "category": "VETERANS AFFAIRS",
          "detail": "Asset Preservation"
         },
         {
          "amount": 700000,
          "category": "VETERANS AFFAIRS",
          "detail": "Minneapolis - Deep Tunnel"
         },
         {
          "amount": 100000,
          "category": "VETERANS AFFAIRS",
          "detail": "North St. Paul - Veterans Memorial"
         },
         {
          "amount": 5500000,
          "category": "CORRECTIONS",
          "detail": "Asset Preservation"
         },
         {
          "amount": 5381000,
          "category": "CORRECTIONS",
          "detail": "Minnesota Correctional Facility - Shakopee"
         },
         {
          "amount": 1000000,
          "category": "CORRECTIONS",
          "detail": "Northeast Regional Corrections Center"
         },
         {
          "amount": 4000000,
          "category": "EMPLOYMENT AND ECONOMIC DEVELOPMENT",
          "detail": "Greater Minnesota Business Development Public Infrastructure Grants"
         },
         {
          "amount": 1400000,
          "category": "EMPLOYMENT AND ECONOMIC DEVELOPMENT",
          "detail": "Alexandria - Redevelopment"
         },
         {
          "amount": 5352000,
          "category": "EMPLOYMENT AND ECONOMIC DEVELOPMENT",
          "detail": "Chatfield - Center for the Arts"
         },
         {
          "amount": 748000,
          "category": "EMPLOYMENT AND ECONOMIC DEVELOPMENT",
          "detail": "Clara City - Business Park"
         },
         {
          "amount": 600000,
          "category": "EMPLOYMENT AND ECONOMIC DEVELOPMENT",
          "detail": "Cosmos - Municipal Building"
         },
         {
          "amount": 400000,
          "category": "EMPLOYMENT AND ECONOMIC DEVELOPMENT",
          "detail": "Fosston - Second Street Road Improvement"
         },
         {
          "amount": 3897000,
          "category": "EMPLOYMENT AND ECONOMIC DEVELOPMENT",
          "detail": "Grand Rapids - Independent School District No. 318"
         },
         {
          "amount": 78000,
          "category": "EMPLOYMENT AND ECONOMIC DEVELOPMENT",
          "detail": "Hanover - Bridge"
         },
         {
          "amount": 3500000,
          "category": "EMPLOYMENT AND ECONOMIC DEVELOPMENT",
          "detail": "Lake Elmo - Water Supply"
         },
         {
          "amount": 250000,
          "category": "EMPLOYMENT AND ECONOMIC DEVELOPMENT",
          "detail": "Litchfield - Electrical"
         },
         {
          "amount": 330000,
          "category": "EMPLOYMENT AND ECONOMIC DEVELOPMENT",
          "detail": "Minneapolis - Brian Coyle Community Center"
         },
         {
          "amount": 550000,
          "category": "EMPLOYMENT AND ECONOMIC DEVELOPMENT",
          "detail": "Minneapolis - Hennepin Center for the Arts"
         },
         {
          "amount": 21500000,
          "category": "EMPLOYMENT AND ECONOMIC DEVELOPMENT",
          "detail": "Minneapolis - Nicollet Mall"
         },
         {
          "amount": 2500000,
          "category": "EMPLOYMENT AND ECONOMIC DEVELOPMENT",
          "detail": "Park Rapids - Upper Mississippi Arts Center"
         },
         {
          "amount": 1560000,
          "category": "EMPLOYMENT AND ECONOMIC DEVELOPMENT",
          "detail": "Red Wing - River Renaissance"
         },
         {
          "amount": 6515000,
          "category": "EMPLOYMENT AND ECONOMIC DEVELOPMENT",
          "detail": "St. Paul - Minnesota Children's Museum"
         },
         {
          "amount": 5000000,
          "category": "EMPLOYMENT AND ECONOMIC DEVELOPMENT",
          "detail": "St. Paul - Historic Palace Theater Renovation"
         },
         {
          "amount": 4000000,
          "category": "EMPLOYMENT AND ECONOMIC DEVELOPMENT",
          "detail": "St. Paul - Ordway Center for the Performing Arts"
         },
         {
          "amount": 9000000,
          "category": "EMPLOYMENT AND ECONOMIC DEVELOPMENT",
          "detail": "St. Paul - Minnesota Public Media Commons"
         },
         {
          "amount": 650000,
          "category": "EMPLOYMENT AND ECONOMIC DEVELOPMENT",
          "detail": "Thief River Falls Airport - Public Infrastructure"
         },
         {
          "amount": 800000,
          "category": "EMPLOYMENT AND ECONOMIC DEVELOPMENT",
          "detail": "Thief River Falls - Public Infrastructure"
         },
         {
          "amount": 19500000,
          "category": "EMPLOYMENT AND ECONOMIC DEVELOPMENT",
          "detail": "Virginia - Highway 53 Utilities Relocation"
         },
         {
          "amount": 12000000,
          "category": "PUBLIC FACILITIES AUTHORITY",
          "detail": "State Match for Federal Grants"
         },
         {
          "amount": 18333000,
          "category": "PUBLIC FACILITIES AUTHORITY",
          "detail": "Wastewater Infrastructure Funding Program"
         },
         {
          "amount": 4500000,
          "category": "PUBLIC FACILITIES AUTHORITY",
          "detail": "Big Lake Area Sanitary District"
         },
         {
          "amount": 1168000,
          "category": "PUBLIC FACILITIES AUTHORITY",
          "detail": "Rice Lake Township - Water Main Replacement"
         },
         {
          "amount": 1425000,
          "category": "PUBLIC FACILITIES AUTHORITY",
          "detail": "Truman - Storm Water Project"
         },
         {
          "amount": 8567000,
          "category": "PUBLIC FACILITIES AUTHORITY",
          "detail": "Voyageurs National Park Clean Water Joint Powers Board"
         },
         {
          "amount": 20000000,
          "category": "MINNESOTA HOUSING FINANCE AGENCY",
          "detail": "MN Housing Finance Agency"
         },
         {
          "amount": 10562000,
          "category": "MINNESOTA HISTORICAL SOCIETY",
          "detail": "Oliver H. Kelley Farm Historic Site"
         },
         {
          "amount": 1440000,
          "category": "MINNESOTA HISTORICAL SOCIETY",
          "detail": "Historic Sites Asset Preservation"
         },
         {
          "amount": 900000,
          "category": "BOND SALE EXPENSES",
          "detail": "BOND SALE EXPENSES"
         }
        ]
       },
       "encoding": {
        "x": {
         "aggregate": "sum",
         "axis": {
          "title": "2014 Budget"
         },
         "field": "amount",
         "type": "quantitative"
        },
        "y": {
         "axis": {
          "title": "Category"
         },
         "field": "category",
         "sort": {
          "field": "amount",
          "op": "sum",
          "order": "descending"
         },
         "type": "nominal"
        }
       },
       "mark": "bar"
      },
      "image/png": "[encoded data removed]",
      "text/plain": [
       "<VegaLite 2 object>\n",
       "\n",
       "If you see this message, it means the renderer has not been properly enabled\n",
       "for the frontend that you are using. For more information, see\n",
       "https://altair-viz.github.io/user_guide/troubleshooting.html\n"
      ]
     },
     "execution_count": 8,
     "metadata": {},
     "output_type": "execute_result"
    }
   ],
   "source": [
    "c = Chart(budget).mark_bar().encode(\n",
    "    y=Y('category', sort=EncodingSortField(field='amount', order='descending', op='sum'),\n",
    "        axis=Axis(title='Category')),\n",
    "    x=X('sum(amount)',\n",
    "        axis=Axis(title='2014 Budget')))\n",
    "c\n"
   ]
  },
  {
   "cell_type": "code",
   "execution_count": null,
   "metadata": {},
   "outputs": [],
   "source": [
    "import altair as alt\n",
    "from vega_datasets import data\n",
    "\n",
    "cars = data.cars.url\n",
    "\n",
    "alt.Chart(cars).mark_point().encode(\n",
    "    x='Horsepower:Q',\n",
    "    y='Miles_per_Gallon:Q',\n",
    "    color=alt.Color('Acceleration:Q', bin=alt.Bin(maxbins=5))\n",
    ")"
   ]
  },
  {
   "cell_type": "code",
   "execution_count": null,
   "metadata": {},
   "outputs": [],
   "source": []
  }
 ],
 "metadata": {
  "kernelspec": {
   "display_name": "Python 3",
   "language": "python",
   "name": "python3"
  },
  "language_info": {
   "codemirror_mode": {
    "name": "ipython",
    "version": 3
   },
   "file_extension": ".py",
   "mimetype": "text/x-python",
   "name": "python",
   "nbconvert_exporter": "python",
   "pygments_lexer": "ipython3",
   "version": "3.7.2"
  }
 },
 "nbformat": 4,
 "nbformat_minor": 2
}
