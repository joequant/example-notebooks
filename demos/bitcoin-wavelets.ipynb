{
 "cells": [
  {
   "cell_type": "code",
   "execution_count": null,
   "metadata": {
    "collapsed": false
   },
   "outputs": [],
   "source": [
    "from BitcoinAverager import TimeUtil, BitcoinAverager, PriceCompositor, Forex, BitcoinDataLoader"
   ]
  },
  {
   "cell_type": "code",
   "execution_count": null,
   "metadata": {
    "collapsed": false
   },
   "outputs": [],
   "source": [
    "all_exchanges = ['bitfinexUSD','bitstampUSD','itbitUSD',\n",
    "                 'itbitEUR','krakenEUR','itbitSGD','anxhkHKD',\n",
    "                 'okcoinCNY', 'btcnCNY']\n",
    "compositor = PriceCompositor(all_exchanges)\n",
    "compositor.reload()"
   ]
  },
  {
   "cell_type": "code",
   "execution_count": null,
   "metadata": {
    "collapsed": false
   },
   "outputs": [],
   "source": [
    "from datetime import datetime\n",
    "from dateutil.relativedelta import relativedelta\n",
    "import pytz\n",
    "hkg_time = pytz.timezone(\"Asia/Hong_Kong\")\n",
    "start_time = hkg_time.localize(datetime(2015,1,1,6,0,0))\n",
    "period = relativedelta(minutes=1)\n",
    "intervals = 60 * 24*90\n",
    "compositor = PriceCompositor(['bitfinexUSD'], base_currency='USD')\n",
    "data = compositor.composite_table(start_time, period, intervals)\n",
    "data"
   ]
  },
  {
   "cell_type": "code",
   "execution_count": null,
   "metadata": {
    "collapsed": false
   },
   "outputs": [],
   "source": [
    "averagers = {}\n",
    "exchanges = [\"anxhkHKD\", \"bitfinexUSD\", \"bitstampUSD\", \"btceUSD\", \"itbitEUR\", \"itbitSGD\", \"itbitUSD\", \\\n",
    "             \"krakenEUR\", \"krakenUSD\", \"okcoinCNY\", \"btcnCNY\"]\n",
    "\n",
    "for e in exchanges:\n",
    "    averagers[e] = BitcoinAverager(e)\n",
    "\n",
    "averager = averagers[\"bitfinexUSD\"]\n"
   ]
  },
  {
   "cell_type": "code",
   "execution_count": null,
   "metadata": {
    "collapsed": false
   },
   "outputs": [],
   "source": [
    "data['price'].tolist()"
   ]
  },
  {
   "cell_type": "code",
   "execution_count": null,
   "metadata": {
    "collapsed": false
   },
   "outputs": [],
   "source": [
    "from scipy import signal\n",
    "import matplotlib.pyplot as plt\n",
    "sig  = data['price'].tolist()\n",
    "widths = pow(2,np.arange(0, 18, 0.5))\n",
    "cwtmatr = signal.cwt(sig, signal.ricker, widths)\n",
    "imgplot = plt.imshow(cwtmatr, aspect='auto')\n",
    "imgplot"
   ]
  },
  {
   "cell_type": "code",
   "execution_count": null,
   "metadata": {
    "collapsed": false
   },
   "outputs": [],
   "source": [
    "pow(2,np.arange(0, 16, 0.5))"
   ]
  },
  {
   "cell_type": "code",
   "execution_count": null,
   "metadata": {
    "collapsed": false
   },
   "outputs": [],
   "source": [
    "from scipy import signal\n",
    "import matplotlib.pyplot as plt\n",
    "sig  = data['volume'].tolist()\n",
    "widths = pow(2,np.arange(0, 18, 0.5))\n",
    "cwtmatr = signal.cwt(sig, signal.ricker, widths)\n",
    "imgplot = plt.imshow(cwtmatr, aspect='auto')\n",
    "imgplot"
   ]
  },
  {
   "cell_type": "code",
   "execution_count": null,
   "metadata": {
    "collapsed": false
   },
   "outputs": [],
   "source": []
  }
 ],
 "metadata": {
  "kernelspec": {
   "display_name": "Python 3",
   "language": "python",
   "name": "python3"
  },
  "language_info": {
   "codemirror_mode": {
    "name": "ipython",
    "version": 3
   },
   "file_extension": ".py",
   "mimetype": "text/x-python",
   "name": "python",
   "nbconvert_exporter": "python",
   "pygments_lexer": "ipython3",
   "version": "3.4.3"
  }
 },
 "nbformat": 4,
 "nbformat_minor": 0
}
