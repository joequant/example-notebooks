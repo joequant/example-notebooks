{
 "metadata": {
  "name": "",
  "signature": "sha256:0ec8b92cae472c95306d80b4302fb561250d1cec4510c6ede7381b27dcc98a86"
 },
 "nbformat": 3,
 "nbformat_minor": 0,
 "worksheets": [
  {
   "cells": [
    {
     "cell_type": "code",
     "collapsed": false,
     "input": [
      "%matplotlib inline\n",
      "from BitcoinAverager import TimeUtil, BitcoinAverager, PriceCompositor, Forex, BitcoinDataLoader"
     ],
     "language": "python",
     "metadata": {},
     "outputs": []
    },
    {
     "cell_type": "code",
     "collapsed": false,
     "input": [
      "import datetime\n",
      "import time\n",
      "import pytz\n",
      "from dateutil.relativedelta import relativedelta\n",
      "hkg_time = pytz.timezone(\"Asia/Hong_Kong\")\n",
      "start = hkg_time.localize(datetime.datetime(2014,2,1,6,0,0))\n",
      "period = relativedelta(days=1)\n",
      "intervals = 30\n",
      "\n",
      "TimeUtil.time_table(start, period, intervals)"
     ],
     "language": "python",
     "metadata": {},
     "outputs": []
    },
    {
     "cell_type": "code",
     "collapsed": false,
     "input": [
      "averagers = {}\n",
      "exchanges = [\"anxhkHKD\", \"bitfinexUSD\", \"bitstampUSD\", \"btceUSD\", \"itbitEUR\", \"itbitSGD\", \"itbitUSD\", \\\n",
      "             \"krakenEUR\", \"krakenUSD\", \"okcoinCNY\", \"btcnCNY\"]\n",
      "\n",
      "for e in exchanges:\n",
      "    averagers[e] = BitcoinAverager(e)\n",
      "\n",
      "averager = averagers[\"bitfinexUSD\"]\n",
      "averager_base = BitcoinAverager(\"bitfinexUSD\", \"GBP\")"
     ],
     "language": "python",
     "metadata": {},
     "outputs": []
    },
    {
     "cell_type": "code",
     "collapsed": false,
     "input": [
      "averager.index_range()"
     ],
     "language": "python",
     "metadata": {},
     "outputs": []
    },
    {
     "cell_type": "code",
     "collapsed": false,
     "input": [
      "from datetime import datetime\n",
      "from dateutil.relativedelta import relativedelta\n",
      "import pytz\n",
      "hkg_time = pytz.timezone(\"Asia/Hong_Kong\")\n",
      "start_time = hkg_time.localize(datetime(2014,2,1,6,0,0))\n",
      "end_time = start_time + relativedelta(days=1)\n",
      "start_epoch = TimeUtil.unix_epoch(start_time)\n",
      "end_epoch = TimeUtil.unix_epoch(end_time)\n",
      "selected = averager.select(start_epoch, end_epoch)\n",
      "len(selected)"
     ],
     "language": "python",
     "metadata": {},
     "outputs": []
    },
    {
     "cell_type": "code",
     "collapsed": false,
     "input": [
      "from datetime import datetime\n",
      "from dateutil.relativedelta import relativedelta\n",
      "import pytz\n",
      "hkg_time = pytz.timezone(\"Asia/Hong_Kong\")\n",
      "start_time = hkg_time.localize(datetime(2014,2,1,6,0,0))\n",
      "end_time = start_time + relativedelta(minute=15)\n",
      "start_epoch = TimeUtil.unix_epoch(start_time)\n",
      "end_epoch = TimeUtil.unix_epoch(end_time)\n",
      "selected = averager.select(start_epoch, end_epoch)\n",
      "selected"
     ],
     "language": "python",
     "metadata": {},
     "outputs": []
    },
    {
     "cell_type": "code",
     "collapsed": false,
     "input": [
      "selected = averager.intervals(start_time, relativedelta(minutes=1),50 )\n",
      "selected"
     ],
     "language": "python",
     "metadata": {},
     "outputs": []
    },
    {
     "cell_type": "code",
     "collapsed": false,
     "input": [
      "selected_base = averager_base.intervals(start_time, relativedelta(minutes=1),50 )\n",
      "selected_base"
     ],
     "language": "python",
     "metadata": {},
     "outputs": []
    },
    {
     "cell_type": "code",
     "collapsed": false,
     "input": [
      "%matplotlib inline"
     ],
     "language": "python",
     "metadata": {},
     "outputs": []
    },
    {
     "cell_type": "code",
     "collapsed": false,
     "input": [
      "selected.plot(y='price')"
     ],
     "language": "python",
     "metadata": {},
     "outputs": []
    },
    {
     "cell_type": "code",
     "collapsed": false,
     "input": [
      "selected.plot(y=\"volume\")"
     ],
     "language": "python",
     "metadata": {},
     "outputs": []
    },
    {
     "cell_type": "code",
     "collapsed": false,
     "input": [
      "import datetime\n",
      "import time\n",
      "import pytz\n",
      "from dateutil.relativedelta import relativedelta\n",
      "hkg_time = pytz.timezone(\"Asia/Hong_Kong\")\n",
      "start = hkg_time.localize(datetime.datetime(2014,2,1,6,0,0))\n",
      "period = relativedelta(days=1)\n",
      "intervals = 30\n",
      "\n",
      "forex_list = [\"GBPUSD\"]\n",
      "forex_table = {}\n",
      "compositor = PriceCompositor()\n",
      "avg = compositor.exchange_table(start, period, intervals)\n",
      "\n",
      "for f in forex_list:\n",
      "    forex = Forex(f)\n",
      "    forex_table[f] = forex.rates(list(map(TimeUtil.unix_epoch, avg.index)), avg.index)\n",
      "    forex_table[f].rename(columns={\"rates\" : f}, inplace=True)\n",
      "\n",
      "avg = avg.join(forex_table[f] for f in forex_list)"
     ],
     "language": "python",
     "metadata": {},
     "outputs": []
    },
    {
     "cell_type": "code",
     "collapsed": false,
     "input": [
      "forex_table[\"GBPUSD\"]"
     ],
     "language": "python",
     "metadata": {},
     "outputs": []
    },
    {
     "cell_type": "code",
     "collapsed": false,
     "input": [
      "f=Forex(\"USDUSD\")\n",
      "f.rates(map(TimeUtil.unix_epoch, avg.index), avg.index)"
     ],
     "language": "python",
     "metadata": {},
     "outputs": []
    },
    {
     "cell_type": "code",
     "collapsed": false,
     "input": [
      "import datetime\n",
      "import time\n",
      "import pytz\n",
      "from dateutil.relativedelta import relativedelta\n",
      "hkg_time = pytz.timezone(\"Asia/Hong_Kong\")\n",
      "start_date = hkg_time.localize(datetime.datetime(2014,2,1,7,0,0))\n",
      "period = relativedelta(minutes=5)\n",
      "intervals = 200\n",
      "\n",
      "forex_table = {}\n",
      "compositor = PriceCompositor()\n",
      "avg = compositor.exchange_table(start_date, period, intervals)\n",
      "\n",
      "for f in forex_list:\n",
      "    forex = Forex(f)\n",
      "    forex_table[f] = forex.rates(list(map(TimeUtil.unix_epoch, avg.index)), avg.index)\n",
      "    forex_table[f].rename(columns={\"rates\" : f}, inplace=True)\n",
      "\n",
      "avg = avg.join(forex_table[f] for f in forex_list)   \n",
      "avg[['bitfinexUSD_price', 'bitstampUSD_price']]"
     ],
     "language": "python",
     "metadata": {},
     "outputs": []
    },
    {
     "cell_type": "code",
     "collapsed": false,
     "input": [
      "avg[['GBPUSD']]"
     ],
     "language": "python",
     "metadata": {},
     "outputs": []
    },
    {
     "cell_type": "code",
     "collapsed": false,
     "input": [
      "import datetime\n",
      "import time\n",
      "import pytz\n",
      "from dateutil.relativedelta import relativedelta\n",
      "hkg_time = pytz.timezone(\"Asia/Hong_Kong\")\n",
      "start_date = hkg_time.localize(datetime.datetime(2014,2,1,7,0,0))\n",
      "period = relativedelta(hours=1)\n",
      "intervals = 200\n",
      "\n",
      "compositor = PriceCompositor()\n",
      "compositor.currency_table(start_date, period, intervals)\n"
     ],
     "language": "python",
     "metadata": {},
     "outputs": []
    },
    {
     "cell_type": "code",
     "collapsed": false,
     "input": [
      "import datetime\n",
      "import time\n",
      "import pytz\n",
      "from dateutil.relativedelta import relativedelta\n",
      "\n",
      "hkg_time = pytz.timezone(\"Asia/Hong_Kong\")\n",
      "start_date = hkg_time.localize(datetime.datetime(2014,2,1,7,0,0))\n",
      "period = relativedelta(hours=1)\n",
      "intervals = 200\n",
      "\n",
      "compositor = PriceCompositor()\n",
      "composite = compositor.composite_table(start_date, period, intervals)\n",
      "composite"
     ],
     "language": "python",
     "metadata": {},
     "outputs": []
    },
    {
     "cell_type": "code",
     "collapsed": false,
     "input": [
      "composite[[\"price\"]].plot()"
     ],
     "language": "python",
     "metadata": {},
     "outputs": []
    },
    {
     "cell_type": "code",
     "collapsed": false,
     "input": [
      "import datetime\n",
      "import time\n",
      "import pytz\n",
      "from dateutil.relativedelta import relativedelta\n",
      "hkg_time = pytz.timezone(\"Asia/Hong_Kong\")\n",
      "start_date = hkg_time.localize(datetime.datetime(2014,2,1,7,0,0))\n",
      "period = relativedelta(hours=1)\n",
      "intervals = 200\n",
      "\n",
      "compositor = PriceCompositor()\n",
      "compositor.generate(start_date, period, intervals)"
     ],
     "language": "python",
     "metadata": {},
     "outputs": []
    },
    {
     "cell_type": "code",
     "collapsed": false,
     "input": [
      "c = compositor.generate(start_date, period, intervals, converted_prices=True,currency=True)\n",
      "c"
     ],
     "language": "python",
     "metadata": {},
     "outputs": []
    },
    {
     "cell_type": "code",
     "collapsed": false,
     "input": [
      "import matplotlib.pyplot as plt\n",
      "\n",
      "plt.figure(figsize=(10, 10))\n",
      "ax1 = plt.subplot2grid((8,1), (0,0), rowspan=7)\n",
      "ax2 = plt.subplot2grid((8,1), (7,0))\n",
      "ax1.xaxis.set_ticklabels([])\n",
      "c[['price', 'GBPUSD_price', 'GBPEUR_price']].plot(ax=ax1)\n",
      "c[['volume', 'USD_volume', 'EUR_volume']].plot(ax=ax2)"
     ],
     "language": "python",
     "metadata": {},
     "outputs": []
    },
    {
     "cell_type": "code",
     "collapsed": false,
     "input": [
      "import datetime\n",
      "import time\n",
      "import pytz\n",
      "from dateutil.relativedelta import relativedelta\n",
      "hkg_time = pytz.timezone(\"Asia/Hong_Kong\")\n",
      "start_date = hkg_time.localize(datetime.datetime(2014,2,1,7,0,0))\n",
      "period = relativedelta(hours=1)\n",
      "intervals = 200\n",
      "\n",
      "compositor = PriceCompositor(base_currency=\"USD\")\n",
      "composite = compositor.generate(start_date, period, intervals)"
     ],
     "language": "python",
     "metadata": {},
     "outputs": []
    },
    {
     "cell_type": "code",
     "collapsed": false,
     "input": [
      "composite[[\"price\"]].plot()"
     ],
     "language": "python",
     "metadata": {},
     "outputs": []
    },
    {
     "cell_type": "code",
     "collapsed": false,
     "input": [
      "compositor.reload()"
     ],
     "language": "python",
     "metadata": {},
     "outputs": []
    },
    {
     "cell_type": "code",
     "collapsed": false,
     "input": [
      "f = BitcoinDataLoader()"
     ],
     "language": "python",
     "metadata": {},
     "outputs": []
    },
    {
     "cell_type": "code",
     "collapsed": false,
     "input": [
      "f.filedata()"
     ],
     "language": "python",
     "metadata": {},
     "outputs": []
    },
    {
     "cell_type": "code",
     "collapsed": false,
     "input": [],
     "language": "python",
     "metadata": {},
     "outputs": []
    }
   ],
   "metadata": {}
  }
 ]
}