{
 "cells": [
  {
   "cell_type": "code",
   "execution_count": null,
   "metadata": {
    "collapsed": false
   },
   "outputs": [],
   "source": [
    "# contract id, lot size, current price\n",
    "\n",
    "contracts = {\n",
    "    \"3888.HK\" : [1000, 20]\n",
    "}\n",
    "\n",
    "def contract_delta (id, num_contracts, delta):\n",
    "    print (\"with %d contracts a %f change = %f\" %\n",
    "          (num_contracts, float(delta), \n",
    "               float(delta) *contracts[id][0] * num_contracts))\n",
    "\n",
    "def contract_delta_percent (id, num_contracts, delta):\n",
    "    print (\"with %d contracts a %f  %% at %f change = %f\" %\n",
    "          (num_contracts, float(delta), contracts[id][1],\n",
    "               float(delta)/100.0 *contracts[id][0] * contracts[id][1] * num_contracts))"
   ]
  },
  {
   "cell_type": "code",
   "execution_count": null,
   "metadata": {
    "collapsed": false
   },
   "outputs": [],
   "source": [
    "contract_delta(\"3888.HK\", 10, 1)"
   ]
  },
  {
   "cell_type": "code",
   "execution_count": null,
   "metadata": {
    "collapsed": false
   },
   "outputs": [],
   "source": [
    "contract_delta_percent(\"3888.HK\", 10, 5)"
   ]
  },
  {
   "cell_type": "code",
   "execution_count": null,
   "metadata": {
    "collapsed": true
   },
   "outputs": [],
   "source": []
  }
 ],
 "metadata": {
  "kernelspec": {
   "display_name": "Python 3",
   "language": "python",
   "name": "python3"
  },
  "language_info": {
   "codemirror_mode": {
    "name": "ipython",
    "version": 3
   },
   "file_extension": ".py",
   "mimetype": "text/x-python",
   "name": "python",
   "nbconvert_exporter": "python",
   "pygments_lexer": "ipython3",
   "version": "3.4.3"
  }
 },
 "nbformat": 4,
 "nbformat_minor": 0
}
