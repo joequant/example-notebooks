{
 "metadata": {
  "name": "",
  "signature": "sha256:723e04994f9bbc7aba0d8c25dfe1bcc1e808cb35a8aadcf7c52c0a9975ef369d"
 },
 "nbformat": 3,
 "nbformat_minor": 0,
 "worksheets": [
  {
   "cells": [
    {
     "cell_type": "code",
     "collapsed": false,
     "input": [
      "from py4j.java_gateway import JavaGateway, get_field\n",
      "gateway = JavaGateway()\n",
      "random = gateway.jvm.java.util.Random()\n",
      "number1 = random.nextInt(10)\n",
      "number2 = random.nextInt(10)\n",
      "print(number1,number2)\n"
     ],
     "language": "python",
     "metadata": {},
     "outputs": []
    },
    {
     "cell_type": "code",
     "collapsed": false,
     "input": [
      "className = gateway.jvm.com.xeiam.xchange.bitstamp.BitstampExchange().getClass().getName()\n",
      "bitstamp = gateway.jvm.com.xeiam.xchange.ExchangeFactory.INSTANCE.createExchange(className)\n",
      "marketDataService = bitstamp.getPollingMarketDataService()\n",
      "pair = gateway.jvm.com.xeiam.xchange.currency.CurrencyPair.BTC_USD\n",
      "ticker1 = marketDataService.getTicker(pair, gateway.new_array(gateway.jvm.Object, 0));\n",
      "print ticker1.toString()\n",
      "ticker2 = marketDataService.getBitstampTicker()\n",
      "print ticker2.toString()"
     ],
     "language": "python",
     "metadata": {},
     "outputs": []
    },
    {
     "cell_type": "code",
     "collapsed": false,
     "input": [
      "orderbook = marketDataService.getOrderBook(pair, gateway.new_array(gateway.jvm.Object,0))\n",
      "print gateway.help(orderbook.getAsks()[0], display=False)\n",
      "ask_prices = []\n",
      "ask_orders = []\n",
      "bid_prices = []\n",
      "bid_orders = []\n",
      "for i in orderbook.getAsks():\n",
      "    ask_prices.append(float(i.getLimitPrice()))\n",
      "    ask_orders.append(float(i.getTradableAmount()))\n",
      "for i in orderbook.getBids():\n",
      "    bid_prices.append(float(i.getLimitPrice()))\n",
      "    bid_orders.append(float(i.getTradableAmount()))\n"
     ],
     "language": "python",
     "metadata": {},
     "outputs": []
    },
    {
     "cell_type": "code",
     "collapsed": false,
     "input": [],
     "language": "python",
     "metadata": {},
     "outputs": []
    },
    {
     "cell_type": "code",
     "collapsed": false,
     "input": [
      "%matplotlib inline\n",
      "import matplotlib.pyplot as plt\n",
      "plt.hist(ask_prices, weights=ask_orders, histtype='stepfilled', color='b', label='Ask', range=[400, 800],cumulative=1,bins=100)\n",
      "plt.hist(bid_prices, weights=bid_orders, histtype='stepfilled', color='r', label='Bid', range=[400, 800],cumulative=-1,bins=100)\n",
      "plt.title(\"Order Depth Chart\")\n",
      "plt.xlabel(\"Market\")\n",
      "plt.ylabel(\"Orders\")\n",
      "plt.legend()\n",
      "plt.show()\n"
     ],
     "language": "python",
     "metadata": {},
     "outputs": []
    },
    {
     "cell_type": "code",
     "collapsed": false,
     "input": [],
     "language": "python",
     "metadata": {},
     "outputs": []
    }
   ],
   "metadata": {}
  }
 ]
}