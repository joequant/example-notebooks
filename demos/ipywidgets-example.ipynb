{
 "cells": [
  {
   "cell_type": "code",
   "execution_count": null,
   "metadata": {
    "collapsed": true
   },
   "outputs": [],
   "source": [
    "from __future__ import print_function\n",
    "from ipywidgets import interact, interactive, fixed\n",
    "import ipywidgets as widgets"
   ]
  },
  {
   "cell_type": "code",
   "execution_count": null,
   "metadata": {
    "collapsed": true
   },
   "outputs": [],
   "source": [
    "def f(x):\n",
    "    return x"
   ]
  },
  {
   "cell_type": "code",
   "execution_count": null,
   "metadata": {
    "collapsed": false
   },
   "outputs": [],
   "source": [
    "interact(f, x=10);"
   ]
  },
  {
   "cell_type": "code",
   "execution_count": null,
   "metadata": {
    "collapsed": false
   },
   "outputs": [],
   "source": [
    "interact(f, x=True);"
   ]
  },
  {
   "cell_type": "code",
   "execution_count": null,
   "metadata": {
    "collapsed": false
   },
   "outputs": [],
   "source": [
    "interact(f, x='Hi there!');"
   ]
  },
  {
   "cell_type": "code",
   "execution_count": null,
   "metadata": {
    "collapsed": false
   },
   "outputs": [],
   "source": [
    "@interact(x=True, y=1.0)\n",
    "def g(x, y):\n",
    "    return (x, y)"
   ]
  },
  {
   "cell_type": "code",
   "execution_count": null,
   "metadata": {
    "collapsed": true
   },
   "outputs": [],
   "source": [
    "def h(p, q):\n",
    "    return (p, q)"
   ]
  },
  {
   "cell_type": "code",
   "execution_count": null,
   "metadata": {
    "collapsed": false
   },
   "outputs": [],
   "source": [
    "interact(h, p=5, q=fixed(20));"
   ]
  },
  {
   "cell_type": "code",
   "execution_count": null,
   "metadata": {
    "collapsed": false
   },
   "outputs": [],
   "source": [
    "from ipywidgets import IntSlider\n",
    "IntSlider(min=-10,max=30,step=1,value=10)"
   ]
  },
  {
   "cell_type": "code",
   "execution_count": null,
   "metadata": {
    "collapsed": true
   },
   "outputs": [],
   "source": []
  }
 ],
 "metadata": {
  "kernelspec": {
   "display_name": "Python 3",
   "language": "python",
   "name": "python3"
  },
  "language_info": {
   "codemirror_mode": {
    "name": "ipython",
    "version": 3
   },
   "file_extension": ".py",
   "mimetype": "text/x-python",
   "name": "python",
   "nbconvert_exporter": "python",
   "pygments_lexer": "ipython3",
   "version": "3.5.2"
  },
  "widgets": {
   "state": {
    "0939875a542f4495bead2fef0b85bafd": {
     "views": []
    },
    "099f670dd16244a4b1643323cf2735b0": {
     "views": []
    },
    "1837c09ff6c44a7cbe86c0c08a153e56": {
     "views": []
    },
    "1b860d0d958349f9a6fd60ffcea39f76": {
     "views": []
    },
    "24436962835d416895b6b1afb2a5ad46": {
     "views": []
    },
    "3b74d37791b648868caf9f86bf96f7fb": {
     "views": []
    },
    "3e5e1cfe6ad0475d9b35e8dade8c147e": {
     "views": []
    },
    "43bd98a8c83846be9a3b929ca50cfe51": {
     "views": []
    },
    "4522f88a59a747a8a7f728d469f9c624": {
     "views": []
    },
    "622811a12a5b4737be70fe20125e1bd4": {
     "views": []
    },
    "7244aafe594e455281eee9bdbc40c74e": {
     "views": []
    },
    "745c958fea7f4be4a07b7310930cfbd6": {
     "views": []
    },
    "838905106a2c4ff38793d73cb01d003d": {
     "views": []
    },
    "83ddbb589dea4dd4a13ef7cbb66b2d8d": {
     "views": []
    },
    "8b2a6613e3a6455481e71ba49fe112e0": {
     "views": []
    },
    "8c2f8f38ad5446a98cd6dd3fcfc34b61": {
     "views": []
    },
    "8dbb70d599d74c32a4b76d45f7aa7b16": {
     "views": []
    },
    "992006622da646ac922b3fa03ab8a237": {
     "views": []
    },
    "9b43b6a9279047398251a2bf6ad8d15d": {
     "views": [
      {
       "cell_index": 5
      }
     ]
    },
    "a6491bc9b53148d4aeb387b3a43aeb95": {
     "views": [
      {
       "cell_index": 4
      }
     ]
    },
    "b0bfd1cb4b2a4ccba16dd3befa0485ac": {
     "views": []
    },
    "b8685be511694c17ade69a210d4ad5ab": {
     "views": [
      {
       "cell_index": 3
      }
     ]
    },
    "d122c1a684c342dcb52da123b4d56182": {
     "views": [
      {
       "cell_index": 2
      }
     ]
    },
    "d805f6e751ee4728b822a569a822fe88": {
     "views": []
    },
    "db3c705be66f45b4be262a4d2eb2523b": {
     "views": [
      {
       "cell_index": 7
      }
     ]
    },
    "de44a3a033474bf3be46b89b1fa0cf1b": {
     "views": [
      {
       "cell_index": 8
      }
     ]
    },
    "ee903bf1969243a98b9a8a4c68781f39": {
     "views": []
    },
    "f84811ad7afc4ced9d6e24ca59ba533e": {
     "views": []
    }
   },
   "version": "1.1.1"
  }
 },
 "nbformat": 4,
 "nbformat_minor": 0
}
