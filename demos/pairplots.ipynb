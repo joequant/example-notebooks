{
 "cells": [
  {
   "cell_type": "markdown",
   "metadata": {},
   "source": [
    "Read in stock data\n",
    "----"
   ]
  },
  {
   "cell_type": "code",
   "execution_count": null,
   "metadata": {
    "collapsed": false
   },
   "outputs": [],
   "source": [
    "%matplotlib inline\n",
    "from pandas import *\n",
    "import pandas_datareader.data as web \n",
    "import scipy\n",
    "def get_data(stock, start):\n",
    "    stock  = web.DataReader(stock, 'yahoo', start)\n",
    "    stock['Daily Ret'] = scipy.log(stock['Close']/stock['Close'].shift(1))\n",
    "    stock['Weekly Ret'] = scipy.log(stock['Close']/stock['Close'].shift(5))\n",
    "    stock['Monthly Ret'] = scipy.log(stock['Close']/stock['Close'].shift(30))\n",
    "    return stock\n",
    "\n",
    "stock_list = ['3888.HK', '0027.HK', '0267.HK','0494.HK', '0388.HK', '0700.HK', '1211.HK', '2800.HK', '2823.HK',  '2600.HK',  '0005.HK', '6030.HK', '^HSI', '000001.SS']\n",
    "\n",
    "stock = {}\n",
    "for i in stock_list:\n",
    "    stock[i] = get_data(i, '01/01/2010')\n",
    "\n",
    "ret = {}\n",
    "close_dict = {}\n",
    "\n",
    "for i in stock_list:\n",
    "    ret[i] = stock[i]['Daily Ret']\n",
    "    close_dict[i] = stock[i]['Close']\n",
    "#    ret[\"prev.\" + i ] = stock[i]['Daily Ret'].shift(1)\n",
    "\n",
    "df = DataFrame(ret)\n",
    "close = DataFrame(close_dict)    \n",
    "#get_data('GEINX.HK', '01/01/2010')"
   ]
  },
  {
   "cell_type": "markdown",
   "metadata": {},
   "source": [
    "Plot time dependence"
   ]
  },
  {
   "cell_type": "code",
   "execution_count": null,
   "metadata": {
    "collapsed": false
   },
   "outputs": [],
   "source": [
    "# 3. Plotting \n",
    "%matplotlib inline\n",
    "import matplotlib.pyplot as plt\n",
    "\n",
    "def plot(stock_id):\n",
    "    plt.subplot(211)\n",
    "    stock[stock_id]['Close'].plot()\n",
    "    plt.ylabel('Index Level')\n",
    "\n",
    "    plt.subplot(212)\n",
    "    stock[stock_id]['Daily Ret'].plot()\n",
    "    plt.ylabel('Log Returns')\n",
    "    \n",
    "plot('3888.HK')"
   ]
  },
  {
   "cell_type": "markdown",
   "metadata": {},
   "source": [
    "Do unit root test - Test for stationarity"
   ]
  },
  {
   "cell_type": "code",
   "execution_count": null,
   "metadata": {
    "collapsed": false
   },
   "outputs": [],
   "source": [
    "import statsmodels.tsa.stattools as ts\n",
    "ts.adfuller(stock['3888.HK']['Close'].loc['20150101':], 1)"
   ]
  },
  {
   "cell_type": "markdown",
   "metadata": {},
   "source": [
    "Calculate hurst exponent - Mean reverting or momentum following"
   ]
  },
  {
   "cell_type": "code",
   "execution_count": null,
   "metadata": {
    "collapsed": false,
    "scrolled": true
   },
   "outputs": [],
   "source": [
    "from numpy import cumsum, log, polyfit, sqrt, std, subtract\n",
    "from numpy.random import randn\n",
    "\n",
    "def hurst(ts, lag=100):\n",
    "\t\"\"\"Returns the Hurst Exponent of the time series vector ts\"\"\"\n",
    "\t# Create the range of lag values\n",
    "\tlags = range(2, lag)\n",
    "\n",
    "\t# Calculate the array of the variances of the lagged differences\n",
    "\ttau = [sqrt(std(subtract(ts[lag:], ts[:-lag]))) for lag in lags]\n",
    "\n",
    "\t# Use a linear fit to estimate the Hurst Exponent\n",
    "\tpoly = polyfit(log(lags), log(tau), 1)\n",
    "\n",
    "\t# Return the Hurst exponent from the polyfit output\n",
    "\treturn poly[0]*2.0\n",
    "\n",
    "for i in stock_list:\n",
    "    print (\"Hurst(%s):  %s\" % (i, hurst(stock[i].loc['20150801':]['Close'], 10)))\n"
   ]
  },
  {
   "cell_type": "markdown",
   "metadata": {},
   "source": [
    "Calculate distribution of daily returns.  Check for crashes"
   ]
  },
  {
   "cell_type": "code",
   "execution_count": null,
   "metadata": {
    "collapsed": false
   },
   "outputs": [],
   "source": [
    "import numpy as np\n",
    "import pandas as pd\n",
    "from scipy import stats, integrate\n",
    "import matplotlib.pyplot as plt\n",
    "import seaborn as sns\n",
    "sns.set(color_codes=True)\n",
    "sns.distplot(stock['0027.HK']['Daily Ret'].loc['20150601':], hist=False, rug=True, label=\"After June\")\n",
    "sns.distplot(stock['0027.HK']['Daily Ret'].loc['20150101':], hist=False, rug=True, label=\"2015\")\n",
    "sns.distplot(stock['0027.HK']['Daily Ret'].loc['20140101':'20141231'], hist=False, rug=True, label=\"2014\")\n",
    "sns.distplot(stock['0027.HK']['Daily Ret'].loc['20130101':'20131231'], hist=False, rug=True, label=\"2013\")"
   ]
  },
  {
   "cell_type": "markdown",
   "metadata": {},
   "source": [
    "Look at weekly returns"
   ]
  },
  {
   "cell_type": "code",
   "execution_count": null,
   "metadata": {
    "collapsed": false
   },
   "outputs": [],
   "source": [
    "import numpy as np\n",
    "import pandas as pd\n",
    "from scipy import stats, integrate\n",
    "import matplotlib.pyplot as plt\n",
    "import seaborn as sns\n",
    "sns.set(color_codes=True)\n",
    "sns.distplot(stock['^HSI']['Weekly Ret'].loc['20150601':], hist=False, rug=True, label=\"After June\")"
   ]
  },
  {
   "cell_type": "markdown",
   "metadata": {},
   "source": [
    "Calculate culmative returns\n",
    "----"
   ]
  },
  {
   "cell_type": "code",
   "execution_count": null,
   "metadata": {
    "collapsed": false
   },
   "outputs": [],
   "source": [
    "import numpy as np\n",
    "import pandas as pd\n",
    "%matplotlib inline\n",
    "from scipy import stats, integrate\n",
    "import matplotlib.pyplot as plt\n",
    "import seaborn as sns\n",
    "sns.set(color_codes=True)\n",
    "sns.kdeplot(stock['^HSI']['Daily Ret'].loc['20150701':'20150801'], label=\"July\", cumulative=True)\n",
    "sns.kdeplot(stock['^HSI']['Daily Ret'].loc['20150801':], label=\"After August\", cumulative=True)\n",
    "sns.kdeplot(stock['^HSI']['Daily Ret'].loc['20150101':], label=\"2015\", cumulative=True)"
   ]
  },
  {
   "cell_type": "markdown",
   "metadata": {},
   "source": [
    "Calculate daily returns distribution\n",
    "----"
   ]
  },
  {
   "cell_type": "code",
   "execution_count": null,
   "metadata": {
    "collapsed": false
   },
   "outputs": [],
   "source": [
    "import numpy as np\n",
    "import pandas as pd\n",
    "from scipy import stats, integrate\n",
    "import matplotlib.pyplot as plt\n",
    "import seaborn as sns\n",
    "sns.set(color_codes=True)\n",
    "sns.distplot(stock['3888.HK']['Daily Ret'], hist=False, rug=True)\n",
    "sns.distplot(stock['^HSI']['Daily Ret'], hist=False, rug=True)"
   ]
  },
  {
   "cell_type": "code",
   "execution_count": null,
   "metadata": {
    "collapsed": false
   },
   "outputs": [],
   "source": [
    "sns.distplot(stock['3888.HK']['Close'], hist=False, rug=True)"
   ]
  },
  {
   "cell_type": "markdown",
   "metadata": {},
   "source": [
    "Weekly returns versus monthly return\n",
    "----"
   ]
  },
  {
   "cell_type": "code",
   "execution_count": null,
   "metadata": {
    "collapsed": false
   },
   "outputs": [],
   "source": [
    "sns.regplot(x=stock['3888.HK']['Weekly Ret'],y=stock['3888.HK']['Monthly Ret'])"
   ]
  },
  {
   "cell_type": "markdown",
   "metadata": {},
   "source": [
    "Heatmap correlations\n",
    "-----"
   ]
  },
  {
   "cell_type": "code",
   "execution_count": null,
   "metadata": {
    "collapsed": false
   },
   "outputs": [],
   "source": [
    "import seaborn as sns\n",
    "sl = slice('20140101', '20141231')\n",
    "sns.heatmap(df[sl].corr())"
   ]
  },
  {
   "cell_type": "markdown",
   "metadata": {},
   "source": [
    "Raw plot between stock prices\n",
    "----"
   ]
  },
  {
   "cell_type": "code",
   "execution_count": null,
   "metadata": {
    "collapsed": false
   },
   "outputs": [],
   "source": [
    "import seaborn as sns\n",
    "sl = slice('20140101', None)\n",
    "sns.pairplot(close[sl].dropna(),vars=['0027.HK', '0388.HK','3888.HK', '^HSI'])\n"
   ]
  },
  {
   "cell_type": "markdown",
   "metadata": {},
   "source": [
    "Correlate stocks\n",
    "------"
   ]
  },
  {
   "cell_type": "code",
   "execution_count": null,
   "metadata": {
    "collapsed": false
   },
   "outputs": [],
   "source": [
    "import seaborn as sns\n",
    "sl = slice('20150701', '20150801')\n",
    "sns.pairplot(df[sl].dropna(),vars=['0027.HK', '2823.HK','3888.HK', '^HSI'])"
   ]
  },
  {
   "cell_type": "code",
   "execution_count": null,
   "metadata": {
    "collapsed": false
   },
   "outputs": [],
   "source": [
    "sns.pairplot(df['20150701':].dropna())"
   ]
  },
  {
   "cell_type": "markdown",
   "metadata": {},
   "source": [
    "Linear regressions\n",
    "-----"
   ]
  },
  {
   "cell_type": "code",
   "execution_count": null,
   "metadata": {
    "collapsed": false
   },
   "outputs": [],
   "source": [
    "import scipy\n",
    "import scipy.stats\n",
    "sl = slice('20150701','20151001')\n",
    "import statsmodels.api as sm\n",
    "X = df[sl].dropna()['^HSI'].tolist()\n",
    "X = sm.tools.add_constant(X)\n",
    "for i in stock_list:\n",
    "    results = sm.OLS(df[sl].dropna()[i].tolist(), X).fit()\n",
    "    print(i, results.params[1], results.params[0], results.rsquared)"
   ]
  },
  {
   "cell_type": "code",
   "execution_count": null,
   "metadata": {
    "collapsed": false
   },
   "outputs": [],
   "source": [
    "import scipy\n",
    "import scipy.stats\n",
    "sl = slice('20150701','20150801')\n",
    "import statsmodels.api as sm\n",
    "X = df[sl].dropna()['^HSI'].tolist()\n",
    "X = sm.tools.add_constant(X)\n",
    "for i in stock_list:\n",
    "    results = sm.OLS(df[sl].dropna()[i].tolist(), X).fit()\n",
    "    print(i, results.params[1], results.params[0], results.rsquared)"
   ]
  },
  {
   "cell_type": "code",
   "execution_count": null,
   "metadata": {
    "collapsed": true
   },
   "outputs": [],
   "source": []
  }
 ],
 "metadata": {
  "kernelspec": {
   "display_name": "Python 3",
   "language": "python",
   "name": "python3"
  },
  "language_info": {
   "codemirror_mode": {
    "name": "ipython",
    "version": 3
   },
   "file_extension": ".py",
   "mimetype": "text/x-python",
   "name": "python",
   "nbconvert_exporter": "python",
   "pygments_lexer": "ipython3",
   "version": "3.5.0"
  }
 },
 "nbformat": 4,
 "nbformat_minor": 0
}
