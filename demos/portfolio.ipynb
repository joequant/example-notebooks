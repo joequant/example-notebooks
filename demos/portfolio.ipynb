{
 "cells": [
  {
   "cell_type": "markdown",
   "metadata": {},
   "source": [
    "Portfolio class\n",
    "----"
   ]
  },
  {
   "cell_type": "code",
   "execution_count": null,
   "metadata": {
    "collapsed": false
   },
   "outputs": [],
   "source": [
    "%matplotlib inline\n",
    "import import_ipynb\n",
    "import toyplot\n",
    "import numpy as np\n",
    "from blackscholes import black_scholes, date_fraction\n",
    "import scipy\n",
    "\n",
    "def get_alpha(alpha, x):\n",
    "    if x in alpha:\n",
    "        return alpha[x]\n",
    "    else:\n",
    "        return 1.0\n",
    "\n",
    "def scale (prices, x, alpha={}):\n",
    "    return { k : prices[k]*((x-1.0)*get_alpha(alpha,k)+1.0)  for k in prices.keys()}\n",
    "\n",
    "def merge(x, y):\n",
    "    '''Given two dicts, merge them into a new dict as a shallow copy.'''\n",
    "    z = x.copy()\n",
    "    z.update(y)\n",
    "    return z\n",
    "\n",
    "def plot_function(xrange, ylist,  hlines=[], vlines=[], labels=[], yrange=None):\n",
    "        x = np.linspace(*xrange)\n",
    "        label_style = {\"text-anchor\":\"start\", \"-toyplot-anchor-shift\":\"5px\"}\n",
    "        canvas = toyplot.Canvas(width=600, height=400)\n",
    "        axes = canvas.cartesian()\n",
    "        ylast = []\n",
    "        if yrange != None:\n",
    "            [axes.y.domain.min, axes.y.domain.max] = yrange\n",
    "        for y in ylist:\n",
    "            yvec = np.vectorize(y)(x)\n",
    "            axes.plot(x, yvec)\n",
    "            ylast.append(yvec[-1])\n",
    "#        for i in range(len(ylast)):\n",
    "#            axes.text(x[-1], ylast[i], labels[i], style=label_style)\n",
    "        axes.hlines(hlines )\n",
    "        axes.vlines(vlines)\n",
    "\n",
    "def plot_asset_dep(portfolios, asset, xrange, date, prices, yrange=None):\n",
    "    labels = [ \"payoff %d\" % (x+1) for x in range(len(portfolios)) ] + \\\n",
    "        [ \"MTM %d\" % (x+1) for x in range(len(portfolios)) ]\n",
    "    plot_function(xrange,\n",
    "        [ x.asset_dep(asset, mtm=True, payoff_asset=asset, date=date) for x in portfolios] +\n",
    "        [ x.asset_dep(asset, mtm=True, date=date) for x in portfolios],\n",
    "            vlines=prices[asset], labels=labels, yrange=yrange)\n",
    "\n",
    "def plot_delta(portfolios, asset, xrange, date, prices, yrange=None):\n",
    "    labels = [ \"payoff %d\" % (x+1) for x in range(len(portfolios)) ] + \\\n",
    "        [ \"MTM %d\" % (x+1) for x in range(len(portfolios)) ]\n",
    "    plot_function(xrange, [ p.delta_dep(asset) for p in portfolios] +\n",
    "                          [ p.delta_dep(asset, mtm=True, date=date) for p in portfolios],\n",
    "                  vlines=[prices[asset]], labels=labels, yrange=yrange)\n",
    "\n",
    "def difference(a, b):\n",
    "   return (lambda x: a(x) - b(x))\n",
    "\n",
    "def trade_option(quantity, style, expiry, strike, underlying, price) :\n",
    "    return [\n",
    "        [ quantity, style, expiry, strike, underlying, price ],\n",
    "        [ -quantity * price, \"cash\"]\n",
    "    ]\n",
    "\n",
    "def trade_spot(quantity, underlying, price) :\n",
    "    return [\n",
    "        [ quantity, \"spot\", underlying, price ],\n",
    "        [ -quantity * price, \"cash\"]\n",
    "    ]\n",
    "\n",
    "class Portfolio(object):\n",
    "    def __init__(self, portfolio, prices={}, vols={},  alpha={}, r=0.0, **kwargs):\n",
    "            self.portfolio = portfolio\n",
    "            self.prices = prices\n",
    "            self.vols = vols\n",
    "            self.alpha=alpha\n",
    "            self.r = r\n",
    "    def portfolio_nav(self, prices = None, mtm=False, payoff_asset=None, date=None, dt = 0.0):\n",
    "        return sum(self.portfolio_items(prices, mtm, payoff_asset, date, dt), 0.0)\n",
    "    def portfolio_items(self,  prices = None, mtm=False, payoff_asset=None, date=None, dt = 0.0):\n",
    "        retval = []\n",
    "        if prices == None:\n",
    "            prices = self.prices\n",
    "        for asset in self.portfolio:\n",
    "            if asset[1] == \"cash\":\n",
    "                retval.append(asset[0])\n",
    "            elif asset[1] == \"spot\":\n",
    "                quantity = asset[0]\n",
    "                underlying = asset[2]\n",
    "                retval.append(quantity * prices[underlying])\n",
    "            elif asset[1] == \"put\" or asset[1] == \"call\":\n",
    "                quantity = asset[0]\n",
    "                style = asset[1]\n",
    "                expiry = asset[2]\n",
    "                strike = asset[3]\n",
    "                underlying = asset[4]\n",
    "                price = prices[underlying]\n",
    "                value = 0.0\n",
    "                if strike < 0.0:\n",
    "                    raise ValueError\n",
    "                if not mtm or underlying == payoff_asset:\n",
    "                    if asset[1] == \"put\" and price < strike:\n",
    "                        value = strike - price\n",
    "                    if asset[1] == \"call\" and price > strike:\n",
    "                        value = price - strike\n",
    "                else:\n",
    "                    t = (date_fraction(date, expiry) -dt/365.0) \n",
    "                    if (t < 0.0):\n",
    "                        t = 0.0\n",
    "                    vol = self.vols[underlying]\n",
    "                    if (price < 0.0):\n",
    "                        price = 0.0\n",
    "                    value = black_scholes ((-1 if style == \"put\" else 1), price, \\\n",
    "                                             strike, t, vol, self.r, 0.0)\n",
    "                retval.append(quantity * value )             \n",
    "            elif asset[1] == \"comment\":\n",
    "                pass\n",
    "            else:\n",
    "                raise Exception (\"unknown asset\")\n",
    "        return retval\n",
    "    def asset_dep(self, asset, *args, **kwargs):\n",
    "        return  lambda x: self.portfolio_nav(prices=merge(self.prices, {asset:x}), *args, **kwargs)\n",
    "    def delta_dep(self, asset, *args, **kwargs):\n",
    "        return  lambda x: scipy.misc.derivative(self.asset_dep(asset, *args, **kwargs), x, dx=1e-6)\n",
    "    def market_dep(self, *args, **kwargs):\n",
    "        return lambda x: self.portfolio_nav(prices=scale(self.prices, x, self.alpha), *args, **kwargs)\n",
    "    def evolve(self, date, *args, **kwargs):\n",
    "        return  lambda t: self.portfolio_nav(dt=t, date=date, mtm=True, *args, **kwargs)\n",
    "    def theta_portfolio(self, *args, **kwargs):\n",
    "        return  lambda t: scipy.misc.derivative(self.evolve(*args, **kwargs), t, dx=1e-6)\n",
    "    def switch_assets(self, assets):\n",
    "        return Portfolio(assets, self.prices, self.vols,  self.alpha, self.r)\n",
    "    def __add__(self, p):\n",
    "        return self.switch_assets(self.portfolio + p)"
   ]
  },
  {
   "cell_type": "markdown",
   "metadata": {},
   "source": [
    "Portfolio payoff routines\n",
    "----\n",
    "\n",
    "These routines take a portfolio of call and put options and plots the payoff functions."
   ]
  },
  {
   "cell_type": "code",
   "execution_count": null,
   "metadata": {
    "collapsed": false
   },
   "outputs": [],
   "source": [
    "if __name__ == '__main__':\n",
    "    %matplotlib inline\n",
    "    portfolio = [\n",
    "        [-10000, \"put\", \"2015-09\", 24.00, \"3888.HK\"],\n",
    "        [-10000, \"put\", \"2015-07\", 25.00, \"3888.HK\"],\n",
    "        [-10000, \"put\", \"2015-07\", 26.00, \"3888.HK\"],\n",
    "        [-10000, \"put\", \"2015-08\", 26.00, \"3888.HK\"],\n",
    "        [-5000, \"call\", \"2015-08\", 26.00, \"3888.HK\"],\n",
    "        [-5000, \"call\", \"2015-08\", 27.00, \"3888.HK\"],\n",
    "        [975928.19, \"cash\"]\n",
    "    ]\n",
    "\n",
    "    trade = [\n",
    "        [-10000, \"put\",\"2015-08\", 18.50, \"3888.HK\"]\n",
    "    ]\n",
    "\n",
    "    exercise = [\n",
    "        [10000, \"put\", \"2015-08\", 25.00, \"3888.HK\"],\n",
    "        [-250000, \"cash\"],\n",
    "        [10000, \"spot\", '3888.HK']\n",
    "    ]\n",
    "    prices = {\n",
    "        \"3888.HK\": 22.6\n",
    "    }\n",
    "    \n",
    "    vols = {\n",
    "        \"3888.HK\":0.8\n",
    "    }\n",
    "    \n",
    "    alpha = {\n",
    "        \"3888.HK\":3\n",
    "    }\n",
    "\n",
    "    today=\"2015-07-15\"\n",
    "    yrange = [200000,800000]\n",
    "    p = Portfolio(portfolio, prices=prices, vols=vols, alpha=alpha, r=0.0) \n",
    "    portfolios = [ p, p + trade, p + trade + exercise ]"
   ]
  },
  {
   "cell_type": "markdown",
   "metadata": {},
   "source": [
    "Plot stock dependency\n",
    "------"
   ]
  },
  {
   "cell_type": "code",
   "execution_count": null,
   "metadata": {
    "collapsed": false
   },
   "outputs": [],
   "source": [
    "if __name__ == '__main__':\n",
    "    plot_asset_dep(portfolios, '3888.HK', [10, 20], today, prices, yrange=yrange)"
   ]
  },
  {
   "cell_type": "markdown",
   "metadata": {},
   "source": [
    "Plot delta\n",
    "---------\n",
    "This plots the rate of change versus the price of the stock"
   ]
  },
  {
   "cell_type": "code",
   "execution_count": null,
   "metadata": {
    "collapsed": false
   },
   "outputs": [],
   "source": [
    "if __name__ == '__main__':\n",
    "    plot_delta(portfolios, \"3888.HK\", [10,20], today, prices)"
   ]
  },
  {
   "cell_type": "markdown",
   "metadata": {},
   "source": [
    "Plot portfolio evolution\n",
    "---------------------\n",
    "\n",
    "Plot how portfolio value changes over time if stock does not move"
   ]
  },
  {
   "cell_type": "code",
   "execution_count": null,
   "metadata": {
    "collapsed": false
   },
   "outputs": [],
   "source": [
    "if __name__ == '__main__':\n",
    "    plot_function([0,90], [p.evolve(date=today) for p in portfolios])"
   ]
  },
  {
   "cell_type": "markdown",
   "metadata": {},
   "source": [
    "Plot theta\n",
    "-----------\n",
    "\n",
    "Plot return of portfolio versus day assuming stock price does not change"
   ]
  },
  {
   "cell_type": "code",
   "execution_count": null,
   "metadata": {
    "collapsed": false
   },
   "outputs": [],
   "source": [
    "if __name__ == '__main__':\n",
    "    plot_function([0,90], [p.theta_portfolio(date=today) for p in portfolios])"
   ]
  },
  {
   "cell_type": "markdown",
   "metadata": {},
   "source": [
    "Plot market dependency\n",
    "------\n",
    "Plot how portfolio changes with market changes"
   ]
  },
  {
   "cell_type": "code",
   "execution_count": null,
   "metadata": {
    "collapsed": false
   },
   "outputs": [],
   "source": [
    "if __name__ == '__main__':\n",
    "    plot_function([0.7,1.3], [p.market_dep() for p in portfolios] +\n",
    "                          [p.market_dep(mtm=True, date=today) for p in portfolios], vlines=[1.0], yrange=yrange)"
   ]
  },
  {
   "cell_type": "code",
   "execution_count": null,
   "metadata": {
    "collapsed": true
   },
   "outputs": [],
   "source": []
  },
  {
   "cell_type": "code",
   "execution_count": null,
   "metadata": {
    "collapsed": true
   },
   "outputs": [],
   "source": []
  }
 ],
 "metadata": {
  "kernelspec": {
   "display_name": "Python 3",
   "language": "python",
   "name": "python3"
  },
  "language_info": {
   "codemirror_mode": {
    "name": "ipython",
    "version": 3
   },
   "file_extension": ".py",
   "mimetype": "text/x-python",
   "name": "python",
   "nbconvert_exporter": "python",
   "pygments_lexer": "ipython3",
   "version": "3.6.6"
  }
 },
 "nbformat": 4,
 "nbformat_minor": 2
}
