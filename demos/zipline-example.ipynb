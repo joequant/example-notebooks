{
 "metadata": {
  "name": "",
  "signature": "sha256:911fa5e37d6f961dcdce31e06881c3dee76677f3c682fac1859536e4efc52fc9"
 },
 "nbformat": 3,
 "nbformat_minor": 0,
 "worksheets": [
  {
   "cells": [
    {
     "cell_type": "heading",
     "level": 1,
     "metadata": {},
     "source": [
      "Zipline"
     ]
    },
    {
     "cell_type": "markdown",
     "metadata": {},
     "source": [
      "Zipline is an open-source algorithmic trading simulator.\n",
      "\n",
      "The source can be found at: https://github.com/quantopian/zipline\n",
      "\n",
      "Some benefits include:\n",
      "\n",
      "* Realistic: slippage, transaction costs, order delays.\n",
      "* Stream-based: Process each event individually, avoids look-ahead bias.\n",
      "* Batteries included: Common transforms (moving average) as well as common risk calculations (Sharpe)."
     ]
    },
    {
     "cell_type": "code",
     "collapsed": false,
     "input": [
      "import pandas as pd\n",
      "import pandas.io.data\n",
      "import numpy as np\n",
      "\n",
      "import pytz\n",
      "from datetime import datetime\n",
      "\n",
      "import zipline as zp\n",
      "from zipline.finance.slippage import FixedSlippage\n"
     ],
     "language": "python",
     "metadata": {},
     "outputs": []
    },
    {
     "cell_type": "heading",
     "level": 2,
     "metadata": {},
     "source": [
      "Simplest Zipline Algorithm: Buy Apple"
     ]
    },
    {
     "cell_type": "markdown",
     "metadata": {},
     "source": [
      "Load Apple (AAPL) historical prices from yahoo finance."
     ]
    },
    {
     "cell_type": "code",
     "collapsed": false,
     "input": [
      "start = datetime(1990, 1, 1, 0, 0, 0, 0, pytz.utc)\n",
      "end = datetime(2002, 1, 1, 0, 0, 0, 0, pytz.utc)\n",
      "data = zp.utils.factory.load_from_yahoo(stocks=['AAPL'], indexes={}, start=start,\n",
      "                                        end=end, adjusted=False)\n",
      "data.plot()"
     ],
     "language": "python",
     "metadata": {},
     "outputs": []
    },
    {
     "cell_type": "markdown",
     "metadata": {},
     "source": [
      "Define trading algorithm by inheriting from `zipline.TradingAlgorithm`.\n",
      "\n",
      "We have to overwrite two methods:\n",
      "\n",
      "* `initialize()`: Called once before the beginning of the simulation\n",
      "* `handle_data(data)`: Called for every bar. Data contains only information available at this point in time.\n",
      "\n",
      "Some commonly used attributes and methods include:\n",
      "\n",
      "* `self.order(stock, amount)`: Order `amount` of `stock`'s shares\n",
      "* `self.run(data)`: Start the simulation. `data` can be a `pandas.DataFrame` that will be streamed through the algorithm and accessed there. It returns a `DataFrame` containing performance information of our algorithm."
     ]
    },
    {
     "cell_type": "code",
     "collapsed": false,
     "input": [
      "class BuyApple(zp.TradingAlgorithm): # inherit from TradingAlgorithm\n",
      "    def handle_data(self, data): # overload handle_data() method\n",
      "        self.order('AAPL', 1) # stock (='AAPL') to order and amount (=1 shares)"
     ],
     "language": "python",
     "metadata": {},
     "outputs": []
    },
    {
     "cell_type": "markdown",
     "metadata": {},
     "source": [
      "Instantiate class and call the `.run()` method to start the backtest."
     ]
    },
    {
     "cell_type": "code",
     "collapsed": false,
     "input": [
      "algo = BuyApple()\n",
      "perf = algo.run(data)"
     ],
     "language": "python",
     "metadata": {},
     "outputs": []
    },
    {
     "cell_type": "code",
     "collapsed": false,
     "input": [
      "perf"
     ],
     "language": "python",
     "metadata": {},
     "outputs": []
    },
    {
     "cell_type": "code",
     "collapsed": false,
     "input": [
      "perf.portfolio_value.plot()"
     ],
     "language": "python",
     "metadata": {},
     "outputs": []
    },
    {
     "cell_type": "markdown",
     "metadata": {},
     "source": [
      "Common Algo Trading Strategies\n",
      "==============================\n",
      "\n",
      "Broadly, algorithmic trading strategies come in two flavors:\n",
      "\n",
      "* Momentum Strategy: Stocks have momentum (i.e. upward or downward trends) that we can detect and exploit.\n",
      "* Mean-reversion Strategy: Stocks return to their mean and we can exploit when it deviates from that mean."
     ]
    },
    {
     "cell_type": "markdown",
     "metadata": {},
     "source": [
      "Classic Momentum Strategy: Dual Moving Average Cross-Over\n",
      "---------------------------------------------------------"
     ]
    },
    {
     "cell_type": "code",
     "collapsed": false,
     "input": [
      "class DualMovingAverage(zp.TradingAlgorithm):\n",
      "    \"\"\"Dual Moving Average Crossover algorithm.\n",
      "\n",
      "    This algorithm buys apple once its short moving average crosses\n",
      "    its long moving average (indicating upwards momentum) and sells\n",
      "    its shares once the averages cross again (indicating downwards\n",
      "    momentum).\n",
      "\n",
      "    \"\"\"\n",
      "    def initialize(self, short_window=100, long_window=400):\n",
      "        # Add 2 mavg transforms, one with a long window, one\n",
      "        # with a short window.\n",
      "        self.add_transform(zp.transforms.MovingAverage, 'short_mavg', ['price'],\n",
      "                           window_length=short_window)\n",
      "\n",
      "        self.add_transform(zp.transforms.MovingAverage, 'long_mavg', ['price'],\n",
      "                           window_length=long_window)\n",
      "\n",
      "        # To keep track of whether we invested in the stock or not\n",
      "        self.invested = False\n",
      "\n",
      "    def handle_data(self, data):\n",
      "        short_mavg = data['AAPL'].short_mavg['price']\n",
      "        long_mavg = data['AAPL'].long_mavg['price']\n",
      "        buy = False\n",
      "        sell = False\n",
      "\n",
      "        if short_mavg > long_mavg and not self.invested:\n",
      "            self.order('AAPL', 100)\n",
      "            self.invested = True\n",
      "            buy = True\n",
      "        elif short_mavg < long_mavg and self.invested:\n",
      "            self.order('AAPL', -100)\n",
      "            self.invested = False\n",
      "            sell = True\n",
      "\n",
      "        self.record(short_mavg=short_mavg,\n",
      "                    long_mavg=long_mavg,\n",
      "                    buy=buy,\n",
      "                    sell=sell)"
     ],
     "language": "python",
     "metadata": {},
     "outputs": []
    },
    {
     "cell_type": "code",
     "collapsed": false,
     "input": [
      "dma = DualMovingAverage()\n",
      "perf = dma.run(data)"
     ],
     "language": "python",
     "metadata": {},
     "outputs": []
    },
    {
     "cell_type": "code",
     "collapsed": false,
     "input": [
      "fig = plt.figure()\n",
      "ax1 = fig.add_subplot(211,  ylabel='Price in $')\n",
      "data['AAPL'].plot(ax=ax1, color='r', lw=2.)\n",
      "perf[['short_mavg', 'long_mavg']].plot(ax=ax1, lw=2.)\n",
      "\n",
      "ax1.plot(perf.ix[perf.buy].index, perf.short_mavg[perf.buy],\n",
      "         '^', markersize=10, color='m')\n",
      "ax1.plot(perf.ix[perf.sell].index, perf.short_mavg[perf.sell],\n",
      "         'v', markersize=10, color='k')\n",
      "\n",
      "ax2 = fig.add_subplot(212, ylabel='Portfolio value in $')\n",
      "perf.portfolio_value.plot(ax=ax2, lw=2.)\n",
      "\n",
      "ax2.plot(perf.ix[perf.buy].index, perf.portfolio_value[perf.buy],\n",
      "         '^', markersize=10, color='m')\n",
      "ax2.plot(perf.ix[perf.sell].index, perf.portfolio_value[perf.sell],\n",
      "         'v', markersize=10, color='k')\n",
      "\n",
      "plt.legend(loc=0)\n",
      "plt.gcf().set_size_inches(14, 10)"
     ],
     "language": "python",
     "metadata": {},
     "outputs": []
    },
    {
     "cell_type": "markdown",
     "metadata": {},
     "source": [
      "Mean-reversion strategies\n",
      "-------------------------\n",
      "\n",
      "Idea: If stock (or combination of stocks as in pairtrading) always revert back to its mean, we can long (short) the stock if it decreases (increases) from its mean."
     ]
    },
    {
     "cell_type": "markdown",
     "metadata": {},
     "source": [
      "Load stocks that are correlated (and hopefully cointegrated, which means that a linear combination of them will be mean-reverting).\n",
      "\n",
      "Coca-Cola (KO) and Pepsi (PEP) is a good example as they are both in the same market segment and are both likely to be affected by the same events (e.g. increase of price of corn syrup)."
     ]
    },
    {
     "cell_type": "code",
     "collapsed": false,
     "input": [
      "start = datetime(1997, 1, 1, 0, 0, 0, 0, pytz.utc)\n",
      "end = datetime(1998, 6, 1, 0, 0, 0, 0, pytz.utc)\n",
      "data = zp.utils.factory.load_from_yahoo(stocks=['PEP', 'KO'], indexes={},\n",
      "                                        start=start, end=end, adjusted=True)"
     ],
     "language": "python",
     "metadata": {},
     "outputs": []
    },
    {
     "cell_type": "markdown",
     "metadata": {},
     "source": [
      "The idea is that while neither stock price is mean-reverting, a linear combination of them will be."
     ]
    },
    {
     "cell_type": "code",
     "collapsed": false,
     "input": [
      "data[['PEP', 'KO']].plot()\n",
      "plt.ylabel('price')\n",
      "\n",
      "plt.figure()\n",
      "integrated = data.PEP - data.KO\n",
      "integrated.plot()\n",
      "plt.ylabel('combined price')\n",
      "plt.axhline(integrated.mean())"
     ],
     "language": "python",
     "metadata": {},
     "outputs": []
    },
    {
     "cell_type": "code",
     "collapsed": false,
     "input": [
      "plt.plot(data.PEP, data.KO, 'x')\n",
      "plt.xlabel('PEP')\n",
      "plt.ylabel('KO')"
     ],
     "language": "python",
     "metadata": {},
     "outputs": []
    },
    {
     "cell_type": "markdown",
     "metadata": {},
     "source": [
      "Normally, we'd run a statistical test for cointegration like the [Dickey-Fuller test](http://en.wikipedia.org/wiki/Dickey%E2%80%93Fuller_test) but we'll skip this here.\n",
      "\n",
      "Idea of the strategy\n",
      "--------------------\n",
      "Now, we can exploit this mean-reversion property of the integrated series as follows: Assume that PEP and KO drift apart, as they do Nov 1997. If we assume that they are mean-reverting we expect this gap to close again as the stocks prices come back together (which they do by Jan 1998). In other words, during this time where the spread is large, we think that PEP is overvalued, while KO is undervalued. We thus short PEP with the expectation that it will go down, and long KO under the expectation that it will go up.\n",
      "\n",
      "Estimating the regression coefficients\n",
      "--------------------------------------\n",
      "In this particular example it seems we can just subtract them but in reality it might be that the correlation is not 1. In our algorithm we thus estimate the regression between them in order to create a mean-reverting series using `scipy.stats.linregress(price1, price2)`.\n",
      "\n",
      "BatchTransform\n",
      "--------------\n",
      "However, Zipline is designed in such a way that we ever only have access to the current price. We thus need a window of past events. The `batch_transform` gives us this functionality. It is a decorator for a function which will, behind the scenes, aggregate the data and pass a `pandas` `Panel` (a 3D `DataFrame`) into our a function."
     ]
    },
    {
     "cell_type": "code",
     "collapsed": false,
     "input": [
      "# Warning: This algorithm is written to illustrate the core idea of pairtrading. \n",
      "# In reality, however, there are many more details we have to consider to make\n",
      "# this actually work.\n",
      "\n",
      "from zipline.transforms import batch_transform\n",
      "from scipy import stats\n",
      "\n",
      "@batch_transform\n",
      "def regression_transform(data):\n",
      "    \"\"\"Computes regression coefficient (slope and intercept)\n",
      "    via Ordinary Least Squares between two SIDs.\n",
      "    \"\"\"\n",
      "    # data is now an array containg all past events up until now\n",
      "    pep_price = data.price['PEP']\n",
      "    ko_price = data.price['KO']\n",
      "    slope, intercept, _, _, _ = stats.linregress(pep_price, ko_price)\n",
      "\n",
      "    return intercept, slope\n",
      "\n",
      "\n",
      "class Pairtrade(zp.TradingAlgorithm):\n",
      "    \"\"\"Pairtrading relies on cointegration of two stocks.\n",
      "\n",
      "    The expectation is that once the two stocks drifted apart\n",
      "    (i.e. there is spread), they will eventually revert again. Thus,\n",
      "    if we short the upward drifting stock and long the downward\n",
      "    drifting stock (in short, we buy the spread) once the spread\n",
      "    widened we can sell the spread with profit once they converged\n",
      "    again. A nice property of this algorithm is that we enter the\n",
      "    market in a neutral position.\n",
      "\n",
      "    This specific algorithm tries to exploit the cointegration of\n",
      "    Pepsi and Coca Cola by estimating the correlation between the\n",
      "    two. Divergence of the spread is evaluated by z-scoring.\n",
      "    \"\"\"\n",
      "\n",
      "    def initialize(self, window_length=100):\n",
      "        self.set_slippage(FixedSlippage())\n",
      "        self.invested = False\n",
      "        self.regression_transform = regression_transform(refresh_period=500,\n",
      "                                                         window_length=window_length)\n",
      "\n",
      "    def handle_data(self, data):\n",
      "        # 1. Compute regression coefficients between PEP and KO\n",
      "        params = self.regression_transform.handle_data(data)\n",
      "        if params is None:\n",
      "            self.record(buy_spread=False, sell_spread=False)\n",
      "            return\n",
      "        intercept, slope = params\n",
      "\n",
      "        # 2. Compute spread\n",
      "        spread = (slope * data['PEP'].price + intercept) - data['KO'].price\n",
      "        \n",
      "        buy_spread = False\n",
      "        sell_spread = False\n",
      "        # 3. Place orders\n",
      "        if spread >= 5.0 and not self.invested:\n",
      "            # Stocks drifted apart, long one, short the other\n",
      "            self.order('KO', 100)\n",
      "            self.order('PEP', -100)\n",
      "            self.invested = True\n",
      "            buy_spread = True\n",
      "        elif spread <= 2. and self.invested:\n",
      "            # The spread is closing again, exit positions.\n",
      "            # jQuery20309022272887534528_1427561821985?\n",
      "            # Profit!\n",
      "            self.order('KO', -100)\n",
      "            self.order('PEP', 100)\n",
      "            self.invested = False\n",
      "            sell_spread = True\n",
      "        \n",
      "        # Record spread for later analysis\n",
      "        self.record(spread=spread,\n",
      "                    buy_spread=buy_spread,\n",
      "                    sell_spread=sell_spread)"
     ],
     "language": "python",
     "metadata": {},
     "outputs": []
    },
    {
     "cell_type": "code",
     "collapsed": false,
     "input": [
      "# Run strategy\n",
      "pairtrade = Pairtrade()\n",
      "results = pairtrade.run(data)"
     ],
     "language": "python",
     "metadata": {},
     "outputs": []
    },
    {
     "cell_type": "code",
     "collapsed": false,
     "input": [
      "ax1 = plt.subplot(311)\n",
      "data[['PEP', 'KO']].plot(ax=ax1)\n",
      "plt.ylabel('price')\n",
      "plt.setp(ax1.get_xticklabels(), visible=False)\n",
      "\n",
      "ax2 = plt.subplot(312, sharex=ax1)\n",
      "results.spread.plot(ax=ax2, color='k')\n",
      "ax2.axhline(2, color='k')\n",
      "ax2.axhline(5, color='k')\n",
      "plt.ylabel('spread')\n",
      "plt.setp(ax2.get_xticklabels(), visible=False)\n",
      "\n",
      "ax3 = plt.subplot(313, sharex=ax1)\n",
      "results.portfolio_value.plot(ax=ax3, color='k')\n",
      "plt.ylabel('portfolio value')\n",
      "\n",
      "# Plot spread enter and exit markers\n",
      "enter_pos = results.index[results.buy_spread]\n",
      "exit_pos = results.index[results.sell_spread]\n",
      "for ax in [ax1, ax2, ax3]:\n",
      "    ax.axvline(enter_pos, c='g')\n",
      "    ax.axvline(exit_pos, c='r')\n",
      "plt.gcf().set_size_inches(16, 12)"
     ],
     "language": "python",
     "metadata": {},
     "outputs": []
    },
    {
     "cell_type": "heading",
     "level": 2,
     "metadata": {},
     "source": [
      "Optional: Zipline version of Google Strategy"
     ]
    },
    {
     "cell_type": "code",
     "collapsed": false,
     "input": [
      "# Load Preis data\n",
      "data = pd.read_csv('data/GoogleTrendsData.csv', index_col='Date', parse_dates=True)\n",
      "data.index = data.index.tz_localize(pytz.UTC)\n",
      "data.head()"
     ],
     "language": "python",
     "metadata": {},
     "outputs": []
    },
    {
     "cell_type": "code",
     "collapsed": false,
     "input": [
      "# window length of 3 as in original publication\n",
      "delta_t = 3\n",
      "\n",
      "class GoogleTrends(zp.TradingAlgorithm):\n",
      "    def initialize(self):\n",
      "        # Moving window. Defining maxlen causes the window length \n",
      "        # to remain constant as old events get dropped once full.\n",
      "        self.window = deque(maxlen=delta_t)\n",
      "        # Turns off slippage to simplify simulation.\n",
      "        self.set_slippage(FixedSlippage())\n",
      "    \n",
      "    def handle_data(self, data):\n",
      "        window_full = len(self.window) == delta_t\n",
      "        \n",
      "        # Extract debt search volume. \n",
      "        # 'price' is the default field used if no further information is supplied.\n",
      "        debt = data['debt']['price']\n",
      "        \n",
      "        # Exit any prior positions\n",
      "        if 'djia' in self.portfolio.positions:\n",
      "            self.order('djia', -self.portfolio.positions['djia']['amount'])\n",
      "            \n",
      "        # Moving average cross-over logic\n",
      "        if debt > np.mean(self.window) and window_full:\n",
      "            self.order('djia', -100)\n",
      "        elif debt < np.mean(self.window) and window_full:\n",
      "            self.order('djia', 100)\n",
      "        \n",
      "        self.window.append(debt)"
     ],
     "language": "python",
     "metadata": {},
     "outputs": []
    }
   ],
   "metadata": {}
  }
 ]
}