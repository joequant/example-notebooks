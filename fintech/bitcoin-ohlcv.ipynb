{
 "cells": [
  {
   "cell_type": "code",
   "execution_count": null,
   "metadata": {},
   "outputs": [],
   "source": [
    "import ccxt\n",
    "from datetime import datetime\n",
    "import plotly.graph_objects as go\n",
    "binance = ccxt.binance()\n",
    "trading_pair = 'BTC/USDT'\n",
    "candles = binance.fetch_ohlcv(trading_pair, '1m')\n",
    "dates = []\n",
    "open_data = []\n",
    "high_data = []\n",
    "low_data = []\n",
    "close_data = []\n",
    "for candle in candles:\n",
    "    dates.append(datetime.fromtimestamp(candle[0] / 1000.0).strftime('%Y-%m-%d %H:%M:%S.%f'))\n",
    "    open_data.append(candle[1])\n",
    "    high_data.append(candle[2])\n",
    "    low_data.append(candle[3])\n",
    "    close_data.append(candle[4])\n",
    "fig = go.Figure(data=[go.Candlestick(x=dates,\n",
    "                      open=open_data, high=high_data,\n",
    "                      low=low_data, close=close_data)])\n",
    "fig.show()"
   ]
  },
  {
   "cell_type": "code",
   "execution_count": null,
   "metadata": {},
   "outputs": [],
   "source": [
    "import pandas as pd\n",
    "df = pd.DataFrame(candles, columns=[\"dates\", \"open\", \"high\", \"low\", \"close\", \"volume\"])\n"
   ]
  },
  {
   "cell_type": "code",
   "execution_count": null,
   "metadata": {},
   "outputs": [],
   "source": [
    "import plotly.express as px\n",
    "fig = px.histogram(df, x=\"low\", nbins=100)\n",
    "fig.show()"
   ]
  },
  {
   "cell_type": "code",
   "execution_count": null,
   "metadata": {},
   "outputs": [],
   "source": [
    "candles"
   ]
  },
  {
   "cell_type": "code",
   "execution_count": null,
   "metadata": {},
   "outputs": [],
   "source": [
    "import mplfinance as mpf"
   ]
  },
  {
   "cell_type": "code",
   "execution_count": null,
   "metadata": {},
   "outputs": [],
   "source": [
    "mpf.plot(df[-50:], no_xgaps = True)"
   ]
  },
  {
   "cell_type": "code",
   "execution_count": null,
   "metadata": {},
   "outputs": [],
   "source": [
    "df"
   ]
  }
 ],
 "metadata": {
  "kernelspec": {
   "display_name": "Python 3",
   "language": "python",
   "name": "python3"
  },
  "language_info": {
   "codemirror_mode": {
    "name": "ipython",
    "version": 3
   },
   "file_extension": ".py",
   "mimetype": "text/x-python",
   "name": "python",
   "nbconvert_exporter": "python",
   "pygments_lexer": "ipython3",
   "version": "3.8.5"
  }
 },
 "nbformat": 4,
 "nbformat_minor": 4
}
