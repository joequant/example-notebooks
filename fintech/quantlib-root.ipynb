{
 "cells": [
  {
   "cell_type": "code",
   "execution_count": 1,
   "metadata": {},
   "outputs": [],
   "source": [
    "%%python\n",
    "import ROOT"
   ]
  },
  {
   "cell_type": "code",
   "execution_count": 2,
   "metadata": {},
   "outputs": [
    {
     "name": "stdout",
     "output_type": "stream",
     "text": [
      "(int) 0\n"
     ]
    }
   ],
   "source": [
    "gSystem->Load(\"libQuantLib.so\")"
   ]
  },
  {
   "cell_type": "code",
   "execution_count": 3,
   "metadata": {},
   "outputs": [],
   "source": [
    "#include <ql/quantlib.hpp>\n",
    "#include <sstream>"
   ]
  },
  {
   "cell_type": "code",
   "execution_count": 4,
   "metadata": {},
   "outputs": [],
   "source": [
    "using namespace QuantLib;\n",
    "namespace ql = QuantLib;"
   ]
  },
  {
   "cell_type": "code",
   "execution_count": 5,
   "metadata": {},
   "outputs": [],
   "source": [
    "class Pricer {\n",
    "    private:\n",
    "       Date todaysDate;\n",
    "       Date settlementDate;\n",
    "       Date maturity;\n",
    "       Real stock;\n",
    "       Real strike;\n",
    "       Spread dividendYield;\n",
    "       Rate riskFreeRate;\n",
    "       Volatility volatility;\n",
    "       Option::Type type;\n",
    "public:    \n",
    "    Pricer() : todaysDate(27, Jan, 2011),\n",
    "    settlementDate(27, Jan, 2011),\n",
    "    maturity(27, May, 2011),\n",
    "    stock(47.0),\n",
    "    strike(40.0),\n",
    "    dividendYield(0.00),\n",
    "    riskFreeRate(0.05),\n",
    "    volatility(0.20),\n",
    "    type(Option::Call) {\n",
    "    };\n",
    "    void input(int dayToday,\n",
    "              int monthToday,\n",
    "              int yearToday,\n",
    "              int dayMaturity,\n",
    "              int monthMaturity,\n",
    "              int yearMaturity,\n",
    "              Real stock_,\n",
    "              Real strike_) {\n",
    "        todaysDate = Date(static_cast<Day>(dayToday), \n",
    "                          static_cast<Month>(monthToday), \n",
    "                          static_cast<Year>(yearToday));\n",
    "        maturity = Date(static_cast<Day>(dayMaturity), \n",
    "                        static_cast<Month>(monthMaturity), \n",
    "                        static_cast<Year>(yearMaturity));\n",
    "        stock = stock_;\n",
    "        strike = strike_;\n",
    "    };\n",
    "std::string output() {\n",
    "    std::stringstream s;\n",
    "// date set up\n",
    "Calendar calendar = TARGET();\n",
    "Settings::instance().evaluationDate() = todaysDate;\n",
    "\n",
    "// option parameters\n",
    "DayCounter dayCounter = Actual365Fixed();\n",
    "\n",
    "std::shared_ptr<Exercise> europeanExercise(new EuropeanExercise(maturity));\n",
    "\n",
    "Handle<Quote> underlyingH(std::shared_ptr<Quote>(new SimpleQuote(stock)));\n",
    "\n",
    "// bootstrap the yield/dividend/vol curves\n",
    "Handle<YieldTermStructure> flatTermStructure(ext::shared_ptr<YieldTermStructure>(\n",
    "\tnew FlatForward(\n",
    "\tsettlementDate,\n",
    "\triskFreeRate,\n",
    "\tdayCounter)));\n",
    "\n",
    "Handle<YieldTermStructure> flatDividendTS(ext::shared_ptr<YieldTermStructure>(\n",
    "\tnew FlatForward(settlementDate,\n",
    "\tdividendYield,\n",
    "\tdayCounter)));\n",
    "\n",
    "Handle<BlackVolTermStructure> flatVolTS(ext::shared_ptr<BlackVolTermStructure>(\n",
    "\tnew BlackConstantVol(\n",
    "\tsettlementDate,\n",
    "\tcalendar,\n",
    "\tvolatility,\n",
    "\tdayCounter)));\n",
    "\n",
    "ext::shared_ptr<StrikedTypePayoff> payoff(\n",
    "\tnew PlainVanillaPayoff(\n",
    "\ttype,\n",
    "\tstrike));\n",
    "\n",
    "ext::shared_ptr<BlackScholesMertonProcess> bsmProcess(\n",
    "\tnew BlackScholesMertonProcess(\n",
    "\tunderlyingH,\n",
    "\tflatDividendTS,\n",
    "\tflatTermStructure,\n",
    "\tflatVolTS));\n",
    "\n",
    "// our option is European-style\n",
    "VanillaOption europeanOption(\n",
    "\tpayoff,\n",
    "\teuropeanExercise);\n",
    "\n",
    "// computing the option price with the analytic Black-Scholes formulae\n",
    "europeanOption.setPricingEngine(ext::shared_ptr<PricingEngine>(\n",
    "\tnew AnalyticEuropeanEngine(\n",
    "\tbsmProcess)));\n",
    "\n",
    "// outputting\n",
    "s << \"Option type = \" << type << std::endl;\n",
    "s << \"Maturity = \" << maturity << std::endl;\n",
    "s << \"Stock price = \" << stock << std::endl;\n",
    "s << \"Strike = \" << strike << std::endl;\n",
    "s << \"Risk-free interest rate = \" << io::rate(riskFreeRate) << std::endl;\n",
    "s << \"Dividend yield = \" << io::rate(dividendYield) << std::endl;\n",
    "s << \"Volatility = \" << io::volatility(volatility) << std::endl << std::endl;\n",
    "s <<\"European Option value = \" << europeanOption.NPV() << std::endl;\n",
    "    return s.str();\n",
    "}\n",
    "};\n"
   ]
  },
  {
   "cell_type": "code",
   "execution_count": 6,
   "metadata": {},
   "outputs": [],
   "source": [
    "QuantLib::Date get_date(int day, int month, int year) {\n",
    "    return QuantLib::Date(ql::Day(day), ql::Month(month), ql::Year(year));\n",
    "}"
   ]
  },
  {
   "cell_type": "code",
   "execution_count": 7,
   "metadata": {},
   "outputs": [],
   "source": [
    "auto b = Pricer();\n",
    "QuantLib::Date maturity;\n",
    "QuantLib::Date evaluationDate;"
   ]
  },
  {
   "cell_type": "code",
   "execution_count": 8,
   "metadata": {},
   "outputs": [],
   "source": [
    "auto d = get_date(5, 12, 2020);"
   ]
  },
  {
   "cell_type": "code",
   "execution_count": 9,
   "metadata": {},
   "outputs": [
    {
     "name": "stdout",
     "output_type": "stream",
     "text": [
      "December 5th, 2020"
     ]
    }
   ],
   "source": [
    "std::cout << d;"
   ]
  },
  {
   "cell_type": "code",
   "execution_count": 10,
   "metadata": {},
   "outputs": [
    {
     "name": "stdout",
     "output_type": "stream",
     "text": [
      "(std::basic_string<char, std::char_traits<char>, std::allocator<char> > &) \"Option type = Call\n",
      "Maturity = May 27th, 2011\n",
      "Stock price = 47\n",
      "Strike = 40\n",
      "Risk-free interest rate = 5.000000 %\n",
      "Dividend yield = 0.000000 %\n",
      "Volatility = 20.000000 %\n",
      "\n",
      "European Option value = 7.78095\n",
      "\"\n"
     ]
    }
   ],
   "source": [
    "c = b.output()"
   ]
  },
  {
   "cell_type": "code",
   "execution_count": null,
   "metadata": {},
   "outputs": [],
   "source": []
  },
  {
   "cell_type": "code",
   "execution_count": 13,
   "metadata": {},
   "outputs": [
    {
     "name": "stdout",
     "output_type": "stream",
     "text": [
      "{'target_name': 'jupyter.widget'}\n",
      "{'target_name': 'jupyter.widget'}\n",
      "{'target_name': 'jupyter.widget'}\n",
      "{'target_name': 'jupyter.widget'}\n",
      "{'target_name': 'jupyter.widget'}\n",
      "{'target_name': 'jupyter.widget'}\n",
      "{'target_name': 'jupyter.widget'}\n",
      "{'target_name': 'jupyter.widget'}\n",
      "{'target_name': 'jupyter.widget'}\n",
      "{'target_name': 'jupyter.widget'}\n",
      "{'target_name': 'jupyter.widget'}\n",
      "{'target_name': 'jupyter.widget'}\n",
      "{'target_name': 'jupyter.widget'}\n",
      "{'target_name': 'jupyter.widget'}\n",
      "{'target_name': 'jupyter.widget'}\n",
      "{'target_name': 'jupyter.widget'}\n",
      "{'target_name': 'jupyter.widget'}\n",
      "{'target_name': 'jupyter.widget'}\n",
      "{'target_name': 'jupyter.widget'}\n",
      "{'target_name': 'jupyter.widget'}\n",
      "{'target_name': 'jupyter.widget'}\n",
      "{'target_name': 'jupyter.widget'}\n",
      "{'target_name': 'jupyter.widget'}\n",
      "{'target_name': 'jupyter.widget'}\n",
      "{'target_name': 'jupyter.widget'}\n",
      "{'target_name': 'jupyter.widget'}\n"
     ]
    }
   ],
   "source": [
    "%%python\n",
    "import ipywidgets\n",
    "import ROOT\n",
    "maturity = ipywidgets.widgets.DatePicker(\n",
    "    description='Maturity',\n",
    "    disabled=False\n",
    ")\n",
    "evaluation = ipywidgets.widgets.DatePicker(\n",
    "    description='Evaluation date',\n",
    "    disabled=False\n",
    ")\n",
    "\n",
    "stock_price = ipywidgets.FloatLogSlider(description=\"Stock Price\")\n",
    "strike = ipywidgets.FloatLogSlider(description=\"Strike\")\n",
    "risk_free = ipywidgets.FloatSlider(description=\"Risk Free\")\n",
    "dividend = ipywidgets.FloatSlider(description=\"Dividend\")\n",
    "volatility = ipywidgets.FloatSlider(description=\"Volatility\")\n",
    "\n",
    "button = ipywidgets.Button(description=\"Click Me!\")\n",
    "output = ipywidgets.Output();\n",
    "\n",
    "def on_button_clicked(button):\n",
    "    q = maturity.value\n",
    "    p = evaluation.value\n",
    "    ROOT.b.input(p.day, p.month, p.year,\n",
    "                q.day, q.month, q.year,\n",
    "                stock_price.value, strike.value)\n",
    "    output.append_stdout(ROOT.b.output())\n",
    "#    output.append.stdout(ROOT.maturity)\n",
    "\n",
    "button.on_click(on_button_clicked)"
   ]
  },
  {
   "cell_type": "code",
   "execution_count": 14,
   "metadata": {},
   "outputs": [
    {
     "name": "stdout",
     "output_type": "stream",
     "text": [
      "{'target_name': 'jupyter.widget'}\n",
      "{'target_name': 'jupyter.widget'}\n"
     ]
    },
    {
     "data": {
      "application/vnd.jupyter.widget-view+json": {
       "model_id": "29f0bca66d6442d79d60ccab101f9312",
       "version_major": 2,
       "version_minor": 0
      },
      "text/plain": [
       "VBox(children=(DatePicker(value=datetime.date(2021, 2, 28), description='Maturity'), DatePicker(value=datetime.date(2020, 8, 30), description='Evaluation date'), FloatLogSlider(value=1.0, description='Stock Price'), FloatLogSlider(value=1.0, description='Strike'), FloatSlider(value=0.0, description='Risk Free'), FloatSlider(value=0.0, description='Dividend'), FloatSlider(value=0.0, description='Volatility'), Button(description='Click Me!', style=ButtonStyle()), Output()))"
      ]
     },
     "metadata": {},
     "output_type": "display_data"
    }
   ],
   "source": [
    "%%python\n",
    "import datetime\n",
    "from dateutil.relativedelta import relativedelta\n",
    "evaluation.value = datetime.date.today()\n",
    "maturity.value = datetime.date.today() + \\\n",
    "   relativedelta(months=+6)\n",
    "a = ipywidgets.VBox([maturity,\n",
    "                evaluation,\n",
    "                stock_price,\n",
    "                strike,\n",
    "                risk_free,\n",
    "                dividend,\n",
    "                volatility,\n",
    "                button, output])\n",
    "a"
   ]
  },
  {
   "cell_type": "code",
   "execution_count": null,
   "metadata": {},
   "outputs": [],
   "source": [
    "%%python\n",
    "maturity.value.month"
   ]
  },
  {
   "cell_type": "code",
   "execution_count": null,
   "metadata": {},
   "outputs": [],
   "source": [
    "cout << maturity"
   ]
  },
  {
   "cell_type": "code",
   "execution_count": null,
   "metadata": {},
   "outputs": [],
   "source": [
    "%%python\n",
    "ipywidgets.FloatLogSlider()"
   ]
  },
  {
   "cell_type": "code",
   "execution_count": null,
   "metadata": {},
   "outputs": [],
   "source": []
  }
 ],
 "metadata": {
  "kernelspec": {
   "display_name": "ROOT C++ (Python 3)",
   "language": "c++",
   "name": "python3-jupyroot"
  },
  "language_info": {
   "codemirror_mode": "text/x-c++src",
   "file_extension": ".C",
   "mimetype": " text/x-c++src",
   "name": "c++"
  }
 },
 "nbformat": 4,
 "nbformat_minor": 4
}
