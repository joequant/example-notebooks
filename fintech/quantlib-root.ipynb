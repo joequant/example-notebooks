{
 "cells": [
  {
   "cell_type": "code",
   "execution_count": null,
   "metadata": {},
   "outputs": [],
   "source": [
    "%%python\n",
    "import ROOT"
   ]
  },
  {
   "cell_type": "code",
   "execution_count": null,
   "metadata": {},
   "outputs": [],
   "source": [
    "gSystem->Load(\"libQuantLib.so\")"
   ]
  },
  {
   "cell_type": "code",
   "execution_count": null,
   "metadata": {},
   "outputs": [],
   "source": [
    "#include <ql/quantlib.hpp>\n",
    "#include <sstream>"
   ]
  },
  {
   "cell_type": "code",
   "execution_count": null,
   "metadata": {},
   "outputs": [],
   "source": [
    "using namespace QuantLib;\n",
    "namespace ql = QuantLib;"
   ]
  },
  {
   "cell_type": "code",
   "execution_count": null,
   "metadata": {},
   "outputs": [],
   "source": [
    "class Pricer {\n",
    "public:    \n",
    "    Pricer() {};\n",
    "std::string output() {\n",
    "    std::stringstream s;\n",
    "// date set up\n",
    "Calendar calendar = TARGET();\n",
    "Date todaysDate(27, Jan, 2011);\n",
    "Date settlementDate(27, Jan, 2011);\n",
    "Settings::instance().evaluationDate() = todaysDate;\n",
    "\n",
    "// option parameters\n",
    "Option::Type type(Option::Call);\n",
    "Real stock = 47;\n",
    "Real strike = 40;\n",
    "Spread dividendYield = 0.00;\n",
    "Rate riskFreeRate = 0.05;\n",
    "Volatility volatility = 0.20;\n",
    "Date maturity(27, May, 2011);\n",
    "DayCounter dayCounter = Actual365Fixed();\n",
    "\n",
    "std::shared_ptr<Exercise> europeanExercise(new EuropeanExercise(maturity));\n",
    "\n",
    "Handle<Quote> underlyingH(std::shared_ptr<Quote>(new SimpleQuote(stock)));\n",
    "\n",
    "// bootstrap the yield/dividend/vol curves\n",
    "Handle<YieldTermStructure> flatTermStructure(ext::shared_ptr<YieldTermStructure>(\n",
    "\tnew FlatForward(\n",
    "\tsettlementDate,\n",
    "\triskFreeRate,\n",
    "\tdayCounter)));\n",
    "\n",
    "Handle<YieldTermStructure> flatDividendTS(ext::shared_ptr<YieldTermStructure>(\n",
    "\tnew FlatForward(settlementDate,\n",
    "\tdividendYield,\n",
    "\tdayCounter)));\n",
    "\n",
    "Handle<BlackVolTermStructure> flatVolTS(ext::shared_ptr<BlackVolTermStructure>(\n",
    "\tnew BlackConstantVol(\n",
    "\tsettlementDate,\n",
    "\tcalendar,\n",
    "\tvolatility,\n",
    "\tdayCounter)));\n",
    "\n",
    "ext::shared_ptr<StrikedTypePayoff> payoff(\n",
    "\tnew PlainVanillaPayoff(\n",
    "\ttype,\n",
    "\tstrike));\n",
    "\n",
    "ext::shared_ptr<BlackScholesMertonProcess> bsmProcess(\n",
    "\tnew BlackScholesMertonProcess(\n",
    "\tunderlyingH,\n",
    "\tflatDividendTS,\n",
    "\tflatTermStructure,\n",
    "\tflatVolTS));\n",
    "\n",
    "// our option is European-style\n",
    "VanillaOption europeanOption(\n",
    "\tpayoff,\n",
    "\teuropeanExercise);\n",
    "\n",
    "// computing the option price with the analytic Black-Scholes formulae\n",
    "europeanOption.setPricingEngine(ext::shared_ptr<PricingEngine>(\n",
    "\tnew AnalyticEuropeanEngine(\n",
    "\tbsmProcess)));\n",
    "\n",
    "// outputting\n",
    "s << \"Option type = \" << type << std::endl;\n",
    "s << \"Maturity = \" << maturity << std::endl;\n",
    "s << \"Stock price = \" << stock << std::endl;\n",
    "s << \"Strike = \" << strike << std::endl;\n",
    "s << \"Risk-free interest rate = \" << io::rate(riskFreeRate) << std::endl;\n",
    "s << \"Dividend yield = \" << io::rate(dividendYield) << std::endl;\n",
    "s << \"Volatility = \" << io::volatility(volatility) << std::endl << std::endl;\n",
    "s <<\"European Option value = \" << europeanOption.NPV() << std::endl;\n",
    "    return s.str();\n",
    "}\n",
    "};\n"
   ]
  },
  {
   "cell_type": "code",
   "execution_count": null,
   "metadata": {},
   "outputs": [],
   "source": [
    "QuantLib::Date get_date(int day, int month, int year) {\n",
    "    return QuantLib::Date(ql::Day(day), ql::Month(month), ql::Year(year));\n",
    "}"
   ]
  },
  {
   "cell_type": "code",
   "execution_count": null,
   "metadata": {},
   "outputs": [],
   "source": [
    "auto b = Pricer();\n",
    "QuantLib::Date maturity;\n",
    "QuantLib::Date evaluationDate;"
   ]
  },
  {
   "cell_type": "code",
   "execution_count": null,
   "metadata": {},
   "outputs": [],
   "source": [
    "auto d = get_date(5, 12, 2020);"
   ]
  },
  {
   "cell_type": "code",
   "execution_count": null,
   "metadata": {},
   "outputs": [],
   "source": [
    "std::cout << d;"
   ]
  },
  {
   "cell_type": "code",
   "execution_count": null,
   "metadata": {},
   "outputs": [],
   "source": [
    "c = b.output()"
   ]
  },
  {
   "cell_type": "code",
   "execution_count": null,
   "metadata": {},
   "outputs": [],
   "source": []
  },
  {
   "cell_type": "code",
   "execution_count": null,
   "metadata": {},
   "outputs": [],
   "source": [
    "%%python\n",
    "import ipywidgets\n",
    "import ROOT\n",
    "maturity = ipywidgets.widgets.DatePicker(\n",
    "    description='Maturity',\n",
    "    disabled=False\n",
    ")\n",
    "evaluation = ipywidgets.widgets.DatePicker(\n",
    "    description='Evaluation date',\n",
    "    disabled=False\n",
    ")\n",
    "\n",
    "stock_price = ipywidgets.FloatLogSlider(description=\"Stock Price\")\n",
    "strike = ipywidgets.FloatLogSlider(description=\"Strike\")\n",
    "risk_free = ipywidgets.FloatSlider(description=\"Risk Free\")\n",
    "dividend = ipywidgets.FloatSlider(description=\"Dividend\")\n",
    "volatility = ipywidgets.FloatSlider(description=\"Volatility\")\n",
    "\n",
    "button = ipywidgets.Button(description=\"Click Me!\")\n",
    "output = ipywidgets.Output();\n",
    "\n",
    "def on_button_clicked(button):\n",
    "    p = maturity.value\n",
    "    ROOT.maturity = ROOT.get_date(p.day, p.month, p.year)\n",
    "    output.append_stdout(ROOT.b.output())\n",
    "#    output.append.stdout(ROOT.maturity)\n",
    "\n",
    "button.on_click(on_button_clicked)"
   ]
  },
  {
   "cell_type": "code",
   "execution_count": null,
   "metadata": {},
   "outputs": [],
   "source": [
    "%%python\n",
    "import datetime\n",
    "from dateutil.relativedelta import relativedelta\n",
    "evaluation.value = datetime.date.today()\n",
    "maturity.value = datetime.date.today() + \\\n",
    "   relativedelta(months=+6)\n",
    "a = ipywidgets.VBox([maturity,\n",
    "                evaluation,\n",
    "                stock_price,\n",
    "                strike,\n",
    "                risk_free,\n",
    "                dividend,\n",
    "                volatility,\n",
    "                button, output])\n",
    "a"
   ]
  },
  {
   "cell_type": "code",
   "execution_count": null,
   "metadata": {},
   "outputs": [],
   "source": [
    "%%python\n",
    "maturity.value.month"
   ]
  },
  {
   "cell_type": "code",
   "execution_count": null,
   "metadata": {},
   "outputs": [],
   "source": [
    "cout << maturity"
   ]
  },
  {
   "cell_type": "code",
   "execution_count": null,
   "metadata": {},
   "outputs": [],
   "source": [
    "%%python\n",
    "ipywidgets.FloatLogSlider()"
   ]
  },
  {
   "cell_type": "code",
   "execution_count": null,
   "metadata": {},
   "outputs": [],
   "source": []
  }
 ],
 "metadata": {
  "kernelspec": {
   "display_name": "ROOT C++ (Python 3)",
   "language": "c++",
   "name": "python3-jupyroot"
  },
  "language_info": {
   "codemirror_mode": "text/x-c++src",
   "file_extension": ".C",
   "mimetype": " text/x-c++src",
   "name": "c++"
  }
 },
 "nbformat": 4,
 "nbformat_minor": 4
}
