{
 "cells": [
  {
   "cell_type": "code",
   "execution_count": null,
   "metadata": {},
   "outputs": [],
   "source": [
    "%%python\n",
    "import ROOT"
   ]
  },
  {
   "cell_type": "code",
   "execution_count": null,
   "metadata": {},
   "outputs": [],
   "source": [
    "gSystem->Load(\"libQuantLib.so\")"
   ]
  },
  {
   "cell_type": "code",
   "execution_count": null,
   "metadata": {},
   "outputs": [],
   "source": [
    "#include <ql/quantlib.hpp>\n",
    "#include <sstream>"
   ]
  },
  {
   "cell_type": "code",
   "execution_count": null,
   "metadata": {},
   "outputs": [],
   "source": [
    "using namespace QuantLib;\n",
    "namespace ql = QuantLib;"
   ]
  },
  {
   "cell_type": "code",
   "execution_count": null,
   "metadata": {},
   "outputs": [],
   "source": [
    "class Pricer {\n",
    "    private:\n",
    "       Date todaysDate;\n",
    "       Date settlementDate;\n",
    "       Date maturity;\n",
    "       Real stock;\n",
    "       Real strike;\n",
    "       Spread dividendYield;\n",
    "       Rate riskFreeRate;\n",
    "       Volatility volatility;\n",
    "       Option::Type type;\n",
    "public:    \n",
    "    Pricer() : todaysDate(27, Jan, 2011),\n",
    "    settlementDate(27, Jan, 2011),\n",
    "    maturity(27, May, 2011),\n",
    "    stock(47.0),\n",
    "    strike(40.0),\n",
    "    dividendYield(0.00),\n",
    "    riskFreeRate(0.05),\n",
    "    volatility(0.20),\n",
    "    type(Option::Call) {\n",
    "    };\n",
    "    void input(const std::string &type_,\n",
    "              int dayToday,\n",
    "              int monthToday,\n",
    "              int yearToday,\n",
    "              int dayMaturity,\n",
    "              int monthMaturity,\n",
    "              int yearMaturity,\n",
    "              Real stock_,\n",
    "              Real strike_) {\n",
    "        if (type_ == \"Call\") {\n",
    "            type = Option::Call;\n",
    "        } else {\n",
    "            type = Option::Put;\n",
    "        }\n",
    "        todaysDate = Date(static_cast<Day>(dayToday), \n",
    "                          static_cast<Month>(monthToday), \n",
    "                          static_cast<Year>(yearToday));\n",
    "        maturity = Date(static_cast<Day>(dayMaturity), \n",
    "                        static_cast<Month>(monthMaturity), \n",
    "                        static_cast<Year>(yearMaturity));\n",
    "        stock = stock_;\n",
    "        strike = strike_;\n",
    "    };\n",
    "std::string output() {\n",
    "    std::stringstream s;\n",
    "// date set up\n",
    "Calendar calendar = TARGET();\n",
    "Settings::instance().evaluationDate() = todaysDate;\n",
    "\n",
    "// option parameters\n",
    "DayCounter dayCounter = Actual365Fixed();\n",
    "\n",
    "std::shared_ptr<Exercise> europeanExercise(new EuropeanExercise(maturity));\n",
    "\n",
    "Handle<Quote> underlyingH(std::shared_ptr<Quote>(new SimpleQuote(stock)));\n",
    "\n",
    "// bootstrap the yield/dividend/vol curves\n",
    "Handle<YieldTermStructure> flatTermStructure(ext::shared_ptr<YieldTermStructure>(\n",
    "\tnew FlatForward(\n",
    "\tsettlementDate,\n",
    "\triskFreeRate,\n",
    "\tdayCounter)));\n",
    "\n",
    "Handle<YieldTermStructure> flatDividendTS(ext::shared_ptr<YieldTermStructure>(\n",
    "\tnew FlatForward(settlementDate,\n",
    "\tdividendYield,\n",
    "\tdayCounter)));\n",
    "\n",
    "Handle<BlackVolTermStructure> flatVolTS(ext::shared_ptr<BlackVolTermStructure>(\n",
    "\tnew BlackConstantVol(\n",
    "\tsettlementDate,\n",
    "\tcalendar,\n",
    "\tvolatility,\n",
    "\tdayCounter)));\n",
    "\n",
    "ext::shared_ptr<StrikedTypePayoff> payoff(\n",
    "\tnew PlainVanillaPayoff(\n",
    "\ttype,\n",
    "\tstrike));\n",
    "\n",
    "ext::shared_ptr<BlackScholesMertonProcess> bsmProcess(\n",
    "\tnew BlackScholesMertonProcess(\n",
    "\tunderlyingH,\n",
    "\tflatDividendTS,\n",
    "\tflatTermStructure,\n",
    "\tflatVolTS));\n",
    "\n",
    "// our option is European-style\n",
    "VanillaOption europeanOption(\n",
    "\tpayoff,\n",
    "\teuropeanExercise);\n",
    "\n",
    "// computing the option price with the analytic Black-Scholes formulae\n",
    "europeanOption.setPricingEngine(ext::shared_ptr<PricingEngine>(\n",
    "\tnew AnalyticEuropeanEngine(\n",
    "\tbsmProcess)));\n",
    "\n",
    "// outputting\n",
    "s << \"Option type = \" << type << std::endl;\n",
    "s << \"Maturity = \" << maturity << std::endl;\n",
    "s << \"Stock price = \" << stock << std::endl;\n",
    "s << \"Strike = \" << strike << std::endl;\n",
    "s << \"Risk-free interest rate = \" << io::rate(riskFreeRate) << std::endl;\n",
    "s << \"Dividend yield = \" << io::rate(dividendYield) << std::endl;\n",
    "s << \"Volatility = \" << io::volatility(volatility) << std::endl << std::endl;\n",
    "s <<\"European Option value = \" << europeanOption.NPV() << std::endl;\n",
    "    return s.str();\n",
    "}\n",
    "};\n"
   ]
  },
  {
   "cell_type": "code",
   "execution_count": null,
   "metadata": {},
   "outputs": [],
   "source": [
    "QuantLib::Date get_date(int day, int month, int year) {\n",
    "    return QuantLib::Date(ql::Day(day), ql::Month(month), ql::Year(year));\n",
    "}"
   ]
  },
  {
   "cell_type": "code",
   "execution_count": null,
   "metadata": {},
   "outputs": [],
   "source": [
    "auto b = Pricer();\n",
    "QuantLib::Date maturity;\n",
    "QuantLib::Date evaluationDate;"
   ]
  },
  {
   "cell_type": "code",
   "execution_count": null,
   "metadata": {},
   "outputs": [],
   "source": [
    "auto d = get_date(5, 12, 2020);"
   ]
  },
  {
   "cell_type": "code",
   "execution_count": null,
   "metadata": {},
   "outputs": [],
   "source": [
    "std::cout << d;"
   ]
  },
  {
   "cell_type": "code",
   "execution_count": null,
   "metadata": {},
   "outputs": [],
   "source": [
    "c = b.output()"
   ]
  },
  {
   "cell_type": "code",
   "execution_count": null,
   "metadata": {},
   "outputs": [],
   "source": []
  },
  {
   "cell_type": "code",
   "execution_count": null,
   "metadata": {},
   "outputs": [],
   "source": [
    "%%python\n",
    "import ipywidgets\n",
    "import ROOT\n",
    "\n",
    "type = ipywidgets.Dropdown(\n",
    "    options=['Call', 'Put'],\n",
    "    value='Call',\n",
    "    description='Type:',\n",
    "    disabled=False,\n",
    ")\n",
    "\n",
    "\n",
    "maturity = ipywidgets.widgets.DatePicker(\n",
    "    description='Maturity',\n",
    "    disabled=False\n",
    ")\n",
    "evaluation = ipywidgets.widgets.DatePicker(\n",
    "    description='Evaluation date',\n",
    "    disabled=False\n",
    ")\n",
    "\n",
    "stock_price = ipywidgets.FloatLogSlider(description=\"Stock Price\",\n",
    "                                       min=-2, max=4)\n",
    "strike = ipywidgets.FloatLogSlider(description=\"Strike\",\n",
    "                                  min=-2,max=4)\n",
    "risk_free = ipywidgets.FloatSlider(description=\"Risk Free\")\n",
    "dividend = ipywidgets.FloatSlider(description=\"Dividend\")\n",
    "volatility = ipywidgets.FloatSlider(description=\"Volatility\")\n",
    "\n",
    "button = ipywidgets.Button(description=\"Click Me!\")\n",
    "output = ipywidgets.Output();\n",
    "\n",
    "def on_button_clicked(button):\n",
    "    q = maturity.value\n",
    "    p = evaluation.value\n",
    "    ROOT.b.input(\n",
    "        type.value,\n",
    "        p.day, p.month, p.year,\n",
    "                q.day, q.month, q.year,\n",
    "                stock_price.value, strike.value)\n",
    "    output.append_stdout(ROOT.b.output())\n",
    "#    output.append.stdout(ROOT.maturity)\n",
    "\n",
    "button.on_click(on_button_clicked)"
   ]
  },
  {
   "cell_type": "code",
   "execution_count": null,
   "metadata": {},
   "outputs": [],
   "source": [
    "%%python\n",
    "import datetime\n",
    "from dateutil.relativedelta import relativedelta\n",
    "evaluation.value = datetime.date.today()\n",
    "maturity.value = datetime.date.today() + \\\n",
    "   relativedelta(months=+6)\n",
    "a = ipywidgets.VBox([\n",
    "    type,\n",
    "                maturity,\n",
    "                evaluation,\n",
    "                stock_price,\n",
    "                strike,\n",
    "                risk_free,\n",
    "                dividend,\n",
    "                volatility,\n",
    "                button, output])\n",
    "a"
   ]
  },
  {
   "cell_type": "code",
   "execution_count": null,
   "metadata": {},
   "outputs": [],
   "source": []
  }
 ],
 "metadata": {
  "kernelspec": {
   "display_name": "ROOT C++ (Python 3)",
   "language": "c++",
   "name": "python3-jupyroot"
  },
  "language_info": {
   "codemirror_mode": "text/x-c++src",
   "file_extension": ".C",
   "mimetype": " text/x-c++src",
   "name": "c++"
  }
 },
 "nbformat": 4,
 "nbformat_minor": 4
}
