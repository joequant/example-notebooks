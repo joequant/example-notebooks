{
 "cells": [
  {
   "cell_type": "code",
   "execution_count": null,
   "metadata": {},
   "outputs": [],
   "source": [
    "import numpy as np\n",
    "from scipy.stats import norm\n",
    "\n",
    "from ipywidgets import FloatSlider, HBox, VBox\n",
    "import bqplot.pyplot as plt\n",
    "x = np.linspace(-10, 10, 200)\n",
    "y = norm.pdf(x)\n",
    "\n",
    "# plot the gaussian density\n",
    "title_tmpl = 'Gaussian Density (mu = {} and sigma = {})'\n",
    "pdf_fig = plt.figure(title=title_tmpl.format(0, 1))\n",
    "pdf_line = plt.plot(x, y, 'm', stroke_width=3)\n",
    "\n",
    "# use two sliders to represent mu and sigma\n",
    "mu_slider = FloatSlider(description='mu', value=0, min=-5, max=5, step=.1)\n",
    "sigma_slider = FloatSlider(description='sigma', value=1, min=0.1, max=5, step=.1)\n",
    "\n",
    "slider_layout = HBox([mu_slider, sigma_slider])\n",
    "\n",
    "def update_density(change):\n",
    "    new_mu = mu_slider.value\n",
    "    new_sigma = sigma_slider.value\n",
    "    # update the y attribute of the plot with the new pdf\n",
    "    # computed using new mu and sigma values\n",
    "    pdf_line.y = norm.pdf(x, new_mu, new_sigma)\n",
    "    \n",
    "    # also update the fig title\n",
    "    pdf_fig.title = title_tmpl.format(new_mu, new_sigma)\n",
    "\n",
    "# register the above callback with the 'value' trait of the sliders\n",
    "for slider in [mu_slider, sigma_slider]:\n",
    "    slider.observe(update_density, 'value')\n",
    "    \n",
    "# now put all the widgets together into a simple dashboard\n",
    "# the plot should update now when the slider values are updated!\n",
    "final_layout = VBox([pdf_fig, slider_layout])\n",
    "final_layout"
   ]
  },
  {
   "cell_type": "code",
   "execution_count": null,
   "metadata": {},
   "outputs": [],
   "source": [
    "import ROOT"
   ]
  },
  {
   "cell_type": "code",
   "execution_count": null,
   "metadata": {},
   "outputs": [],
   "source": [
    "ROOT.gSystem.Load(\"libQuantLib.so\")"
   ]
  },
  {
   "cell_type": "code",
   "execution_count": null,
   "metadata": {},
   "outputs": [],
   "source": [
    "%%cpp\n",
    "#include <ql/quantlib.hpp>\n",
    "#include <sstream>"
   ]
  },
  {
   "cell_type": "code",
   "execution_count": null,
   "metadata": {},
   "outputs": [],
   "source": [
    "%%cpp\n",
    "using namespace QuantLib;"
   ]
  },
  {
   "cell_type": "code",
   "execution_count": null,
   "metadata": {},
   "outputs": [],
   "source": [
    "%%cpp \n",
    "class Pricer {\n",
    "public:    \n",
    "    Pricer() {};\n",
    "std::string output() {\n",
    "    std::stringstream s;\n",
    "// date set up\n",
    "Calendar calendar = TARGET();\n",
    "Date todaysDate(27, Jan, 2011);\n",
    "Date settlementDate(27, Jan, 2011);\n",
    "Settings::instance().evaluationDate() = todaysDate;\n",
    "\n",
    "// option parameters\n",
    "Option::Type type(Option::Call);\n",
    "Real stock = 47;\n",
    "Real strike = 40;\n",
    "Spread dividendYield = 0.00;\n",
    "Rate riskFreeRate = 0.05;\n",
    "Volatility volatility = 0.20;\n",
    "Date maturity(27, May, 2011);\n",
    "DayCounter dayCounter = Actual365Fixed();\n",
    "\n",
    "std::shared_ptr<Exercise> europeanExercise(new EuropeanExercise(maturity));\n",
    "\n",
    "Handle<Quote> underlyingH(std::shared_ptr<Quote>(new SimpleQuote(stock)));\n",
    "\n",
    "// bootstrap the yield/dividend/vol curves\n",
    "Handle<YieldTermStructure> flatTermStructure(ext::shared_ptr<YieldTermStructure>(\n",
    "\tnew FlatForward(\n",
    "\tsettlementDate,\n",
    "\triskFreeRate,\n",
    "\tdayCounter)));\n",
    "\n",
    "Handle<YieldTermStructure> flatDividendTS(ext::shared_ptr<YieldTermStructure>(\n",
    "\tnew FlatForward(settlementDate,\n",
    "\tdividendYield,\n",
    "\tdayCounter)));\n",
    "\n",
    "Handle<BlackVolTermStructure> flatVolTS(ext::shared_ptr<BlackVolTermStructure>(\n",
    "\tnew BlackConstantVol(\n",
    "\tsettlementDate,\n",
    "\tcalendar,\n",
    "\tvolatility,\n",
    "\tdayCounter)));\n",
    "\n",
    "ext::shared_ptr<StrikedTypePayoff> payoff(\n",
    "\tnew PlainVanillaPayoff(\n",
    "\ttype,\n",
    "\tstrike));\n",
    "\n",
    "ext::shared_ptr<BlackScholesMertonProcess> bsmProcess(\n",
    "\tnew BlackScholesMertonProcess(\n",
    "\tunderlyingH,\n",
    "\tflatDividendTS,\n",
    "\tflatTermStructure,\n",
    "\tflatVolTS));\n",
    "\n",
    "// our option is European-style\n",
    "VanillaOption europeanOption(\n",
    "\tpayoff,\n",
    "\teuropeanExercise);\n",
    "\n",
    "// computing the option price with the analytic Black-Scholes formulae\n",
    "europeanOption.setPricingEngine(ext::shared_ptr<PricingEngine>(\n",
    "\tnew AnalyticEuropeanEngine(\n",
    "\tbsmProcess)));\n",
    "\n",
    "// outputting\n",
    "s << \"Option type = \" << type << std::endl;\n",
    "s << \"Maturity = \" << maturity << std::endl;\n",
    "s << \"Stock price = \" << stock << std::endl;\n",
    "s << \"Strike = \" << strike << std::endl;\n",
    "s << \"Risk-free interest rate = \" << io::rate(riskFreeRate) << std::endl;\n",
    "s << \"Dividend yield = \" << io::rate(dividendYield) << std::endl;\n",
    "s << \"Volatility = \" << io::volatility(volatility) << std::endl << std::endl;\n",
    "s <<\"European Option value = \" << europeanOption.NPV() << std::endl;\n",
    "    return s.str();\n",
    "}\n",
    "};"
   ]
  },
  {
   "cell_type": "code",
   "execution_count": null,
   "metadata": {},
   "outputs": [],
   "source": [
    "b = ROOT.Pricer()"
   ]
  },
  {
   "cell_type": "code",
   "execution_count": null,
   "metadata": {},
   "outputs": [],
   "source": [
    "c = b.output()"
   ]
  },
  {
   "cell_type": "code",
   "execution_count": null,
   "metadata": {},
   "outputs": [],
   "source": [
    "c"
   ]
  },
  {
   "cell_type": "code",
   "execution_count": null,
   "metadata": {},
   "outputs": [],
   "source": [
    "import ipywidgets\n",
    "foodate = ipywidgets.widgets.DatePicker(\n",
    "    description='Pick a Date',\n",
    "    disabled=False\n",
    ")\n",
    "\n",
    "button = ipywidgets.Button(description=\"Click Me!\")\n",
    "output = ipywidgets.Output();\n",
    "\n",
    "def on_button_clicked(button):\n",
    "    with output:\n",
    "        print(b.output())\n",
    "\n",
    "button.on_click(on_button_clicked)"
   ]
  },
  {
   "cell_type": "code",
   "execution_count": null,
   "metadata": {},
   "outputs": [],
   "source": []
  },
  {
   "cell_type": "code",
   "execution_count": null,
   "metadata": {},
   "outputs": [],
   "source": [
    "display(foodate, button, output)"
   ]
  },
  {
   "cell_type": "code",
   "execution_count": null,
   "metadata": {},
   "outputs": [],
   "source": [
    "foodate.value"
   ]
  },
  {
   "cell_type": "code",
   "execution_count": null,
   "metadata": {},
   "outputs": [],
   "source": []
  }
 ],
 "metadata": {
  "kernelspec": {
   "display_name": "Python 3",
   "language": "python",
   "name": "python3"
  },
  "language_info": {
   "codemirror_mode": {
    "name": "ipython",
    "version": 3
   },
   "file_extension": ".py",
   "mimetype": "text/x-python",
   "name": "python",
   "nbconvert_exporter": "python",
   "pygments_lexer": "ipython3",
   "version": "3.8.5"
  }
 },
 "nbformat": 4,
 "nbformat_minor": 4
}
