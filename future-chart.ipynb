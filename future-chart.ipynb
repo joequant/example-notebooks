{
 "cells": [
  {
   "cell_type": "code",
   "execution_count": null,
   "metadata": {
    "collapsed": false
   },
   "outputs": [],
   "source": [
    "import datetime\n",
    "def weekly_expiry():\n",
    "    d = datetime.date.today()\n",
    "    while d.weekday() != 5:\n",
    "        d += datetime.timedelta(1)\n",
    "    return d"
   ]
  },
  {
   "cell_type": "code",
   "execution_count": null,
   "metadata": {
    "collapsed": false
   },
   "outputs": [],
   "source": [
    "def  quarter_expiry():\n",
    "    ref = datetime.date.today()\n",
    "    if ref.month < 4:\n",
    "        d = datetime.date(ref.year, 3, 31)\n",
    "    elif ref.month < 7:\n",
    "        d = datetime.date(ref.year, 6, 30)\n",
    "    elif ref.month < 10:\n",
    "        d = datetime.date(ref.year, 9, 30)\n",
    "    else:\n",
    "        d= datetime.date(ref.year, 12, 31)\n",
    "    while d.weekday() != 5:\n",
    "        d -= datetime.timedelta(1)\n",
    "    return d\n",
    "quarter_expiry()"
   ]
  },
  {
   "cell_type": "code",
   "execution_count": null,
   "metadata": {
    "collapsed": false
   },
   "outputs": [],
   "source": [
    "import json\n",
    "import requests\n",
    "import dateutil.parser\n",
    "import matplotlib.pyplot as plt\n",
    "import numpy as np"
   ]
  },
  {
   "cell_type": "code",
   "execution_count": null,
   "metadata": {
    "collapsed": false
   },
   "outputs": [],
   "source": [
    "#usdcny = requests.get('http://rate-exchange.appspot.com/currency?from=USD&to=CNY').json()['rate']\n",
    "usdcny = 6.41\n",
    "\n",
    "\n",
    "\n",
    "def get_data():\n",
    "    retval = {}\n",
    "    expiry = {}\n",
    "    futures = {}\n",
    "    expiry['week'] = weekly_expiry()\n",
    "    expiry['next_week'] = weekly_expiry() + datetime.timedelta(7)\n",
    "    expiry['quarter'] = quarter_expiry()\n",
    "    retval['spot'] = {}\n",
    "\n",
    "    bitFinexTick = requests.get(\"https://api.bitfinex.com/v1/ticker/btcusd\")\n",
    "    retval['spot']['bitfinex'] = bitFinexTick.json()['last_price']\n",
    "    #bitmex\n",
    "    data = requests.get('https://www.bitmex.com:443/api/v1/instrument/active').json()\n",
    "    for contracttype in [\"XBU\", \"XBT\"]:\n",
    "        symbols = []\n",
    "        dates = []\n",
    "        bids = []\n",
    "        asks = []\n",
    "        last = []\n",
    "        for i in data:\n",
    "            if i['rootSymbol'] == contracttype and i['buyLeg'] == \"\":\n",
    "                dates.append(dateutil.parser.parse(i['expiry']))\n",
    "                symbols.append(i['symbol'])\n",
    "                bids.append(i['bidPrice'])\n",
    "                asks.append(i['askPrice'])\n",
    "                last.append(i['lastPrice'])\n",
    "        futures[\"bitmex\" + contracttype ] = {\"dates\": dates,\n",
    "                                            \"bids\" : np.array(bids),\n",
    "                                            \"asks\" : np.array(asks),\n",
    "                                            \"last\" : np.array(last)}\n",
    "        #okcoin\n",
    "    symbols = []\n",
    "    dates = []\n",
    "    bids = []\n",
    "    asks = []\n",
    "    last = []\n",
    "    for i in [\"this_week\", \"next_week\", \"month\", \"quarter\"]:\n",
    "        response = requests.get('https://www.okcoin.com/api/future_ticker.do', params={\"symbol\": \"btc_usd\",\n",
    "                                                                                       \"contractType\": i})\n",
    "        data = response.json()[\"ticker\"][0]\n",
    "        d = datetime.date(int(str(data['contractId'])[0:4]),\n",
    "                      int(str(data['contractId'])[4:6]),\n",
    "                      int(str(data['contractId'])[6:8]))\n",
    "        dates.append(d)\n",
    "        bids.append(data[\"buy\"])\n",
    "        asks.append(data['sell'])\n",
    "        last.append(data['last'])\n",
    "    futures['okcoin'] = {\"dates\": dates,\n",
    "                        \"bids\" : np.array(bids),\n",
    "                        \"asks\" : np.array(asks),\n",
    "                        \"last\": np.array(last)}\n",
    "    #796\n",
    "    data = requests.get(\"http://api.796.com/v3/futures/ticker.html?type=weekly\").json()['ticker']\n",
    "    futures['796'] = {'dates':[weekly_expiry()],\n",
    "                     \"bids\" : np.array([float(data['buy'])]),\n",
    "                     \"asks\" : np.array([float(data['sell'])]),\n",
    "                     \"last\" : np.array([float(data['last'])])}\n",
    "    data = requests.get(\"http://api.796.com/v3/futures/ticker.html?type=btccnyweeklyfutures\").json()['ticker']\n",
    "    if float(data['buy']) > 0.0 and float(data['sell']) > 0.0:\n",
    "        futures['796CNY'] = {'dates':[weekly_expiry()],\n",
    "                         \"bids\" : np.array([float(data['buy'])/usdcny]),\n",
    "                         \"asks\" : np.array([float(data['sell'])/usdcny]),\n",
    "                         \"last\" : np.array([float(data['last'])/usdcny])}\n",
    "    # bitvic\n",
    "    dates= []\n",
    "    bids = []\n",
    "    asks = []\n",
    "    last = []\n",
    "    for i in [\"week\", \"next_week\", \"quarter\"]:\n",
    "        data = requests.get('http://market.bitvc.com/futures/ticker_btc_' + i + '.js').json()\n",
    "        dates.append(expiry[i])\n",
    "        bids.append(data['buy'])\n",
    "        asks.append(data['sell'])\n",
    "        last.append(data['last'])\n",
    "    futures['bitvc'] = {'dates':dates,\n",
    "                     \"bids\" : np.array(bids).astype(float)/usdcny,\n",
    "                     \"asks\" : np.array(asks).astype(float)/usdcny,\n",
    "                     \"last\" : np.array(last).astype(float)/usdcny}      \n",
    "    retval['futures'] = futures\n",
    "    return retval\n"
   ]
  },
  {
   "cell_type": "code",
   "execution_count": null,
   "metadata": {
    "collapsed": false
   },
   "outputs": [],
   "source": [
    "def plotme(data):\n",
    "    import matplotlib.pyplot as plt\n",
    "    fig, ax = plt.subplots()\n",
    "    plt.margins(x=0.1, y=0.1)\n",
    "    for k, v in data['futures'].items():\n",
    "        ax.errorbar(v['dates'], v['last'], \n",
    "                    yerr=[v['last']-v['asks'], \n",
    "                          v['bids']-v['last']], fmt=\"o\")\n"
   ]
  },
  {
   "cell_type": "code",
   "execution_count": null,
   "metadata": {
    "collapsed": false
   },
   "outputs": [],
   "source": [
    "def plot_rates(data):\n",
    "    spot = data['spot']['bitfinex']\n",
    "    now = datetime.datetime.now()\n",
    "    import matplotlib.pyplot as plt\n",
    "    fig, ax = plt.subplots()\n",
    "    plt.margins(x=0.1, y=0.1)\n",
    "    for k, v in data['futures'].items():\n",
    "        t = list(map (lambda x : (x-now).days, v['dates']))\n",
    "        print(t)\n",
    "        r = log(v['last']/spot)/t\n",
    "        ax.errorbar(v['dates'], r)"
   ]
  },
  {
   "cell_type": "code",
   "execution_count": null,
   "metadata": {
    "collapsed": false
   },
   "outputs": [],
   "source": [
    "%matplotlib inline\n",
    "data = get_data()\n",
    "plotme(data)"
   ]
  },
  {
   "cell_type": "code",
   "execution_count": null,
   "metadata": {
    "collapsed": false
   },
   "outputs": [],
   "source": [
    "import pprint\n",
    "pprint.pprint(data)"
   ]
  },
  {
   "cell_type": "code",
   "execution_count": null,
   "metadata": {
    "collapsed": false
   },
   "outputs": [],
   "source": []
  }
 ],
 "metadata": {
  "kernelspec": {
   "display_name": "Python 3",
   "language": "python",
   "name": "python3"
  },
  "language_info": {
   "codemirror_mode": {
    "name": "ipython",
    "version": 3
   },
   "file_extension": ".py",
   "mimetype": "text/x-python",
   "name": "python",
   "nbconvert_exporter": "python",
   "pygments_lexer": "ipython3",
   "version": "3.4.3"
  }
 },
 "nbformat": 4,
 "nbformat_minor": 0
}
