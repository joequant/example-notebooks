{
 "cells": [
  {
   "cell_type": "markdown",
   "metadata": {},
   "source": [
    "Gearing\n",
    "----------\n",
    "This notebook defines a function for long options"
   ]
  },
  {
   "cell_type": "code",
   "execution_count": null,
   "metadata": {
    "collapsed": true
   },
   "outputs": [],
   "source": [
    "import import_ipynb\n",
    "from portfolio import plot_function\n",
    "from blackscholes import black_scholes, date_fraction\n",
    "from numpy import interp\n",
    "\n",
    "class GearingPlot(object):\n",
    "    \"\"\"This object plots various quantities having to do with long options\"\"\"\n",
    "    def __init__(self, style, price, t, vol, r=0.0, d=0.0):\n",
    "        self.style = style\n",
    "        self.price = price\n",
    "        self.t = t\n",
    "        self.vol = vol\n",
    "        self.r = r\n",
    "        self.d = d\n",
    "    \"\"\"Calculate number of options that can be bought for unit price\"\"\"\n",
    "    def leverage(self, strike):\n",
    "        return 1.0 / black_scholes ((-1 if self.style == \"put\" else 1), \n",
    "                    self.price,\n",
    "                    strike, \n",
    "                    self.t/365.0, \n",
    "                    self.vol,\n",
    "                    self.r, \n",
    "                    self.d)\n",
    "    def plot_leverage(self, xrange):\n",
    "        plot_function(xrange, [lambda strike: self.leverage(strike)])\n",
    "    def gearing(self, strike):\n",
    "        \"\"\"Calculate return dependence for given strike\"\"\"\n",
    "        options = self.leverage(strike)\n",
    "        return (lambda price_new, dt : options * black_scholes ((-1 if self.style == \"put\" else 1), price_new, \\\n",
    "                                                     strike, ((self.t-dt)/365.0), self.vol,  self.r, self.d))\n",
    "    def plot_gearing(self, xrange, strikes, dt=0.0):\n",
    "        \"\"\"Plot the gearing curve\"\"\"\n",
    "        plot_function(xrange,\n",
    "                  map(lambda strike: lambda x: (self.gearing(strike)(x,dt)), strikes),\n",
    "                 yrange=[0,5])\n",
    "    def plot_evolve(self, dtrange, strikes, xpoints, ypoints):\n",
    "        \"\"\"Plot evolution\"\"\"\n",
    "        f = lambda x: interp(x, xpoints, ypoints)\n",
    "        plot_function(dtrange,\n",
    "                      map(lambda strike: lambda dt: self.gearing(strike)(f(dt),dt),strikes),\n",
    "                     yrange=[0,5])"
   ]
  },
  {
   "cell_type": "code",
   "execution_count": null,
   "metadata": {
    "collapsed": false
   },
   "outputs": [],
   "source": [
    "if __name__ == '__main__':\n",
    "    g = GearingPlot(\"put\", 162.0, 15, 0.3)\n",
    "    g.plot_leverage([140.0, 170.0])"
   ]
  },
  {
   "cell_type": "code",
   "execution_count": null,
   "metadata": {
    "collapsed": false
   },
   "outputs": [],
   "source": [
    "if __name__ == '__main__':\n",
    "    g= GearingPlot(\"put\", 15.0, 15, 0.3)\n",
    "    g.plot_gearing([12.0, 20.0], [14.0, 15.0, 18.0], dt=7)"
   ]
  },
  {
   "cell_type": "code",
   "execution_count": null,
   "metadata": {
    "collapsed": false
   },
   "outputs": [],
   "source": [
    "if __name__ == '__main__':\n",
    "    g.plot_evolve([0,15], [14,15,18], [0,3],[15,14])"
   ]
  },
  {
   "cell_type": "code",
   "execution_count": null,
   "metadata": {
    "collapsed": true
   },
   "outputs": [],
   "source": []
  },
  {
   "cell_type": "code",
   "execution_count": null,
   "metadata": {
    "collapsed": true
   },
   "outputs": [],
   "source": []
  }
 ],
 "metadata": {
  "kernelspec": {
   "display_name": "Python 3",
   "language": "python",
   "name": "python3"
  },
  "language_info": {
   "codemirror_mode": {
    "name": "ipython",
    "version": 3
   },
   "file_extension": ".py",
   "mimetype": "text/x-python",
   "name": "python",
   "nbconvert_exporter": "python",
   "pygments_lexer": "ipython3",
   "version": "3.6.6"
  }
 },
 "nbformat": 4,
 "nbformat_minor": 2
}
