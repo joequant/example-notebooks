{
 "cells": [
  {
   "cell_type": "markdown",
   "metadata": {
    "collapsed": false
   },
   "source": [
    "This is an example of registering a python web service.  You can access the a service which\n",
    "is registered by name /python-web by http://localhost/app/python-web  "
   ]
  },
  {
   "cell_type": "code",
   "execution_count": null,
   "metadata": {
    "collapsed": false
   },
   "outputs": [],
   "source": [
    "#This creates a web service located off \n",
    "\n",
    "import tornado.web\n",
    "\n",
    "class MainHandler(tornado.web.RequestHandler):\n",
    "    def get(self, *param):\n",
    "            self.write(\"Hello, world param=%s\" % param[0])\n",
    "import configproxy\n",
    "configproxy.register_tornado_handler(\"/python-web\",  MainHandler)"
   ]
  },
  {
   "cell_type": "code",
   "execution_count": null,
   "metadata": {
    "collapsed": false
   },
   "outputs": [],
   "source": [
    "#Create web service off of\n",
    "# http://localhost/app/python-wsgi\n",
    "\n",
    "def simple_app(environ, start_response):\n",
    "    status = \"200 OK\"\n",
    "    response_headers = [(\"Content-type\", \"text/plain\")]\n",
    "    start_response(status, response_headers)\n",
    "    return [b\"Hello world! with WSGI Handler\\n\"]\n",
    "\n",
    "import configproxy\n",
    "configproxy.register_wsgi(\"/python-wsgi\", simple_app)"
   ]
  },
  {
   "cell_type": "code",
   "execution_count": null,
   "metadata": {
    "collapsed": false
   },
   "outputs": [],
   "source": [
    "#Create web service off of \n",
    "# http://localhost/app/python-web-html\n",
    "\n",
    "from IPython.display import HTML\n",
    "def html_response(input):\n",
    "    return \"\"\"<table>\n",
    "<tr>\n",
    "<th>Header 1</th>\n",
    "<th>Header 2</th>\n",
    "</tr>\n",
    "<tr>\n",
    "<td>row 1, cell 1</td>\n",
    "<td>row 1, cell 2</td>\n",
    "</tr>\n",
    "<tr>\n",
    "<td>row 2, cell 1</td>\n",
    "<td>row 2, cell 2</td>\n",
    "</tr>\n",
    "</table>\"\"\"\n",
    "HTML(html_response(None))\n",
    "import tornado.web\n",
    "\n",
    "class MainHandler(tornado.web.RequestHandler):\n",
    "    def get(self, *args):\n",
    "        self.write(html_response(None))\n",
    "\n",
    "import configproxy\n",
    "configproxy.register_tornado_handler(\"/python-web-html\", MainHandler)"
   ]
  },
  {
   "cell_type": "code",
   "execution_count": null,
   "metadata": {
    "collapsed": false
   },
   "outputs": [],
   "source": [
    "#Create web service off of \n",
    "# http://localhost/app/python-web-image\n",
    "%matplotlib inline\n",
    "\n",
    "def image_response(input):\n",
    "    import matplotlib\n",
    "    import matplotlib.pyplot as plt\n",
    "    import io\n",
    "    from matplotlib import numpy as np\n",
    "\n",
    "\n",
    "    x = np.arange(0,np.pi*3,.1)\n",
    "    y = np.sin(x)\n",
    "\n",
    "    fig = plt.figure()\n",
    "    plt.plot(x,y)\n",
    "\n",
    "    imgdata = io.StringIO()\n",
    "    fig.savefig(imgdata, format='svg')\n",
    "    return  imgdata.getvalue() \n",
    "import tornado.web\n",
    "\n",
    "class MainHandler(tornado.web.RequestHandler):\n",
    "    def get(self, *args):\n",
    "        self.write(image_response(None))\n",
    "        self.set_header(\"Content-type\",  \"image/svg\")\n",
    "\n",
    "import configproxy\n",
    "configproxy.register_tornado_handler(\"/python-web-image\", MainHandler)"
   ]
  },
  {
   "cell_type": "code",
   "execution_count": null,
   "metadata": {
    "collapsed": false
   },
   "outputs": [],
   "source": [
    "#Create web service off of \n",
    "# http://localhost/app/image-html\n",
    "%matplotlib inline\n",
    "\n",
    "def image_response(input):\n",
    "    import matplotlib\n",
    "    import matplotlib.pyplot as plt\n",
    "    import io\n",
    "    from matplotlib import numpy as np\n",
    "    import base64\n",
    "\n",
    "\n",
    "    x = np.arange(0,np.pi*3,.1)\n",
    "    y = np.sin(x)\n",
    "\n",
    "    fig = plt.figure()\n",
    "    plt.plot(x,y)\n",
    "\n",
    "    imgdata = io.StringIO()\n",
    "    fig.savefig(imgdata, format='svg')\n",
    "    return  \"\"\"<img src='data:image/svg+xml;charset=utf-8,%s'>\"\"\" % \\\n",
    "            imgdata.getvalue()\n",
    "import tornado.web\n",
    "\n",
    "class MainHandler(tornado.web.RequestHandler):\n",
    "    def get(self, *args):\n",
    "        self.write(image_response(None))\n",
    "\n",
    "import configproxy\n",
    "configproxy.register_tornado_handler(\"/image-html\", MainHandler)"
   ]
  },
  {
   "cell_type": "code",
   "execution_count": null,
   "metadata": {
    "collapsed": false
   },
   "outputs": [],
   "source": [
    "configproxy.unregister_all()"
   ]
  },
  {
   "cell_type": "code",
   "execution_count": null,
   "metadata": {
    "collapsed": false
   },
   "outputs": [],
   "source": [
    "configproxy.server_list"
   ]
  },
  {
   "cell_type": "code",
   "execution_count": null,
   "metadata": {
    "collapsed": true
   },
   "outputs": [],
   "source": []
  }
 ],
 "metadata": {
  "kernelspec": {
   "display_name": "Python 3",
   "language": "python",
   "name": "python3"
  },
  "language_info": {
   "codemirror_mode": {
    "name": "ipython",
    "version": 3
   },
   "file_extension": ".py",
   "mimetype": "text/x-python",
   "name": "python",
   "nbconvert_exporter": "python",
   "pygments_lexer": "ipython3",
   "version": "3.5.1"
  }
 },
 "nbformat": 4,
 "nbformat_minor": 0
}
