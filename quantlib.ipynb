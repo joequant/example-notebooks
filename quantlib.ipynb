{
 "cells": [
  {
   "cell_type": "code",
   "execution_count": null,
   "metadata": {
    "collapsed": false
   },
   "outputs": [],
   "source": [
    "from QuantLib import *"
   ]
  },
  {
   "cell_type": "code",
   "execution_count": null,
   "metadata": {
    "collapsed": false
   },
   "outputs": [],
   "source": [
    "todaysDate = Date.todaysDate()\n",
    "Settings.instance().evaluationDate = todaysDate\n",
    "settlementDate = todaysDate + Period(2, Days)\n",
    "riskFreeRate = FlatForward(settlementDate, 0.00, Actual365Fixed())\n",
    "\n",
    "# option parameters\n",
    "exercise = EuropeanExercise(settlementDate)\n",
    "payoff = PlainVanillaPayoff(Option.Call, 355.0)"
   ]
  },
  {
   "cell_type": "code",
   "execution_count": null,
   "metadata": {
    "collapsed": false
   },
   "outputs": [],
   "source": [
    "settlementDate\n",
    "payoff(367.0)"
   ]
  },
  {
   "cell_type": "code",
   "execution_count": null,
   "metadata": {
    "collapsed": false
   },
   "outputs": [],
   "source": [
    "timestamp = Date.universalDateTime()\n",
    "newtime = timestamp + Period(3, Years)\n",
    "newtime.year()\n",
    "dcc = ContinuousTime(Years)"
   ]
  },
  {
   "cell_type": "code",
   "execution_count": null,
   "metadata": {
    "collapsed": false
   },
   "outputs": [],
   "source": [
    "import numpy as np\n",
    "import matplotlib.pyplot as plt\n",
    "\n",
    "def option(strike, vol, t, putcall):\n",
    "    now = Date.universalDateTime()\n",
    "    Settings.instance().evaluationDate = now\n",
    "    settlementDate = todaysDate + Period(3, Weeks)\n",
    "    riskFreeRate = FlatForward(settlementDate, 0.00, ContinuousTime.perDay())\n",
    "\n",
    "    # option parameters\n",
    "    exercise = EuropeanExercise(settlementDate)\n",
    "    payoff = PlainVanillaPayoff(Option.Call, strike)\n",
    "\n",
    "    volatility = BlackConstantVol(todaysDate, TARGET(), vol, ContinuousTime.perDay())\n",
    "    dividendYield = FlatForward(settlementDate, 0.00, ContinuousTime.perDay())\n",
    "    underlying = SimpleQuote(0.0)\n",
    "    process = BlackScholesMertonProcess(QuoteHandle(underlying),\n",
    "                                    YieldTermStructureHandle(dividendYield),\n",
    "                                    YieldTermStructureHandle(riskFreeRate),\n",
    "                                    BlackVolTermStructureHandle(volatility))\n",
    "    option = VanillaOption(payoff, exercise)\n",
    "    # method: analytic\n",
    "    option.setPricingEngine(AnalyticEuropeanEngine(process))\n",
    "    return (option, underlying)\n",
    "\n",
    "def plotme(option, underlying, strike):\n",
    "    x = np.arange(strike*0.8, strike*1.2, 0.01);\n",
    "    def myfunc(x):\n",
    "        underlying .setValue(x)\n",
    "        return option.NPV()\n",
    "    def mydelta(x):\n",
    "        underlying.setValue(x)\n",
    "        return option.delta()\n",
    "    def mytheta(x):\n",
    "        underlying.setValue(x)\n",
    "        return option.theta()\n",
    "    plt.figure(1, figsize=(10,8))\n",
    "    plt.subplot(221)\n",
    "    y = list(map(payoff, x))\n",
    "    plt.plot(x, y)\n",
    "    plt.plot(x, list(map(myfunc,x)))\n",
    "    plt.subplot(222)\n",
    "    plt.plot(x, list(map(mydelta,x)))\n",
    "    plt.subplot(223)\n",
    "    plt.plot(x, list(map(mytheta,x)))"
   ]
  },
  {
   "cell_type": "code",
   "execution_count": null,
   "metadata": {
    "collapsed": false
   },
   "outputs": [],
   "source": [
    "%matplotlib inline\n",
    "(o, u) = option(350, 0.02, 90, 1)\n",
    "plotme(o, u, 350)"
   ]
  },
  {
   "cell_type": "code",
   "execution_count": null,
   "metadata": {
    "collapsed": false
   },
   "outputs": [],
   "source": [
    "np.arange(0.8, 1.2,0.1)"
   ]
  },
  {
   "cell_type": "code",
   "execution_count": null,
   "metadata": {
    "collapsed": false
   },
   "outputs": [],
   "source": []
  }
 ],
 "metadata": {
  "kernelspec": {
   "display_name": "Python 3",
   "language": "python",
   "name": "python3"
  },
  "language_info": {
   "codemirror_mode": {
    "name": "ipython",
    "version": 3
   },
   "file_extension": ".py",
   "mimetype": "text/x-python",
   "name": "python",
   "nbconvert_exporter": "python",
   "pygments_lexer": "ipython3",
   "version": "3.4.3"
  }
 },
 "nbformat": 4,
 "nbformat_minor": 0
}
