{
 "cells": [
  {
   "cell_type": "markdown",
   "metadata": {},
   "source": [
    "This is an example of integrating jupyter with spyre.  It uses the pypi binding library configproxy to attach a wsgi server with the jupyter tornado web "
   ]
  },
  {
   "cell_type": "code",
   "execution_count": null,
   "metadata": {
    "collapsed": false,
    "scrolled": true
   },
   "outputs": [],
   "source": [
    "from spyre import server\n",
    "\n",
    "class SimpleApp(server.App):\n",
    "    title = \"Simple App\"\n",
    "    inputs = [{ \"type\":\"text\",\n",
    "                \"key\":\"words\",\n",
    "                \"label\":\"write words here\",\n",
    "                \"value\":\"hello world\", \n",
    "                \"action_id\":\"simple_html_output\"}]\n",
    "\n",
    "    outputs = [{\"type\":\"html\",\n",
    "                \"id\":\"simple_html_output\"}]\n",
    "\n",
    "    def getHTML(self, params):\n",
    "        words = params[\"words\"]\n",
    "        return \"Here's what you wrote in the textbox: <b>%s</b>\" % words\n",
    "\n",
    "app = SimpleApp()\n",
    "import configproxy\n",
    "import cherrypy\n",
    "configproxy.register_wsgi(\"/spyre-test\", cherrypy.Application(app.getRoot(), '/'))"
   ]
  }
 ],
 "metadata": {
  "kernelspec": {
   "display_name": "Python 3",
   "language": "python",
   "name": "python3"
  },
  "language_info": {
   "codemirror_mode": {
    "name": "ipython",
    "version": 3
   },
   "file_extension": ".py",
   "mimetype": "text/x-python",
   "name": "python",
   "nbconvert_exporter": "python",
   "pygments_lexer": "ipython3",
   "version": "3.5.1"
  }
 },
 "nbformat": 4,
 "nbformat_minor": 0
}
