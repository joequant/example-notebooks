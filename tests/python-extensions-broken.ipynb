{
 "cells": [
  {
   "cell_type": "code",
   "execution_count": null,
   "metadata": {},
   "outputs": [],
   "source": [
    "# https://github.com/jupyterlab/jupyter-renderers/issues/227\n",
    "\n",
    "from IPython.display import display\n",
    "\n",
    "display({\n",
    "    \"application/vnd.vegalite.v2+json\": {\n",
    "        \"$schema\": \"https://vega.github.io/schema/vega-lite/v2.json\",\n",
    "        \"description\": \"A simple bar chart with embedded data.\",\n",
    "        \"data\": {\n",
    "            \"values\": [\n",
    "                {\"a\": \"A\", \"b\": 28}, {\"a\": \"B\", \"b\": 55}, {\"a\": \"C\", \"b\": 43},\n",
    "                {\"a\": \"D\", \"b\": 91}, {\"a\": \"E\", \"b\": 81}, {\"a\": \"F\", \"b\": 53},\n",
    "                {\"a\": \"G\", \"b\": 19}, {\"a\": \"H\", \"b\": 87}, {\"a\": \"I\", \"b\": 52}\n",
    "            ]\n",
    "        },\n",
    "        \"mark\": \"bar\",\n",
    "        \"encoding\": {\n",
    "            \"x\": {\"field\": \"a\", \"type\": \"ordinal\"},\n",
    "            \"y\": {\"field\": \"b\", \"type\": \"quantitative\"}\n",
    "        }\n",
    "    }\n",
    "}, raw=True)"
   ]
  },
  {
   "cell_type": "code",
   "execution_count": null,
   "metadata": {},
   "outputs": [],
   "source": [
    "# https://github.com/jupyterlab/jupyter-renderers/issues/227\n",
    "\n",
    "from IPython.display import display\n",
    "\n",
    "display({\n",
    "    \"application/vnd.vegalite.v1+json\": {\n",
    "        \"$schema\": \"https://vega.github.io/schema/vega-lite/v1.json\",\n",
    "        \"description\": \"A simple bar chart with embedded data.\",\n",
    "        \"data\": {\n",
    "            \"values\": [\n",
    "                {\"a\": \"A\", \"b\": 28}, {\"a\": \"B\", \"b\": 55}, {\"a\": \"C\", \"b\": 43},\n",
    "                {\"a\": \"D\", \"b\": 91}, {\"a\": \"E\", \"b\": 81}, {\"a\": \"F\", \"b\": 53},\n",
    "                {\"a\": \"G\", \"b\": 19}, {\"a\": \"H\", \"b\": 87}, {\"a\": \"I\", \"b\": 52}\n",
    "            ]\n",
    "        },\n",
    "        \"mark\": \"bar\",\n",
    "        \"encoding\": {\n",
    "            \"x\": {\"field\": \"a\", \"type\": \"ordinal\"},\n",
    "            \"y\": {\"field\": \"b\", \"type\": \"quantitative\"}\n",
    "        }\n",
    "    }\n",
    "}, raw=True)\n",
    "\n"
   ]
  }
 ],
 "metadata": {
  "kernelspec": {
   "display_name": "Python 3",
   "language": "python",
   "name": "python3"
  },
  "language_info": {
   "codemirror_mode": {
    "name": "ipython",
    "version": 3
   },
   "file_extension": ".py",
   "mimetype": "text/x-python",
   "name": "python",
   "nbconvert_exporter": "python",
   "pygments_lexer": "ipython3",
   "version": "3.8.5"
  }
 },
 "nbformat": 4,
 "nbformat_minor": 4
}
