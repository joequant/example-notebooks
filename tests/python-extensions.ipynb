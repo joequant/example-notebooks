{
 "cells": [
  {
   "cell_type": "code",
   "execution_count": null,
   "metadata": {},
   "outputs": [],
   "source": [
    "2+2"
   ]
  },
  {
   "cell_type": "markdown",
   "metadata": {},
   "source": [
    "# Python Extensions"
   ]
  },
  {
   "cell_type": "markdown",
   "metadata": {},
   "source": [
    "## IPyVolume"
   ]
  },
  {
   "cell_type": "code",
   "execution_count": null,
   "metadata": {},
   "outputs": [],
   "source": [
    "import ipyvolume\n",
    "ipyvolume.examples.ball(rmax=3, rmin=2.5, shape=32, lighting=True)"
   ]
  },
  {
   "cell_type": "code",
   "execution_count": null,
   "metadata": {},
   "outputs": [],
   "source": [
    "ds = ipyvolume.datasets.aquariusA2.fetch()\n",
    "v = ipyvolume.quickvolshow(ds.data.T, lighting=True,\n",
    "                     level=[0.3, 0.4, 0.9], opacity=[0.03, 0.2, 0.1])\n",
    "display(v)"
   ]
  },
  {
   "cell_type": "markdown",
   "metadata": {},
   "source": [
    "## GeoJSON"
   ]
  },
  {
   "cell_type": "code",
   "execution_count": null,
   "metadata": {},
   "outputs": [],
   "source": [
    "from IPython.display import GeoJSON\n",
    "\n",
    "GeoJSON({\n",
    "    \"type\": \"Feature\",\n",
    "    \"geometry\": {\n",
    "        \"type\": \"Point\",\n",
    "        \"coordinates\": [-118.4563712, 34.0163116]\n",
    "    }\n",
    "})"
   ]
  },
  {
   "cell_type": "markdown",
   "metadata": {},
   "source": [
    "## Math rendering test\n",
    "\n",
    "$$f(x) = \\int_{-\\infty}^\\infty\n",
    "    \\hat f(\\xi)\\,e^{2 \\pi i \\xi x}\n",
    "    \\,d\\xi$$\n",
    "\n",
    "$$\n",
    "\\begin{align}\n",
    "\\dot{x} & = \\sigma(y-x) \\\\\n",
    "\\dot{y} & = \\rho x - y - xz \\\\\n",
    "\\dot{z} & = -\\beta z + xy\n",
    "\\end{align}\n",
    "$$"
   ]
  },
  {
   "cell_type": "markdown",
   "metadata": {},
   "source": [
    "## Algorithmx"
   ]
  },
  {
   "cell_type": "code",
   "execution_count": null,
   "metadata": {},
   "outputs": [],
   "source": [
    "import algorithmx\n",
    "\n",
    "canvas = algorithmx.jupyter_canvas()\n",
    "\n",
    "canvas.nodes([1, 2]).add()\n",
    "canvas.edge((1, 2)).add()\n",
    "\n",
    "display(canvas)"
   ]
  },
  {
   "cell_type": "markdown",
   "metadata": {},
   "source": [
    "## Bokeh example\n",
    "https://github.com/bokeh/bokeh/issues/10002 - will fail if markdown is bokeh"
   ]
  },
  {
   "cell_type": "code",
   "execution_count": null,
   "metadata": {},
   "outputs": [],
   "source": [
    "import bokeh\n",
    "from bokeh.io import output_notebook\n",
    "from bokeh.plotting import figure, show\n",
    "from bokeh.sampledata.iris import flowers\n",
    "\n",
    "colormap = {'setosa': 'red', 'versicolor': 'green', 'virginica': 'blue'}\n",
    "colors = [colormap[x] for x in flowers['species']]\n",
    "\n",
    "p = figure(title = \"Iris Morphology\")\n",
    "p.xaxis.axis_label = 'Petal Length'\n",
    "p.yaxis.axis_label = 'Petal Width'\n",
    "\n",
    "p.circle(flowers[\"petal_length\"], flowers[\"petal_width\"],\n",
    "         color=colors, fill_alpha=0.2, size=10)\n",
    "\n",
    "output_notebook()\n",
    "\n",
    "show(p)"
   ]
  },
  {
   "cell_type": "code",
   "execution_count": null,
   "metadata": {},
   "outputs": [],
   "source": [
    "import numpy as np\n",
    "import bokeh\n",
    "\n",
    "bokeh.sampledata.download()\n",
    "\n",
    "from bokeh.layouts import gridplot\n",
    "from bokeh.plotting import figure, output_file, show\n",
    "from bokeh.sampledata.stocks import AAPL, GOOG, IBM, MSFT\n",
    "\n",
    "def datetime(x):\n",
    "    return np.array(x, dtype=np.datetime64)\n",
    "\n",
    "p1 = figure(x_axis_type=\"datetime\", title=\"Stock Closing Prices\")\n",
    "p1.grid.grid_line_alpha=0.3\n",
    "p1.xaxis.axis_label = 'Date'\n",
    "p1.yaxis.axis_label = 'Price'\n",
    "\n",
    "p1.line(datetime(AAPL['date']), AAPL['adj_close'], color='#A6CEE3', legend_label='AAPL')\n",
    "p1.line(datetime(GOOG['date']), GOOG['adj_close'], color='#B2DF8A', legend_label='GOOG')\n",
    "p1.line(datetime(IBM['date']), IBM['adj_close'], color='#33A02C', legend_label='IBM')\n",
    "p1.line(datetime(MSFT['date']), MSFT['adj_close'], color='#FB9A99', legend_label='MSFT')\n",
    "p1.legend.location = \"top_left\"\n",
    "\n",
    "aapl = np.array(AAPL['adj_close'])\n",
    "aapl_dates = np.array(AAPL['date'], dtype=np.datetime64)\n",
    "\n",
    "window_size = 30\n",
    "window = np.ones(window_size)/float(window_size)\n",
    "aapl_avg = np.convolve(aapl, window, 'same')\n",
    "\n",
    "p2 = figure(x_axis_type=\"datetime\", title=\"AAPL One-Month Average\")\n",
    "p2.grid.grid_line_alpha = 0\n",
    "p2.xaxis.axis_label = 'Date'\n",
    "p2.yaxis.axis_label = 'Price'\n",
    "p2.ygrid.band_fill_color = \"olive\"\n",
    "p2.ygrid.band_fill_alpha = 0.1\n",
    "\n",
    "p2.circle(aapl_dates, aapl, size=4, legend_label='close',\n",
    "          color='darkgrey', alpha=0.2)\n",
    "\n",
    "p2.line(aapl_dates, aapl_avg, legend_label='avg', color='navy')\n",
    "p2.legend.location = \"top_left\"\n",
    "\n",
    "output_notebook()\n",
    "\n",
    "show(gridplot([[p1,p2]], plot_width=400, plot_height=400))  # open a browser"
   ]
  },
  {
   "cell_type": "markdown",
   "metadata": {},
   "source": [
    "## Bqplot"
   ]
  },
  {
   "cell_type": "code",
   "execution_count": null,
   "metadata": {},
   "outputs": [],
   "source": [
    "import numpy as np\n",
    "from scipy.stats import norm\n",
    "\n",
    "from ipywidgets import FloatSlider, HBox, VBox\n",
    "import bqplot.pyplot as plt\n",
    "x = np.linspace(-10, 10, 200)\n",
    "y = norm.pdf(x)\n",
    "\n",
    "# plot the gaussian density\n",
    "title_tmpl = 'Gaussian Density (mu = {} and sigma = {})'\n",
    "pdf_fig = plt.figure(title=title_tmpl.format(0, 1))\n",
    "pdf_line = plt.plot(x, y, 'm', stroke_width=3)\n",
    "\n",
    "# use two sliders to represent mu and sigma\n",
    "mu_slider = FloatSlider(description='mu', value=0, min=-5, max=5, step=.1)\n",
    "sigma_slider = FloatSlider(description='sigma', value=1, min=0.1, max=5, step=.1)\n",
    "\n",
    "slider_layout = HBox([mu_slider, sigma_slider])\n",
    "\n",
    "def update_density(change):\n",
    "    new_mu = mu_slider.value\n",
    "    new_sigma = sigma_slider.value\n",
    "    # update the y attribute of the plot with the new pdf\n",
    "    # computed using new mu and sigma values\n",
    "    pdf_line.y = norm.pdf(x, new_mu, new_sigma)\n",
    "    \n",
    "    # also update the fig title\n",
    "    pdf_fig.title = title_tmpl.format(new_mu, new_sigma)\n",
    "\n",
    "# register the above callback with the 'value' trait of the sliders\n",
    "for slider in [mu_slider, sigma_slider]:\n",
    "    slider.observe(update_density, 'value')\n",
    "    \n",
    "# now put all the widgets together into a simple dashboard\n",
    "# the plot should update now when the slider values are updated!\n",
    "final_layout = VBox([pdf_fig, slider_layout])\n",
    "final_layout"
   ]
  },
  {
   "cell_type": "markdown",
   "metadata": {},
   "source": [
    "## Ipycanvas"
   ]
  },
  {
   "cell_type": "code",
   "execution_count": null,
   "metadata": {},
   "outputs": [],
   "source": [
    "from ipycanvas import MultiCanvas\n",
    "m = MultiCanvas(n_canvases=3, width=200, height=200)\n",
    "def draw_square(canvas, pos, width, color):\n",
    "    canvas.fill_style = color\n",
    "    canvas.fill_rect(pos, pos, width, width)\n",
    "draw_square(m[0], 0, 200, 'orange')\n",
    "m"
   ]
  },
  {
   "cell_type": "markdown",
   "metadata": {},
   "source": [
    "## Ipysheet"
   ]
  },
  {
   "cell_type": "code",
   "execution_count": null,
   "metadata": {},
   "outputs": [],
   "source": [
    "import numpy as np\n",
    "from traitlets import link\n",
    "from ipywidgets import HBox\n",
    "import bqplot.pyplot as plt\n",
    "from ipysheet import sheet, cell, column\n",
    "\n",
    "size = 18\n",
    "scale = 100.\n",
    "np.random.seed(0)\n",
    "x_data = np.arange(size)\n",
    "y_data = np.cumsum(np.random.randn(size)  * scale)\n",
    "\n",
    "fig = plt.figure()\n",
    "axes_options = {'x': {'label': 'Date', 'tick_format': '%m/%d'},\n",
    "                'y': {'label': 'Price', 'tick_format': '0.0f'}}\n",
    "\n",
    "scatt = plt.scatter(x_data, y_data, colors=['red'], stroke='black')\n",
    "fig.layout.width = '70%'\n",
    "\n",
    "sheet1 = sheet(rows=size, columns=2)\n",
    "x_column = column(0, x_data)\n",
    "y_column = column(1, y_data)\n",
    "\n",
    "link((scatt, 'x'), (x_column, 'value'))\n",
    "link((scatt, 'y'), (y_column, 'value'))\n",
    "\n",
    "HBox((fig, sheet1))"
   ]
  },
  {
   "cell_type": "markdown",
   "metadata": {},
   "source": [
    "## Ipympl"
   ]
  },
  {
   "cell_type": "code",
   "execution_count": null,
   "metadata": {},
   "outputs": [],
   "source": [
    "# Enabling the `widget` backend.\n",
    "# This requires jupyter-matplotlib a.k.a. ipympl.\n",
    "# ipympl can be install via pip or conda.\n",
    "%matplotlib widget\n",
    "\n",
    "import matplotlib.pyplot as plt\n",
    "import numpy as np"
   ]
  },
  {
   "cell_type": "code",
   "execution_count": null,
   "metadata": {},
   "outputs": [],
   "source": [
    "# Testing matplotlib interactions with a simple plot\n",
    "fig = plt.figure()\n",
    "plt.plot(np.sin(np.linspace(0, 20, 100)));"
   ]
  },
  {
   "cell_type": "code",
   "execution_count": null,
   "metadata": {},
   "outputs": [],
   "source": [
    "from mpl_toolkits.mplot3d import axes3d\n",
    "\n",
    "fig = plt.figure()\n",
    "ax = fig.add_subplot(111, projection='3d')\n",
    "\n",
    "# Grab some test data.\n",
    "X, Y, Z = axes3d.get_test_data(0.05)\n",
    "\n",
    "# Plot a basic wireframe.\n",
    "ax.plot_wireframe(X, Y, Z, rstride=10, cstride=10)\n",
    "\n",
    "plt.show()"
   ]
  },
  {
   "cell_type": "markdown",
   "metadata": {},
   "source": [
    "## Pythreejs"
   ]
  },
  {
   "cell_type": "code",
   "execution_count": null,
   "metadata": {},
   "outputs": [],
   "source": [
    "from pythreejs import *\n",
    "from IPython.display import display\n",
    "from math import pi\n",
    "# Reduce repo churn for examples with embedded state:\n",
    "from pythreejs._example_helper import use_example_model_ids\n",
    "use_example_model_ids()"
   ]
  },
  {
   "cell_type": "code",
   "execution_count": null,
   "metadata": {},
   "outputs": [],
   "source": [
    "BoxGeometry(\n",
    "    width=5, \n",
    "    height=10, \n",
    "    depth=15,\n",
    "    widthSegments=5, \n",
    "    heightSegments=10,\n",
    "    depthSegments=15)"
   ]
  },
  {
   "cell_type": "code",
   "execution_count": null,
   "metadata": {},
   "outputs": [],
   "source": [
    "IcosahedronGeometry(radius=10, _flat=True)"
   ]
  },
  {
   "cell_type": "code",
   "execution_count": null,
   "metadata": {},
   "outputs": [],
   "source": [
    "WireframeGeometry(geometry=TorusBufferGeometry(\n",
    "    radius=20,\n",
    "    tube=5,\n",
    "    radialSegments=6,\n",
    "    tubularSegments=20,\n",
    "    arc=2.0*pi\n",
    "))"
   ]
  },
  {
   "cell_type": "markdown",
   "metadata": {},
   "source": [
    "## Qgrid"
   ]
  },
  {
   "cell_type": "code",
   "execution_count": null,
   "metadata": {},
   "outputs": [],
   "source": [
    "import qgrid\n",
    "import pandas as pd\n",
    "import numpy as np\n",
    "randn = np.random.randn\n",
    "\n",
    "# Set this pandas option to prevent the grid from being too big\n",
    "pd.set_option('display.max_rows', 8)\n",
    "\n",
    "# Get a pandas DataFrame containing the daily prices for the S&P 500 from 1/1/2011 - 1/1/2014\n",
    "from pandas_datareader.data import get_data_yahoo\n",
    "spy = get_data_yahoo(\n",
    "    symbols='SPY',  \n",
    "    start=pd.Timestamp('2011-01-01'),  \n",
    "    end=pd.Timestamp('2014-01-01'),\n",
    "    adjust_price=True,\n",
    ")\n",
    "qgrid.show_grid(spy)"
   ]
  },
  {
   "cell_type": "markdown",
   "metadata": {},
   "source": [
    "## Seaborn"
   ]
  },
  {
   "cell_type": "code",
   "execution_count": null,
   "metadata": {},
   "outputs": [],
   "source": [
    "%matplotlib inline\n",
    "import numpy as np\n",
    "import pandas as pd"
   ]
  },
  {
   "cell_type": "code",
   "execution_count": null,
   "metadata": {},
   "outputs": [],
   "source": [
    "import seaborn as sns\n",
    "sns.set(style=\"ticks\")\n",
    "\n",
    "# Load the example dataset for Anscombe's quartet\n",
    "df = sns.load_dataset(\"anscombe\")\n",
    "\n",
    "# Show the results of a linear regression within each dataset\n",
    "sns.lmplot(x=\"x\", y=\"y\", col=\"dataset\", hue=\"dataset\", data=df,\n",
    "           col_wrap=2, ci=None, palette=\"muted\", height=4,\n",
    "           scatter_kws={\"s\": 50, \"alpha\": 1})\n",
    "\n"
   ]
  },
  {
   "cell_type": "code",
   "execution_count": null,
   "metadata": {},
   "outputs": [],
   "source": [
    "import seaborn as sns\n",
    "sns.set(style=\"ticks\")\n",
    "\n",
    "dots = sns.load_dataset(\"dots\")\n",
    "\n",
    "# Define a palette to ensure that colors will be\n",
    "# shared across the facets\n",
    "palette = dict(zip(dots.coherence.unique(),\n",
    "                   sns.color_palette(\"rocket_r\", 6)))\n",
    "\n",
    "# Plot the lines on two facets\n",
    "sns.relplot(x=\"time\", y=\"firing_rate\",\n",
    "            hue=\"coherence\", size=\"choice\", col=\"align\",\n",
    "            size_order=[\"T1\", \"T2\"], palette=palette,\n",
    "            height=5, aspect=.75, facet_kws=dict(sharex=False),\n",
    "            kind=\"line\", legend=\"full\", data=dots)"
   ]
  },
  {
   "cell_type": "markdown",
   "metadata": {},
   "source": [
    "## Ipython-sql"
   ]
  },
  {
   "cell_type": "code",
   "execution_count": 3,
   "metadata": {},
   "outputs": [],
   "source": [
    "%load_ext sql"
   ]
  },
  {
   "cell_type": "code",
   "execution_count": 4,
   "metadata": {},
   "outputs": [],
   "source": [
    "%sql sqlite://"
   ]
  },
  {
   "cell_type": "code",
   "execution_count": 6,
   "metadata": {},
   "outputs": [
    {
     "name": "stdout",
     "output_type": "stream",
     "text": [
      " * sqlite://\n",
      "(sqlite3.OperationalError) near \"(\": syntax error\n",
      "[SQL: create table(foo=integer)]\n",
      "(Background on this error at: http://sqlalche.me/e/e3q8)\n"
     ]
    }
   ],
   "source": [
    "%sql create table(foo=integer)"
   ]
  },
  {
   "cell_type": "code",
   "execution_count": null,
   "metadata": {},
   "outputs": [],
   "source": []
  }
 ],
 "metadata": {
  "kernelspec": {
   "display_name": "Python 3",
   "language": "python",
   "name": "python3"
  },
  "language_info": {
   "codemirror_mode": {
    "name": "ipython",
    "version": 3
   },
   "file_extension": ".py",
   "mimetype": "text/x-python",
   "name": "python",
   "nbconvert_exporter": "python",
   "pygments_lexer": "ipython3",
   "version": "3.8.5"
  }
 },
 "nbformat": 4,
 "nbformat_minor": 4
}
