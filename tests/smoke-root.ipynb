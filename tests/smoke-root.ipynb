{
 "cells": [
  {
   "cell_type": "markdown",
   "metadata": {},
   "source": [
    "Test jsroot\n",
    "// https://sft.its.cern.ch/jira/browse/ROOT-10956"
   ]
  },
  {
   "cell_type": "code",
   "execution_count": null,
   "metadata": {},
   "outputs": [],
   "source": [
    "void PhaseSpace() {\n",
    "   TLorentzVector target(0.0, 0.0, 0.0, 0.938);\n",
    "   TLorentzVector beam(0.0, 0.0, .65, .65);\n",
    "   TLorentzVector W = beam + target;\n",
    "   //(Momentum, Energy units are Gev/C, GeV)\n",
    "   Double_t masses[3] = { 0.938, 0.139, 0.139} ;\n",
    "   TGenPhaseSpace event;\n",
    "   event.SetDecay(W, 3, masses);\n",
    "   TH2F *h2 = new TH2F(\"h2\",\"h2\", 50,1.1,1.8, 50,1.1,1.8);\n",
    "   for (Int_t n=0;n<100000;n++) {\n",
    "      Double_t weight = event.Generate();\n",
    "      TLorentzVector *pProton = event.GetDecay(0);\n",
    "      TLorentzVector *pPip    = event.GetDecay(1);\n",
    "      TLorentzVector *pPim    = event.GetDecay(2);\n",
    "      TLorentzVector pPPip = *pProton + *pPip;\n",
    "      TLorentzVector pPPim = *pProton + *pPim;\n",
    "      h2->Fill(pPPip.M2() ,pPPim.M2() ,weight);\n",
    "   }\n",
    "   h2->Draw();\n",
    "}"
   ]
  },
  {
   "cell_type": "code",
   "execution_count": null,
   "metadata": {},
   "outputs": [],
   "source": [
    "PhaseSpace()"
   ]
  },
  {
   "cell_type": "code",
   "execution_count": null,
   "metadata": {},
   "outputs": [],
   "source": [
    "%jsroot on\n",
    "c1->Draw()"
   ]
  },
  {
   "cell_type": "markdown",
   "metadata": {},
   "source": [
    "// https://sft.its.cern.ch/jira/browse/ROOT-10958"
   ]
  },
  {
   "cell_type": "code",
   "execution_count": null,
   "metadata": {},
   "outputs": [],
   "source": [
    "#include \"TGeoManager.h\"\n",
    "\n",
    "void minimal()\n",
    "\n",
    "{\n",
    "//--- Definition of a simple geometry\n",
    "   TGeoManager *geom = new TGeoManager(\"Assemblies\",\n",
    "      \"Geometry using assemblies\");\n",
    "   Int_t i;\n",
    "   //--- define some materials\n",
    "   TGeoMaterial *matVacuum = new TGeoMaterial(\"Vacuum\", 0,0,0);\n",
    "   //--- define some media\n",
    "   TGeoMedium *Vacuum = new TGeoMedium(\"Vacuum\",1, matVacuum);\n",
    "   //--- make the top container volume\n",
    "   TGeoVolume *top = geom->MakeBox(\"TOP\", Vacuum, 1000., 1000., 100.);\n",
    "   geom->SetTopVolume(top);\n",
    "   geom->CloseGeometry();\n",
    "\n",
    "   geom->SetVisLevel(4);\n",
    "   geom->SetVisOption(0);\n",
    "   top->Draw();\n",
    "}"
   ]
  },
  {
   "cell_type": "code",
   "execution_count": null,
   "metadata": {},
   "outputs": [],
   "source": [
    "minimal()"
   ]
  },
  {
   "cell_type": "code",
   "execution_count": null,
   "metadata": {},
   "outputs": [],
   "source": []
  }
 ],
 "metadata": {
  "kernelspec": {
   "display_name": "ROOT C++ (Python 3)",
   "language": "c++",
   "name": "python3-jupyroot"
  },
  "language_info": {
   "codemirror_mode": "text/x-c++src",
   "file_extension": ".C",
   "mimetype": " text/x-c++src",
   "name": "c++"
  }
 },
 "nbformat": 4,
 "nbformat_minor": 4
}
